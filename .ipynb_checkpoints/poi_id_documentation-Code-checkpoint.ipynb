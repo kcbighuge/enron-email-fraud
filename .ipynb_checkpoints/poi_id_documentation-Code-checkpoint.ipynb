{
 "cells": [
  {
   "cell_type": "markdown",
   "metadata": {},
   "source": [
    "# Identify Fraud from Enron Email\n",
    "https://github.com/udacity/ud120-projects/tree/master/final_project"
   ]
  },
  {
   "cell_type": "markdown",
   "metadata": {},
   "source": [
    "## Project Overview\n",
    "\n",
    "In 2000, Enron was one of the largest companies in the United States. By 2002, it had collapsed into bankruptcy due to widespread corporate fraud. In the resulting Federal investigation, a significant amount of typically confidential information entered into the public record, including tens of thousands of emails and detailed financial data for top executives. \n",
    "\n",
    "In this project, we will attempt to identify \"persons of interest\" based on financial and email data made public as a result of the Enron scandal. We will build a \"persons of interest\" classifier to predict individuals who were indicted, reached a settlement or plea deal with the government, or testified in exchange for prosecution immunity.\n"
   ]
  },
  {
   "cell_type": "markdown",
   "metadata": {},
   "source": [
    "## Resources\n",
    "\n",
    "- **poi_id.py** : Starter code for the POI identifier, you will write your analysis here. You will also submit a version of this file for your evaluator to verify your algorithm and results. \n",
    "\n",
    "- **final_project_dataset.pkl** : The dataset for the project, more details below. \n",
    "\n",
    "- **tester.py** : When you turn in your analysis for evaluation by Udacity, you will submit the algorithm, dataset and list of features that you use (these are created automatically in poi_id.py). The evaluator will then use this code to test your result, to make sure we see performance that’s similar to what you report. You don’t need to do anything with this code, but we provide it for transparency and for your reference. "
   ]
  },
  {
   "cell_type": "markdown",
   "metadata": {},
   "source": [
    "## Dataset\n",
    "\n",
    "As preprocessing to this project, we've combined the Enron email and financial data into a dictionary, where each key-value pair in the dictionary corresponds to one person. The dictionary key is the person's name, and the value is another dictionary, which contains the names of all the features and their values for that person. The features in the data fall into three major types, namely financial features, email features and POI labels.\n",
    "\n",
    "- **financial features**:  \n",
    "`['salary', 'deferral_payments', 'total_payments', 'loan_advances', 'bonus', 'restricted_stock_deferred', 'deferred_income', 'total_stock_value', 'expenses', 'exercised_stock_options', 'other', 'long_term_incentive', 'restricted_stock', 'director_fees']`  \n",
    "(all units are in US dollars)\n",
    "\n",
    "- **email features**:  \n",
    "`['to_messages', 'email_address', 'from_poi_to_this_person', 'from_messages', 'from_this_person_to_poi', 'shared_receipt_with_poi']`  \n",
    "(units are generally number of emails messages; notable exception is ‘email_address’, which is a text string)\n",
    "\n",
    "- **POI label**:  \n",
    "`[‘poi’]`  \n",
    "(boolean, represented as integer)\n",
    "\n",
    "You are encouraged to make, transform or rescale new features from the starter features. If you do this, you should store the new feature to `my_dataset`, and if you use the new feature in the final algorithm, you should also add the feature name to `my_feature_list`."
   ]
  },
  {
   "cell_type": "code",
   "execution_count": 2,
   "metadata": {
    "collapsed": true
   },
   "outputs": [],
   "source": [
    "import sys\n",
    "import pickle\n",
    "import numpy as np\n",
    "import pandas as pd\n",
    "import seaborn as sns\n",
    "from IPython.display import display\n",
    "import matplotlib.pyplot as plt\n",
    "%matplotlib inline\n",
    "\n",
    "sys.path.append(\"./tools/\")\n",
    "\n",
    "from feature_format import featureFormat, targetFeatureSplit\n",
    "from tester import dump_classifier_and_data"
   ]
  },
  {
   "cell_type": "markdown",
   "metadata": {},
   "source": [
    "Select Features\n",
    "----------------"
   ]
  },
  {
   "cell_type": "code",
   "execution_count": 3,
   "metadata": {
    "collapsed": false
   },
   "outputs": [
    {
     "name": "stdout",
     "output_type": "stream",
     "text": [
      "Successfully loaded data with 146 samples & 21 features\n"
     ]
    }
   ],
   "source": [
    "### Task 1: Select what features you'll use.\n",
    "### features_list is a list of strings, each of which is a feature name.\n",
    "### The first feature must be \"poi\".\n",
    "features_list = ['poi','salary'] # You will need to use more features\n",
    "\n",
    "### Load the dictionary containing the dataset\n",
    "with open(\"final_project_dataset.pkl\", \"r\") as data_file:\n",
    "    try:\n",
    "        data_dict = pickle.load(data_file)\n",
    "        print \"Successfully loaded data with {} samples & {} features\".format(len(data_dict.keys()), \n",
    "                                                                              len(data_dict.values()[0]))\n",
    "    except:\n",
    "        print \"Dataset could not be loaded. Is the dataset missing?\""
   ]
  },
  {
   "cell_type": "code",
   "execution_count": 4,
   "metadata": {
    "collapsed": false
   },
   "outputs": [
    {
     "name": "stdout",
     "output_type": "stream",
     "text": [
      "(146, 21)\n"
     ]
    },
    {
     "data": {
      "text/html": [
       "<div>\n",
       "<table border=\"1\" class=\"dataframe\">\n",
       "  <thead>\n",
       "    <tr style=\"text-align: right;\">\n",
       "      <th></th>\n",
       "      <th>salary</th>\n",
       "      <th>to_messages</th>\n",
       "      <th>deferral_payments</th>\n",
       "      <th>total_payments</th>\n",
       "      <th>exercised_stock_options</th>\n",
       "      <th>bonus</th>\n",
       "      <th>restricted_stock</th>\n",
       "      <th>shared_receipt_with_poi</th>\n",
       "      <th>restricted_stock_deferred</th>\n",
       "      <th>total_stock_value</th>\n",
       "      <th>...</th>\n",
       "      <th>loan_advances</th>\n",
       "      <th>from_messages</th>\n",
       "      <th>other</th>\n",
       "      <th>from_this_person_to_poi</th>\n",
       "      <th>poi</th>\n",
       "      <th>director_fees</th>\n",
       "      <th>deferred_income</th>\n",
       "      <th>long_term_incentive</th>\n",
       "      <th>email_address</th>\n",
       "      <th>from_poi_to_this_person</th>\n",
       "    </tr>\n",
       "  </thead>\n",
       "  <tbody>\n",
       "    <tr>\n",
       "      <th>ALLEN PHILLIP K</th>\n",
       "      <td>201955</td>\n",
       "      <td>2902</td>\n",
       "      <td>2869717</td>\n",
       "      <td>4484442</td>\n",
       "      <td>1729541</td>\n",
       "      <td>4175000</td>\n",
       "      <td>126027</td>\n",
       "      <td>1407</td>\n",
       "      <td>-126027</td>\n",
       "      <td>1729541</td>\n",
       "      <td>...</td>\n",
       "      <td>NaN</td>\n",
       "      <td>2195</td>\n",
       "      <td>152</td>\n",
       "      <td>65</td>\n",
       "      <td>False</td>\n",
       "      <td>NaN</td>\n",
       "      <td>-3081055</td>\n",
       "      <td>304805</td>\n",
       "      <td>phillip.allen@enron.com</td>\n",
       "      <td>47</td>\n",
       "    </tr>\n",
       "    <tr>\n",
       "      <th>BADUM JAMES P</th>\n",
       "      <td>NaN</td>\n",
       "      <td>NaN</td>\n",
       "      <td>178980</td>\n",
       "      <td>182466</td>\n",
       "      <td>257817</td>\n",
       "      <td>NaN</td>\n",
       "      <td>NaN</td>\n",
       "      <td>NaN</td>\n",
       "      <td>NaN</td>\n",
       "      <td>257817</td>\n",
       "      <td>...</td>\n",
       "      <td>NaN</td>\n",
       "      <td>NaN</td>\n",
       "      <td>NaN</td>\n",
       "      <td>NaN</td>\n",
       "      <td>False</td>\n",
       "      <td>NaN</td>\n",
       "      <td>NaN</td>\n",
       "      <td>NaN</td>\n",
       "      <td>NaN</td>\n",
       "      <td>NaN</td>\n",
       "    </tr>\n",
       "    <tr>\n",
       "      <th>BANNANTINE JAMES M</th>\n",
       "      <td>477</td>\n",
       "      <td>566</td>\n",
       "      <td>NaN</td>\n",
       "      <td>916197</td>\n",
       "      <td>4046157</td>\n",
       "      <td>NaN</td>\n",
       "      <td>1757552</td>\n",
       "      <td>465</td>\n",
       "      <td>-560222</td>\n",
       "      <td>5243487</td>\n",
       "      <td>...</td>\n",
       "      <td>NaN</td>\n",
       "      <td>29</td>\n",
       "      <td>864523</td>\n",
       "      <td>0</td>\n",
       "      <td>False</td>\n",
       "      <td>NaN</td>\n",
       "      <td>-5104</td>\n",
       "      <td>NaN</td>\n",
       "      <td>james.bannantine@enron.com</td>\n",
       "      <td>39</td>\n",
       "    </tr>\n",
       "  </tbody>\n",
       "</table>\n",
       "<p>3 rows × 21 columns</p>\n",
       "</div>"
      ],
      "text/plain": [
       "                    salary to_messages deferral_payments total_payments  \\\n",
       "ALLEN PHILLIP K     201955        2902           2869717        4484442   \n",
       "BADUM JAMES P          NaN         NaN            178980         182466   \n",
       "BANNANTINE JAMES M     477         566               NaN         916197   \n",
       "\n",
       "                   exercised_stock_options    bonus restricted_stock  \\\n",
       "ALLEN PHILLIP K                    1729541  4175000           126027   \n",
       "BADUM JAMES P                       257817      NaN              NaN   \n",
       "BANNANTINE JAMES M                 4046157      NaN          1757552   \n",
       "\n",
       "                   shared_receipt_with_poi restricted_stock_deferred  \\\n",
       "ALLEN PHILLIP K                       1407                   -126027   \n",
       "BADUM JAMES P                          NaN                       NaN   \n",
       "BANNANTINE JAMES M                     465                   -560222   \n",
       "\n",
       "                   total_stock_value           ...           loan_advances  \\\n",
       "ALLEN PHILLIP K              1729541           ...                     NaN   \n",
       "BADUM JAMES P                 257817           ...                     NaN   \n",
       "BANNANTINE JAMES M           5243487           ...                     NaN   \n",
       "\n",
       "                   from_messages   other from_this_person_to_poi    poi  \\\n",
       "ALLEN PHILLIP K             2195     152                      65  False   \n",
       "BADUM JAMES P                NaN     NaN                     NaN  False   \n",
       "BANNANTINE JAMES M            29  864523                       0  False   \n",
       "\n",
       "                   director_fees deferred_income long_term_incentive  \\\n",
       "ALLEN PHILLIP K              NaN        -3081055              304805   \n",
       "BADUM JAMES P                NaN             NaN                 NaN   \n",
       "BANNANTINE JAMES M           NaN           -5104                 NaN   \n",
       "\n",
       "                                 email_address from_poi_to_this_person  \n",
       "ALLEN PHILLIP K        phillip.allen@enron.com                      47  \n",
       "BADUM JAMES P                              NaN                     NaN  \n",
       "BANNANTINE JAMES M  james.bannantine@enron.com                      39  \n",
       "\n",
       "[3 rows x 21 columns]"
      ]
     },
     "metadata": {},
     "output_type": "display_data"
    }
   ],
   "source": [
    "# create df from dict, don't remove any data\n",
    "df = pd.DataFrame.from_dict(data_dict, orient='index')\n",
    "print df.shape\n",
    "df['poi'] = df.poi.astype(object)\n",
    "\n",
    "display(df.head(3))"
   ]
  },
  {
   "cell_type": "code",
   "execution_count": 5,
   "metadata": {
    "collapsed": false,
    "scrolled": true
   },
   "outputs": [
    {
     "name": "stdout",
     "output_type": "stream",
     "text": [
      "LOCKHART EUGENE E\n",
      "salary                         NaN\n",
      "to_messages                    NaN\n",
      "deferral_payments              NaN\n",
      "total_payments                 NaN\n",
      "exercised_stock_options        NaN\n",
      "bonus                          NaN\n",
      "restricted_stock               NaN\n",
      "shared_receipt_with_poi        NaN\n",
      "restricted_stock_deferred      NaN\n",
      "total_stock_value              NaN\n",
      "expenses                       NaN\n",
      "loan_advances                  NaN\n",
      "from_messages                  NaN\n",
      "other                          NaN\n",
      "from_this_person_to_poi        NaN\n",
      "poi                          False\n",
      "director_fees                  NaN\n",
      "deferred_income                NaN\n",
      "long_term_incentive            NaN\n",
      "email_address                  NaN\n",
      "from_poi_to_this_person        NaN\n",
      "Name: LOCKHART EUGENE E, dtype: object\n"
     ]
    }
   ],
   "source": [
    "print df.index[84]\n",
    "print df.ix['LOCKHART EUGENE E']"
   ]
  },
  {
   "cell_type": "code",
   "execution_count": 6,
   "metadata": {
    "collapsed": false,
    "scrolled": true
   },
   "outputs": [
    {
     "name": "stdout",
     "output_type": "stream",
     "text": [
      "data points: 144\n",
      "persons: 144\n"
     ]
    }
   ],
   "source": [
    "# remove the guy with all nulls and the TOTAL\n",
    "clean_dict = dict(data_dict)\n",
    "del clean_dict['LOCKHART EUGENE E']\n",
    "del clean_dict['TOTAL']\n",
    "print 'data points: {}'.format(len(clean_dict))\n",
    "\n",
    "persons = clean_dict.keys()\n",
    "print 'persons: {}'.format(len(persons))"
   ]
  },
  {
   "cell_type": "markdown",
   "metadata": {},
   "source": [
    "### Create features and labels"
   ]
  },
  {
   "cell_type": "code",
   "execution_count": 7,
   "metadata": {
    "collapsed": false
   },
   "outputs": [],
   "source": [
    "### Extract features and labels from dataset for local testing\n",
    "features_list = ['poi','salary']\n",
    "features_list.extend([i for i in data_dict.values()[0].keys() if i not in ['salary', 'poi', 'email_address']])\n",
    "\n",
    "# create array of all data dict with nulls removed\n",
    "#data = featureFormat(data_dict, features_list, sort_keys = True, remove_NaN=True)\n",
    "\n",
    "# create array of cleaned data dict with nulls perserved\n",
    "data = featureFormat(clean_dict, features_list, sort_keys = True, remove_NaN=False)\n",
    "labels, features = targetFeatureSplit(data)\n",
    "\n",
    "# create array of all data, with nulls removed\n",
    "data_all = featureFormat(data_dict, features_list, sort_keys = True, remove_NaN=False)\n",
    "y_all, X_all = targetFeatureSplit(data_all)"
   ]
  },
  {
   "cell_type": "code",
   "execution_count": 8,
   "metadata": {
    "collapsed": false
   },
   "outputs": [
    {
     "name": "stdout",
     "output_type": "stream",
     "text": [
      "144\n",
      "144\n"
     ]
    }
   ],
   "source": [
    "print len(features)\n",
    "print len(labels)"
   ]
  },
  {
   "cell_type": "code",
   "execution_count": 9,
   "metadata": {
    "collapsed": false
   },
   "outputs": [
    {
     "name": "stdout",
     "output_type": "stream",
     "text": [
      "Features: (144, 19)\n",
      "Labels: (144,)\n",
      "\n",
      "All Features: (146, 19)\n",
      "All Labels: (146,)\n"
     ]
    }
   ],
   "source": [
    "# convert arrays with pandas\n",
    "labels = pd.Series(labels)\n",
    "features = pd.DataFrame(features, columns = features_list[1:])\n",
    "\n",
    "print \"Features: {}\".format(features.shape)\n",
    "print \"Labels: {}\\n\".format(labels.shape)\n",
    "\n",
    "# convert arrays with pandas\n",
    "y_all = pd.Series(y_all)\n",
    "X_all = pd.DataFrame(X_all, columns = features_list[1:])\n",
    "\n",
    "print \"All Features: {}\".format(X_all.shape)\n",
    "print \"All Labels: {}\".format(y_all.shape)"
   ]
  },
  {
   "cell_type": "markdown",
   "metadata": {},
   "source": [
    "### Where is the row with all null values?"
   ]
  },
  {
   "cell_type": "code",
   "execution_count": 70,
   "metadata": {
    "collapsed": false
   },
   "outputs": [
    {
     "name": "stdout",
     "output_type": "stream",
     "text": [
      "[274, 228]\n"
     ]
    },
    {
     "data": {
      "text/html": [
       "<div>\n",
       "<table border=\"1\" class=\"dataframe\">\n",
       "  <thead>\n",
       "    <tr style=\"text-align: right;\">\n",
       "      <th></th>\n",
       "      <th>salary</th>\n",
       "      <th>to_messages</th>\n",
       "      <th>deferral_payments</th>\n",
       "      <th>total_payments</th>\n",
       "      <th>exercised_stock_options</th>\n",
       "      <th>bonus</th>\n",
       "      <th>restricted_stock</th>\n",
       "      <th>shared_receipt_with_poi</th>\n",
       "      <th>restricted_stock_deferred</th>\n",
       "      <th>total_stock_value</th>\n",
       "      <th>expenses</th>\n",
       "      <th>loan_advances</th>\n",
       "      <th>from_messages</th>\n",
       "      <th>other</th>\n",
       "      <th>from_this_person_to_poi</th>\n",
       "      <th>director_fees</th>\n",
       "      <th>deferred_income</th>\n",
       "      <th>long_term_incentive</th>\n",
       "      <th>from_poi_to_this_person</th>\n",
       "    </tr>\n",
       "  </thead>\n",
       "  <tbody>\n",
       "    <tr>\n",
       "      <th>274</th>\n",
       "      <td>26704229.0</td>\n",
       "      <td>0.0</td>\n",
       "      <td>32083396.0</td>\n",
       "      <td>309886585.0</td>\n",
       "      <td>311764000.0</td>\n",
       "      <td>97343619.0</td>\n",
       "      <td>130322299.0</td>\n",
       "      <td>0.0</td>\n",
       "      <td>-7576788.0</td>\n",
       "      <td>434509511.0</td>\n",
       "      <td>5235198.0</td>\n",
       "      <td>83925000.0</td>\n",
       "      <td>0.0</td>\n",
       "      <td>42667589.0</td>\n",
       "      <td>0.0</td>\n",
       "      <td>1398517.0</td>\n",
       "      <td>-27992891.0</td>\n",
       "      <td>48521928.0</td>\n",
       "      <td>0.0</td>\n",
       "    </tr>\n",
       "    <tr>\n",
       "      <th>228</th>\n",
       "      <td>0.0</td>\n",
       "      <td>0.0</td>\n",
       "      <td>0.0</td>\n",
       "      <td>0.0</td>\n",
       "      <td>0.0</td>\n",
       "      <td>0.0</td>\n",
       "      <td>0.0</td>\n",
       "      <td>0.0</td>\n",
       "      <td>0.0</td>\n",
       "      <td>0.0</td>\n",
       "      <td>0.0</td>\n",
       "      <td>0.0</td>\n",
       "      <td>0.0</td>\n",
       "      <td>0.0</td>\n",
       "      <td>0.0</td>\n",
       "      <td>0.0</td>\n",
       "      <td>0.0</td>\n",
       "      <td>0.0</td>\n",
       "      <td>0.0</td>\n",
       "    </tr>\n",
       "  </tbody>\n",
       "</table>\n",
       "</div>"
      ],
      "text/plain": [
       "         salary  to_messages  deferral_payments  total_payments  \\\n",
       "274  26704229.0          0.0         32083396.0     309886585.0   \n",
       "228         0.0          0.0                0.0             0.0   \n",
       "\n",
       "     exercised_stock_options       bonus  restricted_stock  \\\n",
       "274              311764000.0  97343619.0       130322299.0   \n",
       "228                      0.0         0.0               0.0   \n",
       "\n",
       "     shared_receipt_with_poi  restricted_stock_deferred  total_stock_value  \\\n",
       "274                      0.0                 -7576788.0        434509511.0   \n",
       "228                      0.0                        0.0                0.0   \n",
       "\n",
       "      expenses  loan_advances  from_messages       other  \\\n",
       "274  5235198.0     83925000.0            0.0  42667589.0   \n",
       "228        0.0            0.0            0.0         0.0   \n",
       "\n",
       "     from_this_person_to_poi  director_fees  deferred_income  \\\n",
       "274                      0.0      1398517.0      -27992891.0   \n",
       "228                      0.0            0.0              0.0   \n",
       "\n",
       "     long_term_incentive  from_poi_to_this_person  \n",
       "274           48521928.0                      0.0  \n",
       "228                  0.0                      0.0  "
      ]
     },
     "execution_count": 70,
     "metadata": {},
     "output_type": "execute_result"
    }
   ],
   "source": [
    "# where did the 1 instance go?\n",
    "# http://stackoverflow.com/questions/20225110/comparing-two-dataframes-and-getting-the-differences\n",
    "df_stack = pd.concat([features.fillna(0.), X_all.fillna(0.)]).reset_index(drop=True)\n",
    "df_gpby = df_stack.groupby(list(df_stack.columns))\n",
    "idx = [x[0] for x in df_gpby.groups.values() if len(x) == 1]\n",
    "print idx\n",
    "df_stack.reindex(idx)"
   ]
  },
  {
   "cell_type": "code",
   "execution_count": 23,
   "metadata": {
    "collapsed": false
   },
   "outputs": [
    {
     "name": "stdout",
     "output_type": "stream",
     "text": [
      "salary                      NaN\n",
      "to_messages                 NaN\n",
      "deferral_payments           NaN\n",
      "total_payments              NaN\n",
      "exercised_stock_options     NaN\n",
      "bonus                       NaN\n",
      "restricted_stock            NaN\n",
      "shared_receipt_with_poi     NaN\n",
      "restricted_stock_deferred   NaN\n",
      "total_stock_value           NaN\n",
      "expenses                    NaN\n",
      "loan_advances               NaN\n",
      "from_messages               NaN\n",
      "other                       NaN\n",
      "from_this_person_to_poi     NaN\n",
      "director_fees               NaN\n",
      "deferred_income             NaN\n",
      "long_term_incentive         NaN\n",
      "from_poi_to_this_person     NaN\n",
      "Name: 84, dtype: float64\n",
      "0.0\n"
     ]
    }
   ],
   "source": [
    "print X_all.ix[84]\n",
    "print y_all.ix[84]"
   ]
  },
  {
   "cell_type": "code",
   "execution_count": 71,
   "metadata": {
    "collapsed": false
   },
   "outputs": [
    {
     "name": "stdout",
     "output_type": "stream",
     "text": [
      "(144, 20)\n"
     ]
    },
    {
     "data": {
      "text/html": [
       "<div>\n",
       "<table border=\"1\" class=\"dataframe\">\n",
       "  <thead>\n",
       "    <tr style=\"text-align: right;\">\n",
       "      <th></th>\n",
       "      <th>salary</th>\n",
       "      <th>to_messages</th>\n",
       "      <th>deferral_payments</th>\n",
       "      <th>total_payments</th>\n",
       "      <th>exercised_stock_options</th>\n",
       "      <th>bonus</th>\n",
       "      <th>restricted_stock</th>\n",
       "      <th>shared_receipt_with_poi</th>\n",
       "      <th>restricted_stock_deferred</th>\n",
       "      <th>total_stock_value</th>\n",
       "      <th>expenses</th>\n",
       "      <th>loan_advances</th>\n",
       "      <th>from_messages</th>\n",
       "      <th>other</th>\n",
       "      <th>from_this_person_to_poi</th>\n",
       "      <th>director_fees</th>\n",
       "      <th>deferred_income</th>\n",
       "      <th>long_term_incentive</th>\n",
       "      <th>from_poi_to_this_person</th>\n",
       "      <th>target</th>\n",
       "    </tr>\n",
       "  </thead>\n",
       "  <tbody>\n",
       "    <tr>\n",
       "      <th>0</th>\n",
       "      <td>201955.0</td>\n",
       "      <td>2902.0</td>\n",
       "      <td>2869717.0</td>\n",
       "      <td>4484442.0</td>\n",
       "      <td>1729541.0</td>\n",
       "      <td>4175000.0</td>\n",
       "      <td>126027.0</td>\n",
       "      <td>1407.0</td>\n",
       "      <td>-126027.0</td>\n",
       "      <td>1729541.0</td>\n",
       "      <td>13868.0</td>\n",
       "      <td>-1.0</td>\n",
       "      <td>2195.0</td>\n",
       "      <td>152.0</td>\n",
       "      <td>65.0</td>\n",
       "      <td>-1.0</td>\n",
       "      <td>-3081055.0</td>\n",
       "      <td>304805.0</td>\n",
       "      <td>47.0</td>\n",
       "      <td>0.0</td>\n",
       "    </tr>\n",
       "    <tr>\n",
       "      <th>1</th>\n",
       "      <td>-1.0</td>\n",
       "      <td>-1.0</td>\n",
       "      <td>178980.0</td>\n",
       "      <td>182466.0</td>\n",
       "      <td>257817.0</td>\n",
       "      <td>-1.0</td>\n",
       "      <td>-1.0</td>\n",
       "      <td>-1.0</td>\n",
       "      <td>-1.0</td>\n",
       "      <td>257817.0</td>\n",
       "      <td>3486.0</td>\n",
       "      <td>-1.0</td>\n",
       "      <td>-1.0</td>\n",
       "      <td>-1.0</td>\n",
       "      <td>-1.0</td>\n",
       "      <td>-1.0</td>\n",
       "      <td>-1.0</td>\n",
       "      <td>-1.0</td>\n",
       "      <td>-1.0</td>\n",
       "      <td>0.0</td>\n",
       "    </tr>\n",
       "    <tr>\n",
       "      <th>2</th>\n",
       "      <td>477.0</td>\n",
       "      <td>566.0</td>\n",
       "      <td>-1.0</td>\n",
       "      <td>916197.0</td>\n",
       "      <td>4046157.0</td>\n",
       "      <td>-1.0</td>\n",
       "      <td>1757552.0</td>\n",
       "      <td>465.0</td>\n",
       "      <td>-560222.0</td>\n",
       "      <td>5243487.0</td>\n",
       "      <td>56301.0</td>\n",
       "      <td>-1.0</td>\n",
       "      <td>29.0</td>\n",
       "      <td>864523.0</td>\n",
       "      <td>0.0</td>\n",
       "      <td>-1.0</td>\n",
       "      <td>-5104.0</td>\n",
       "      <td>-1.0</td>\n",
       "      <td>39.0</td>\n",
       "      <td>0.0</td>\n",
       "    </tr>\n",
       "    <tr>\n",
       "      <th>3</th>\n",
       "      <td>267102.0</td>\n",
       "      <td>-1.0</td>\n",
       "      <td>1295738.0</td>\n",
       "      <td>5634343.0</td>\n",
       "      <td>6680544.0</td>\n",
       "      <td>1200000.0</td>\n",
       "      <td>3942714.0</td>\n",
       "      <td>-1.0</td>\n",
       "      <td>-1.0</td>\n",
       "      <td>10623258.0</td>\n",
       "      <td>11200.0</td>\n",
       "      <td>-1.0</td>\n",
       "      <td>-1.0</td>\n",
       "      <td>2660303.0</td>\n",
       "      <td>-1.0</td>\n",
       "      <td>-1.0</td>\n",
       "      <td>-1386055.0</td>\n",
       "      <td>1586055.0</td>\n",
       "      <td>-1.0</td>\n",
       "      <td>0.0</td>\n",
       "    </tr>\n",
       "    <tr>\n",
       "      <th>4</th>\n",
       "      <td>239671.0</td>\n",
       "      <td>-1.0</td>\n",
       "      <td>260455.0</td>\n",
       "      <td>827696.0</td>\n",
       "      <td>-1.0</td>\n",
       "      <td>400000.0</td>\n",
       "      <td>145796.0</td>\n",
       "      <td>-1.0</td>\n",
       "      <td>-82782.0</td>\n",
       "      <td>63014.0</td>\n",
       "      <td>129142.0</td>\n",
       "      <td>-1.0</td>\n",
       "      <td>-1.0</td>\n",
       "      <td>69.0</td>\n",
       "      <td>-1.0</td>\n",
       "      <td>-1.0</td>\n",
       "      <td>-201641.0</td>\n",
       "      <td>-1.0</td>\n",
       "      <td>-1.0</td>\n",
       "      <td>0.0</td>\n",
       "    </tr>\n",
       "  </tbody>\n",
       "</table>\n",
       "</div>"
      ],
      "text/plain": [
       "     salary  to_messages  deferral_payments  total_payments  \\\n",
       "0  201955.0       2902.0          2869717.0       4484442.0   \n",
       "1      -1.0         -1.0           178980.0        182466.0   \n",
       "2     477.0        566.0               -1.0        916197.0   \n",
       "3  267102.0         -1.0          1295738.0       5634343.0   \n",
       "4  239671.0         -1.0           260455.0        827696.0   \n",
       "\n",
       "   exercised_stock_options      bonus  restricted_stock  \\\n",
       "0                1729541.0  4175000.0          126027.0   \n",
       "1                 257817.0       -1.0              -1.0   \n",
       "2                4046157.0       -1.0         1757552.0   \n",
       "3                6680544.0  1200000.0         3942714.0   \n",
       "4                     -1.0   400000.0          145796.0   \n",
       "\n",
       "   shared_receipt_with_poi  restricted_stock_deferred  total_stock_value  \\\n",
       "0                   1407.0                  -126027.0          1729541.0   \n",
       "1                     -1.0                       -1.0           257817.0   \n",
       "2                    465.0                  -560222.0          5243487.0   \n",
       "3                     -1.0                       -1.0         10623258.0   \n",
       "4                     -1.0                   -82782.0            63014.0   \n",
       "\n",
       "   expenses  loan_advances  from_messages      other  from_this_person_to_poi  \\\n",
       "0   13868.0           -1.0         2195.0      152.0                     65.0   \n",
       "1    3486.0           -1.0           -1.0       -1.0                     -1.0   \n",
       "2   56301.0           -1.0           29.0   864523.0                      0.0   \n",
       "3   11200.0           -1.0           -1.0  2660303.0                     -1.0   \n",
       "4  129142.0           -1.0           -1.0       69.0                     -1.0   \n",
       "\n",
       "   director_fees  deferred_income  long_term_incentive  \\\n",
       "0           -1.0       -3081055.0             304805.0   \n",
       "1           -1.0             -1.0                 -1.0   \n",
       "2           -1.0          -5104.0                 -1.0   \n",
       "3           -1.0       -1386055.0            1586055.0   \n",
       "4           -1.0        -201641.0                 -1.0   \n",
       "\n",
       "   from_poi_to_this_person  target  \n",
       "0                     47.0     0.0  \n",
       "1                     -1.0     0.0  \n",
       "2                     39.0     0.0  \n",
       "3                     -1.0     0.0  \n",
       "4                     -1.0     0.0  "
      ]
     },
     "execution_count": 71,
     "metadata": {},
     "output_type": "execute_result"
    }
   ],
   "source": [
    "df_all = pd.concat([features, pd.Series(labels, name='target')],axis=1)\n",
    "print df_all.shape\n",
    "\n",
    "# fill na with -1\n",
    "df_all.fillna(-1, inplace=True)\n",
    "df_all.head()"
   ]
  },
  {
   "cell_type": "code",
   "execution_count": 27,
   "metadata": {
    "collapsed": false
   },
   "outputs": [
    {
     "name": "stdout",
     "output_type": "stream",
     "text": [
      "18.0\n"
     ]
    },
    {
     "data": {
      "text/plain": [
       "0.125"
      ]
     },
     "execution_count": 27,
     "metadata": {},
     "output_type": "execute_result"
    }
   ],
   "source": [
    "# how many POI target are there?\n",
    "print sum(df_all['target'])\n",
    "sum(df_all['target']) / df_all.shape[0]"
   ]
  },
  {
   "cell_type": "code",
   "execution_count": 28,
   "metadata": {
    "collapsed": false
   },
   "outputs": [
    {
     "data": {
      "text/html": [
       "<div>\n",
       "<table border=\"1\" class=\"dataframe\">\n",
       "  <thead>\n",
       "    <tr style=\"text-align: right;\">\n",
       "      <th></th>\n",
       "      <th>salary</th>\n",
       "      <th>to_messages</th>\n",
       "      <th>deferral_payments</th>\n",
       "      <th>total_payments</th>\n",
       "      <th>exercised_stock_options</th>\n",
       "      <th>bonus</th>\n",
       "      <th>restricted_stock</th>\n",
       "      <th>shared_receipt_with_poi</th>\n",
       "      <th>restricted_stock_deferred</th>\n",
       "      <th>total_stock_value</th>\n",
       "      <th>expenses</th>\n",
       "      <th>loan_advances</th>\n",
       "      <th>from_messages</th>\n",
       "      <th>other</th>\n",
       "      <th>from_this_person_to_poi</th>\n",
       "      <th>director_fees</th>\n",
       "      <th>deferred_income</th>\n",
       "      <th>long_term_incentive</th>\n",
       "      <th>from_poi_to_this_person</th>\n",
       "      <th>target</th>\n",
       "    </tr>\n",
       "  </thead>\n",
       "  <tbody>\n",
       "    <tr>\n",
       "      <th>count</th>\n",
       "      <td>1.440000e+02</td>\n",
       "      <td>144.000000</td>\n",
       "      <td>1.440000e+02</td>\n",
       "      <td>1.440000e+02</td>\n",
       "      <td>1.440000e+02</td>\n",
       "      <td>1.440000e+02</td>\n",
       "      <td>1.440000e+02</td>\n",
       "      <td>144.000000</td>\n",
       "      <td>1.440000e+02</td>\n",
       "      <td>1.440000e+02</td>\n",
       "      <td>144.000000</td>\n",
       "      <td>1.440000e+02</td>\n",
       "      <td>144.000000</td>\n",
       "      <td>1.440000e+02</td>\n",
       "      <td>144.000000</td>\n",
       "      <td>144.000000</td>\n",
       "      <td>1.440000e+02</td>\n",
       "      <td>1.440000e+02</td>\n",
       "      <td>144.000000</td>\n",
       "      <td>144.000000</td>\n",
       "    </tr>\n",
       "    <tr>\n",
       "      <th>mean</th>\n",
       "      <td>1.854457e+05</td>\n",
       "      <td>1238.152778</td>\n",
       "      <td>2.220888e+05</td>\n",
       "      <td>2.259057e+06</td>\n",
       "      <td>2.075802e+06</td>\n",
       "      <td>6.759969e+05</td>\n",
       "      <td>8.685360e+05</td>\n",
       "      <td>702.208333</td>\n",
       "      <td>7.341702e+04</td>\n",
       "      <td>2.909785e+06</td>\n",
       "      <td>35374.993056</td>\n",
       "      <td>5.828115e+05</td>\n",
       "      <td>363.180556</td>\n",
       "      <td>2.972597e+05</td>\n",
       "      <td>24.222222</td>\n",
       "      <td>9979.430556</td>\n",
       "      <td>-1.936839e+05</td>\n",
       "      <td>3.369573e+05</td>\n",
       "      <td>38.354167</td>\n",
       "      <td>0.125000</td>\n",
       "    </tr>\n",
       "    <tr>\n",
       "      <th>std</th>\n",
       "      <td>1.970425e+05</td>\n",
       "      <td>2237.789367</td>\n",
       "      <td>7.541015e+05</td>\n",
       "      <td>8.846594e+06</td>\n",
       "      <td>4.795513e+06</td>\n",
       "      <td>1.233155e+06</td>\n",
       "      <td>2.016572e+06</td>\n",
       "      <td>1077.555346</td>\n",
       "      <td>1.301983e+06</td>\n",
       "      <td>6.189018e+06</td>\n",
       "      <td>45309.576030</td>\n",
       "      <td>6.794472e+06</td>\n",
       "      <td>1450.776974</td>\n",
       "      <td>1.131068e+06</td>\n",
       "      <td>79.904877</td>\n",
       "      <td>31300.860552</td>\n",
       "      <td>6.060109e+05</td>\n",
       "      <td>6.871828e+05</td>\n",
       "      <td>74.489730</td>\n",
       "      <td>0.331873</td>\n",
       "    </tr>\n",
       "    <tr>\n",
       "      <th>min</th>\n",
       "      <td>-1.000000e+00</td>\n",
       "      <td>-1.000000</td>\n",
       "      <td>-1.025000e+05</td>\n",
       "      <td>-1.000000e+00</td>\n",
       "      <td>-1.000000e+00</td>\n",
       "      <td>-1.000000e+00</td>\n",
       "      <td>-2.604490e+06</td>\n",
       "      <td>-1.000000</td>\n",
       "      <td>-1.787380e+06</td>\n",
       "      <td>-4.409300e+04</td>\n",
       "      <td>-1.000000</td>\n",
       "      <td>-1.000000e+00</td>\n",
       "      <td>-1.000000</td>\n",
       "      <td>-1.000000e+00</td>\n",
       "      <td>-1.000000</td>\n",
       "      <td>-1.000000</td>\n",
       "      <td>-3.504386e+06</td>\n",
       "      <td>-1.000000e+00</td>\n",
       "      <td>-1.000000</td>\n",
       "      <td>0.000000</td>\n",
       "    </tr>\n",
       "    <tr>\n",
       "      <th>25%</th>\n",
       "      <td>-1.000000e+00</td>\n",
       "      <td>-1.000000</td>\n",
       "      <td>-1.000000e+00</td>\n",
       "      <td>9.964825e+04</td>\n",
       "      <td>-1.000000e+00</td>\n",
       "      <td>-1.000000e+00</td>\n",
       "      <td>2.434475e+04</td>\n",
       "      <td>-1.000000</td>\n",
       "      <td>-1.000000e+00</td>\n",
       "      <td>2.443265e+05</td>\n",
       "      <td>-1.000000</td>\n",
       "      <td>-1.000000e+00</td>\n",
       "      <td>-1.000000</td>\n",
       "      <td>-1.000000e+00</td>\n",
       "      <td>-1.000000</td>\n",
       "      <td>-1.000000</td>\n",
       "      <td>-3.708600e+04</td>\n",
       "      <td>-1.000000e+00</td>\n",
       "      <td>-1.000000</td>\n",
       "      <td>0.000000</td>\n",
       "    </tr>\n",
       "    <tr>\n",
       "      <th>50%</th>\n",
       "      <td>2.105960e+05</td>\n",
       "      <td>347.500000</td>\n",
       "      <td>-1.000000e+00</td>\n",
       "      <td>9.413595e+05</td>\n",
       "      <td>6.082935e+05</td>\n",
       "      <td>3.000000e+05</td>\n",
       "      <td>3.605280e+05</td>\n",
       "      <td>114.000000</td>\n",
       "      <td>-1.000000e+00</td>\n",
       "      <td>9.659550e+05</td>\n",
       "      <td>20182.000000</td>\n",
       "      <td>-1.000000e+00</td>\n",
       "      <td>17.500000</td>\n",
       "      <td>9.595000e+02</td>\n",
       "      <td>0.000000</td>\n",
       "      <td>-1.000000</td>\n",
       "      <td>-1.000000e+00</td>\n",
       "      <td>-1.000000e+00</td>\n",
       "      <td>4.000000</td>\n",
       "      <td>0.000000</td>\n",
       "    </tr>\n",
       "    <tr>\n",
       "      <th>75%</th>\n",
       "      <td>2.696675e+05</td>\n",
       "      <td>1623.000000</td>\n",
       "      <td>8.535500e+03</td>\n",
       "      <td>1.945668e+06</td>\n",
       "      <td>1.683580e+06</td>\n",
       "      <td>8.000000e+05</td>\n",
       "      <td>7.374560e+05</td>\n",
       "      <td>933.750000</td>\n",
       "      <td>-1.000000e+00</td>\n",
       "      <td>2.295176e+06</td>\n",
       "      <td>53328.250000</td>\n",
       "      <td>-1.000000e+00</td>\n",
       "      <td>53.000000</td>\n",
       "      <td>1.505075e+05</td>\n",
       "      <td>14.000000</td>\n",
       "      <td>-1.000000</td>\n",
       "      <td>-1.000000e+00</td>\n",
       "      <td>3.745862e+05</td>\n",
       "      <td>41.250000</td>\n",
       "      <td>0.000000</td>\n",
       "    </tr>\n",
       "    <tr>\n",
       "      <th>max</th>\n",
       "      <td>1.111258e+06</td>\n",
       "      <td>15149.000000</td>\n",
       "      <td>6.426990e+06</td>\n",
       "      <td>1.035598e+08</td>\n",
       "      <td>3.434838e+07</td>\n",
       "      <td>8.000000e+06</td>\n",
       "      <td>1.476169e+07</td>\n",
       "      <td>5521.000000</td>\n",
       "      <td>1.545629e+07</td>\n",
       "      <td>4.911008e+07</td>\n",
       "      <td>228763.000000</td>\n",
       "      <td>8.152500e+07</td>\n",
       "      <td>14368.000000</td>\n",
       "      <td>1.035973e+07</td>\n",
       "      <td>609.000000</td>\n",
       "      <td>137864.000000</td>\n",
       "      <td>-1.000000e+00</td>\n",
       "      <td>5.145434e+06</td>\n",
       "      <td>528.000000</td>\n",
       "      <td>1.000000</td>\n",
       "    </tr>\n",
       "  </tbody>\n",
       "</table>\n",
       "</div>"
      ],
      "text/plain": [
       "             salary   to_messages  deferral_payments  total_payments  \\\n",
       "count  1.440000e+02    144.000000       1.440000e+02    1.440000e+02   \n",
       "mean   1.854457e+05   1238.152778       2.220888e+05    2.259057e+06   \n",
       "std    1.970425e+05   2237.789367       7.541015e+05    8.846594e+06   \n",
       "min   -1.000000e+00     -1.000000      -1.025000e+05   -1.000000e+00   \n",
       "25%   -1.000000e+00     -1.000000      -1.000000e+00    9.964825e+04   \n",
       "50%    2.105960e+05    347.500000      -1.000000e+00    9.413595e+05   \n",
       "75%    2.696675e+05   1623.000000       8.535500e+03    1.945668e+06   \n",
       "max    1.111258e+06  15149.000000       6.426990e+06    1.035598e+08   \n",
       "\n",
       "       exercised_stock_options         bonus  restricted_stock  \\\n",
       "count             1.440000e+02  1.440000e+02      1.440000e+02   \n",
       "mean              2.075802e+06  6.759969e+05      8.685360e+05   \n",
       "std               4.795513e+06  1.233155e+06      2.016572e+06   \n",
       "min              -1.000000e+00 -1.000000e+00     -2.604490e+06   \n",
       "25%              -1.000000e+00 -1.000000e+00      2.434475e+04   \n",
       "50%               6.082935e+05  3.000000e+05      3.605280e+05   \n",
       "75%               1.683580e+06  8.000000e+05      7.374560e+05   \n",
       "max               3.434838e+07  8.000000e+06      1.476169e+07   \n",
       "\n",
       "       shared_receipt_with_poi  restricted_stock_deferred  total_stock_value  \\\n",
       "count               144.000000               1.440000e+02       1.440000e+02   \n",
       "mean                702.208333               7.341702e+04       2.909785e+06   \n",
       "std                1077.555346               1.301983e+06       6.189018e+06   \n",
       "min                  -1.000000              -1.787380e+06      -4.409300e+04   \n",
       "25%                  -1.000000              -1.000000e+00       2.443265e+05   \n",
       "50%                 114.000000              -1.000000e+00       9.659550e+05   \n",
       "75%                 933.750000              -1.000000e+00       2.295176e+06   \n",
       "max                5521.000000               1.545629e+07       4.911008e+07   \n",
       "\n",
       "            expenses  loan_advances  from_messages         other  \\\n",
       "count     144.000000   1.440000e+02     144.000000  1.440000e+02   \n",
       "mean    35374.993056   5.828115e+05     363.180556  2.972597e+05   \n",
       "std     45309.576030   6.794472e+06    1450.776974  1.131068e+06   \n",
       "min        -1.000000  -1.000000e+00      -1.000000 -1.000000e+00   \n",
       "25%        -1.000000  -1.000000e+00      -1.000000 -1.000000e+00   \n",
       "50%     20182.000000  -1.000000e+00      17.500000  9.595000e+02   \n",
       "75%     53328.250000  -1.000000e+00      53.000000  1.505075e+05   \n",
       "max    228763.000000   8.152500e+07   14368.000000  1.035973e+07   \n",
       "\n",
       "       from_this_person_to_poi  director_fees  deferred_income  \\\n",
       "count               144.000000     144.000000     1.440000e+02   \n",
       "mean                 24.222222    9979.430556    -1.936839e+05   \n",
       "std                  79.904877   31300.860552     6.060109e+05   \n",
       "min                  -1.000000      -1.000000    -3.504386e+06   \n",
       "25%                  -1.000000      -1.000000    -3.708600e+04   \n",
       "50%                   0.000000      -1.000000    -1.000000e+00   \n",
       "75%                  14.000000      -1.000000    -1.000000e+00   \n",
       "max                 609.000000  137864.000000    -1.000000e+00   \n",
       "\n",
       "       long_term_incentive  from_poi_to_this_person      target  \n",
       "count         1.440000e+02               144.000000  144.000000  \n",
       "mean          3.369573e+05                38.354167    0.125000  \n",
       "std           6.871828e+05                74.489730    0.331873  \n",
       "min          -1.000000e+00                -1.000000    0.000000  \n",
       "25%          -1.000000e+00                -1.000000    0.000000  \n",
       "50%          -1.000000e+00                 4.000000    0.000000  \n",
       "75%           3.745862e+05                41.250000    0.000000  \n",
       "max           5.145434e+06               528.000000    1.000000  "
      ]
     },
     "execution_count": 28,
     "metadata": {},
     "output_type": "execute_result"
    }
   ],
   "source": [
    "# summary stats\n",
    "df_all.describe()"
   ]
  },
  {
   "cell_type": "code",
   "execution_count": 29,
   "metadata": {
    "collapsed": false
   },
   "outputs": [
    {
     "data": {
      "text/plain": [
       "False"
      ]
     },
     "execution_count": 29,
     "metadata": {},
     "output_type": "execute_result"
    }
   ],
   "source": [
    "df.isnull().values.any()"
   ]
  },
  {
   "cell_type": "code",
   "execution_count": 55,
   "metadata": {
    "collapsed": false
   },
   "outputs": [
    {
     "name": "stdout",
     "output_type": "stream",
     "text": [
      "salary 50\n",
      "to_messages 58\n",
      "deferral_payments 106\n",
      "total_payments 20\n",
      "exercised_stock_options 43\n",
      "bonus 63\n",
      "restricted_stock 35\n",
      "shared_receipt_with_poi 58\n",
      "restricted_stock_deferred 127\n",
      "total_stock_value 19\n",
      "expenses 50\n",
      "loan_advances 141\n",
      "from_messages 58\n",
      "other 52\n",
      "from_this_person_to_poi 58\n",
      "director_fees 128\n",
      "deferred_income 96\n",
      "long_term_incentive 79\n",
      "from_poi_to_this_person 58\n"
     ]
    }
   ],
   "source": [
    "# any missing/null values\n",
    "for col in features.columns:\n",
    "    print col, sum(features[col].isnull())"
   ]
  },
  {
   "cell_type": "markdown",
   "metadata": {},
   "source": [
    "### Fill null values in `features`"
   ]
  },
  {
   "cell_type": "code",
   "execution_count": 10,
   "metadata": {
    "collapsed": false
   },
   "outputs": [
    {
     "data": {
      "text/html": [
       "<div>\n",
       "<table border=\"1\" class=\"dataframe\">\n",
       "  <thead>\n",
       "    <tr style=\"text-align: right;\">\n",
       "      <th></th>\n",
       "      <th>salary</th>\n",
       "      <th>to_messages</th>\n",
       "      <th>deferral_payments</th>\n",
       "      <th>total_payments</th>\n",
       "      <th>exercised_stock_options</th>\n",
       "      <th>bonus</th>\n",
       "      <th>restricted_stock</th>\n",
       "      <th>shared_receipt_with_poi</th>\n",
       "      <th>restricted_stock_deferred</th>\n",
       "      <th>total_stock_value</th>\n",
       "      <th>expenses</th>\n",
       "      <th>loan_advances</th>\n",
       "      <th>from_messages</th>\n",
       "      <th>other</th>\n",
       "      <th>from_this_person_to_poi</th>\n",
       "      <th>director_fees</th>\n",
       "      <th>deferred_income</th>\n",
       "      <th>long_term_incentive</th>\n",
       "      <th>from_poi_to_this_person</th>\n",
       "    </tr>\n",
       "  </thead>\n",
       "  <tbody>\n",
       "    <tr>\n",
       "      <th>0</th>\n",
       "      <td>201955.0</td>\n",
       "      <td>2902.0</td>\n",
       "      <td>2869717.0</td>\n",
       "      <td>4484442.0</td>\n",
       "      <td>1729541.0</td>\n",
       "      <td>4175000.0</td>\n",
       "      <td>126027.0</td>\n",
       "      <td>1407.0</td>\n",
       "      <td>-126027.0</td>\n",
       "      <td>1729541.0</td>\n",
       "      <td>13868.0</td>\n",
       "      <td>-1.0</td>\n",
       "      <td>2195.0</td>\n",
       "      <td>152.0</td>\n",
       "      <td>65.0</td>\n",
       "      <td>-1.0</td>\n",
       "      <td>-3081055.0</td>\n",
       "      <td>304805.0</td>\n",
       "      <td>47.0</td>\n",
       "    </tr>\n",
       "    <tr>\n",
       "      <th>1</th>\n",
       "      <td>-1.0</td>\n",
       "      <td>-1.0</td>\n",
       "      <td>178980.0</td>\n",
       "      <td>182466.0</td>\n",
       "      <td>257817.0</td>\n",
       "      <td>-1.0</td>\n",
       "      <td>-1.0</td>\n",
       "      <td>-1.0</td>\n",
       "      <td>-1.0</td>\n",
       "      <td>257817.0</td>\n",
       "      <td>3486.0</td>\n",
       "      <td>-1.0</td>\n",
       "      <td>-1.0</td>\n",
       "      <td>-1.0</td>\n",
       "      <td>-1.0</td>\n",
       "      <td>-1.0</td>\n",
       "      <td>-1.0</td>\n",
       "      <td>-1.0</td>\n",
       "      <td>-1.0</td>\n",
       "    </tr>\n",
       "    <tr>\n",
       "      <th>2</th>\n",
       "      <td>477.0</td>\n",
       "      <td>566.0</td>\n",
       "      <td>-1.0</td>\n",
       "      <td>916197.0</td>\n",
       "      <td>4046157.0</td>\n",
       "      <td>-1.0</td>\n",
       "      <td>1757552.0</td>\n",
       "      <td>465.0</td>\n",
       "      <td>-560222.0</td>\n",
       "      <td>5243487.0</td>\n",
       "      <td>56301.0</td>\n",
       "      <td>-1.0</td>\n",
       "      <td>29.0</td>\n",
       "      <td>864523.0</td>\n",
       "      <td>0.0</td>\n",
       "      <td>-1.0</td>\n",
       "      <td>-5104.0</td>\n",
       "      <td>-1.0</td>\n",
       "      <td>39.0</td>\n",
       "    </tr>\n",
       "  </tbody>\n",
       "</table>\n",
       "</div>"
      ],
      "text/plain": [
       "     salary  to_messages  deferral_payments  total_payments  \\\n",
       "0  201955.0       2902.0          2869717.0       4484442.0   \n",
       "1      -1.0         -1.0           178980.0        182466.0   \n",
       "2     477.0        566.0               -1.0        916197.0   \n",
       "\n",
       "   exercised_stock_options      bonus  restricted_stock  \\\n",
       "0                1729541.0  4175000.0          126027.0   \n",
       "1                 257817.0       -1.0              -1.0   \n",
       "2                4046157.0       -1.0         1757552.0   \n",
       "\n",
       "   shared_receipt_with_poi  restricted_stock_deferred  total_stock_value  \\\n",
       "0                   1407.0                  -126027.0          1729541.0   \n",
       "1                     -1.0                       -1.0           257817.0   \n",
       "2                    465.0                  -560222.0          5243487.0   \n",
       "\n",
       "   expenses  loan_advances  from_messages     other  from_this_person_to_poi  \\\n",
       "0   13868.0           -1.0         2195.0     152.0                     65.0   \n",
       "1    3486.0           -1.0           -1.0      -1.0                     -1.0   \n",
       "2   56301.0           -1.0           29.0  864523.0                      0.0   \n",
       "\n",
       "   director_fees  deferred_income  long_term_incentive  \\\n",
       "0           -1.0       -3081055.0             304805.0   \n",
       "1           -1.0             -1.0                 -1.0   \n",
       "2           -1.0          -5104.0                 -1.0   \n",
       "\n",
       "   from_poi_to_this_person  \n",
       "0                     47.0  \n",
       "1                     -1.0  \n",
       "2                     39.0  "
      ]
     },
     "metadata": {},
     "output_type": "display_data"
    },
    {
     "data": {
      "text/html": [
       "<div>\n",
       "<table border=\"1\" class=\"dataframe\">\n",
       "  <thead>\n",
       "    <tr style=\"text-align: right;\">\n",
       "      <th></th>\n",
       "      <th>salary</th>\n",
       "      <th>to_messages</th>\n",
       "      <th>deferral_payments</th>\n",
       "      <th>total_payments</th>\n",
       "      <th>exercised_stock_options</th>\n",
       "      <th>bonus</th>\n",
       "      <th>restricted_stock</th>\n",
       "      <th>shared_receipt_with_poi</th>\n",
       "      <th>restricted_stock_deferred</th>\n",
       "      <th>total_stock_value</th>\n",
       "      <th>expenses</th>\n",
       "      <th>loan_advances</th>\n",
       "      <th>from_messages</th>\n",
       "      <th>other</th>\n",
       "      <th>from_this_person_to_poi</th>\n",
       "      <th>director_fees</th>\n",
       "      <th>deferred_income</th>\n",
       "      <th>long_term_incentive</th>\n",
       "      <th>from_poi_to_this_person</th>\n",
       "    </tr>\n",
       "  </thead>\n",
       "  <tbody>\n",
       "    <tr>\n",
       "      <th>141</th>\n",
       "      <td>-1.0</td>\n",
       "      <td>-1.0</td>\n",
       "      <td>-1.0</td>\n",
       "      <td>-1.0</td>\n",
       "      <td>139130.0</td>\n",
       "      <td>-1.0</td>\n",
       "      <td>-1.0</td>\n",
       "      <td>-1.0</td>\n",
       "      <td>-1.0</td>\n",
       "      <td>139130.0</td>\n",
       "      <td>-1.0</td>\n",
       "      <td>-1.0</td>\n",
       "      <td>-1.0</td>\n",
       "      <td>-1.0</td>\n",
       "      <td>-1.0</td>\n",
       "      <td>-1.0</td>\n",
       "      <td>-1.0</td>\n",
       "      <td>-1.0</td>\n",
       "      <td>-1.0</td>\n",
       "    </tr>\n",
       "    <tr>\n",
       "      <th>142</th>\n",
       "      <td>158403.0</td>\n",
       "      <td>-1.0</td>\n",
       "      <td>-1.0</td>\n",
       "      <td>360300.0</td>\n",
       "      <td>8308552.0</td>\n",
       "      <td>-1.0</td>\n",
       "      <td>3576206.0</td>\n",
       "      <td>-1.0</td>\n",
       "      <td>-1.0</td>\n",
       "      <td>11884758.0</td>\n",
       "      <td>53947.0</td>\n",
       "      <td>-1.0</td>\n",
       "      <td>-1.0</td>\n",
       "      <td>147950.0</td>\n",
       "      <td>-1.0</td>\n",
       "      <td>-1.0</td>\n",
       "      <td>-1.0</td>\n",
       "      <td>-1.0</td>\n",
       "      <td>-1.0</td>\n",
       "    </tr>\n",
       "    <tr>\n",
       "      <th>143</th>\n",
       "      <td>-1.0</td>\n",
       "      <td>-1.0</td>\n",
       "      <td>-1.0</td>\n",
       "      <td>55097.0</td>\n",
       "      <td>192758.0</td>\n",
       "      <td>-1.0</td>\n",
       "      <td>-1.0</td>\n",
       "      <td>-1.0</td>\n",
       "      <td>-1.0</td>\n",
       "      <td>192758.0</td>\n",
       "      <td>55097.0</td>\n",
       "      <td>-1.0</td>\n",
       "      <td>-1.0</td>\n",
       "      <td>-1.0</td>\n",
       "      <td>-1.0</td>\n",
       "      <td>-1.0</td>\n",
       "      <td>-1.0</td>\n",
       "      <td>-1.0</td>\n",
       "      <td>-1.0</td>\n",
       "    </tr>\n",
       "  </tbody>\n",
       "</table>\n",
       "</div>"
      ],
      "text/plain": [
       "       salary  to_messages  deferral_payments  total_payments  \\\n",
       "141      -1.0         -1.0               -1.0            -1.0   \n",
       "142  158403.0         -1.0               -1.0        360300.0   \n",
       "143      -1.0         -1.0               -1.0         55097.0   \n",
       "\n",
       "     exercised_stock_options  bonus  restricted_stock  \\\n",
       "141                 139130.0   -1.0              -1.0   \n",
       "142                8308552.0   -1.0         3576206.0   \n",
       "143                 192758.0   -1.0              -1.0   \n",
       "\n",
       "     shared_receipt_with_poi  restricted_stock_deferred  total_stock_value  \\\n",
       "141                     -1.0                       -1.0           139130.0   \n",
       "142                     -1.0                       -1.0         11884758.0   \n",
       "143                     -1.0                       -1.0           192758.0   \n",
       "\n",
       "     expenses  loan_advances  from_messages     other  \\\n",
       "141      -1.0           -1.0           -1.0      -1.0   \n",
       "142   53947.0           -1.0           -1.0  147950.0   \n",
       "143   55097.0           -1.0           -1.0      -1.0   \n",
       "\n",
       "     from_this_person_to_poi  director_fees  deferred_income  \\\n",
       "141                     -1.0           -1.0             -1.0   \n",
       "142                     -1.0           -1.0             -1.0   \n",
       "143                     -1.0           -1.0             -1.0   \n",
       "\n",
       "     long_term_incentive  from_poi_to_this_person  \n",
       "141                 -1.0                     -1.0  \n",
       "142                 -1.0                     -1.0  \n",
       "143                 -1.0                     -1.0  "
      ]
     },
     "metadata": {},
     "output_type": "display_data"
    }
   ],
   "source": [
    "# keep a copy of original data\n",
    "features_copy = features.copy()\n",
    "\n",
    "# fill null values\n",
    "features = features_copy.fillna(-1)\n",
    "\n",
    "display(features.head(3))\n",
    "display(features.tail(3))"
   ]
  },
  {
   "cell_type": "markdown",
   "metadata": {},
   "source": [
    "Remove outliers\n",
    "---------------"
   ]
  },
  {
   "cell_type": "code",
   "execution_count": 78,
   "metadata": {
    "collapsed": false
   },
   "outputs": [],
   "source": [
    "# start over if necessary\n",
    "#features = features_copy.fillna(-1)"
   ]
  },
  {
   "cell_type": "code",
   "execution_count": 11,
   "metadata": {
    "collapsed": false
   },
   "outputs": [
    {
     "name": "stdout",
     "output_type": "stream",
     "text": [
      "salary [-1.0, 477.0, 6615.0, 63744.0, 76399.0]\n",
      "to_messages [-1.0, 57.0, 58.0, 102.0, 111.0]\n",
      "deferral_payments [-102500.0, -1.0, 7961.0, 10259.0, 16586.0]\n",
      "total_payments [-1.0, 148.0, 475.0, 1279.0, 2151.0]\n",
      "exercised_stock_options [-1.0, 3285.0, 9803.0, 17378.0, 28798.0]\n",
      "bonus [-1.0, 70000.0, 100000.0, 200000.0, 250000.0]\n",
      "restricted_stock [-2604490.0, -1.0, 32460.0, 44093.0, 47304.0]\n",
      "shared_receipt_with_poi [-1.0, 2.0, 3.0, 10.0, 12.0]\n",
      "restricted_stock_deferred [-1787380.0, -560222.0, -472568.0, -409554.0, -329825.0]\n",
      "total_stock_value [-44093.0, -1.0, 28798.0, 47304.0, 63014.0]\n",
      "expenses [-1.0, 148.0, 475.0, 600.0, 1279.0]\n",
      "loan_advances [-1.0, 400000.0, 2000000.0, 81525000.0]\n",
      "from_messages [-1.0, 12.0, 13.0, 14.0, 15.0]\n",
      "other [-1.0, 2.0, 69.0, 152.0, 162.0]\n",
      "from_this_person_to_poi [-1.0, 0.0, 1.0, 2.0, 3.0]\n",
      "director_fees [-1.0, 3285.0, 17500.0, 36666.0, 38346.0]\n",
      "deferred_income [-3504386.0, -3367011.0, -3117011.0, -3081055.0, -2334434.0]\n",
      "long_term_incentive [-1.0, 69223.0, 71023.0, 75000.0, 93750.0]\n",
      "from_poi_to_this_person [-1.0, 0.0, 1.0, 4.0, 7.0]\n"
     ]
    }
   ],
   "source": [
    "# what are low values in each feature?\n",
    "for col in features.columns:\n",
    "    print col, sorted(features[col].value_counts().index)[:5]"
   ]
  },
  {
   "cell_type": "code",
   "execution_count": 12,
   "metadata": {
    "collapsed": false
   },
   "outputs": [
    {
     "name": "stdout",
     "output_type": "stream",
     "text": [
      "['salary', 'to_messages', 'deferral_payments', 'total_payments', 'exercised_stock_options', 'bonus', 'restricted_stock', 'shared_receipt_with_poi', 'restricted_stock_deferred', 'total_stock_value', 'expenses', 'loan_advances', 'from_messages', 'other', 'director_fees', 'deferred_income', 'long_term_incentive']\n"
     ]
    }
   ],
   "source": [
    "# specify the columns with no zero values\n",
    "cols_replace = [i for i in features.columns if i not in ['from_this_person_to_poi', 'from_poi_to_this_person']]\n",
    "print cols_replace"
   ]
  },
  {
   "cell_type": "code",
   "execution_count": 13,
   "metadata": {
    "collapsed": false
   },
   "outputs": [
    {
     "data": {
      "text/html": [
       "<div>\n",
       "<table border=\"1\" class=\"dataframe\">\n",
       "  <thead>\n",
       "    <tr style=\"text-align: right;\">\n",
       "      <th></th>\n",
       "      <th>salary</th>\n",
       "      <th>to_messages</th>\n",
       "      <th>deferral_payments</th>\n",
       "      <th>total_payments</th>\n",
       "      <th>exercised_stock_options</th>\n",
       "      <th>bonus</th>\n",
       "      <th>restricted_stock</th>\n",
       "      <th>shared_receipt_with_poi</th>\n",
       "      <th>restricted_stock_deferred</th>\n",
       "      <th>total_stock_value</th>\n",
       "      <th>expenses</th>\n",
       "      <th>loan_advances</th>\n",
       "      <th>from_messages</th>\n",
       "      <th>other</th>\n",
       "      <th>from_this_person_to_poi</th>\n",
       "      <th>director_fees</th>\n",
       "      <th>deferred_income</th>\n",
       "      <th>long_term_incentive</th>\n",
       "      <th>from_poi_to_this_person</th>\n",
       "    </tr>\n",
       "  </thead>\n",
       "  <tbody>\n",
       "    <tr>\n",
       "      <th>0</th>\n",
       "      <td>201955.0</td>\n",
       "      <td>2902.0</td>\n",
       "      <td>2869717.0</td>\n",
       "      <td>4484442.0</td>\n",
       "      <td>1729541.0</td>\n",
       "      <td>4175000.0</td>\n",
       "      <td>126027.0</td>\n",
       "      <td>1407.0</td>\n",
       "      <td>-126027.0</td>\n",
       "      <td>1729541.0</td>\n",
       "      <td>13868.0</td>\n",
       "      <td>0.0</td>\n",
       "      <td>2195.0</td>\n",
       "      <td>152.0</td>\n",
       "      <td>65.0</td>\n",
       "      <td>0.0</td>\n",
       "      <td>-3081055.0</td>\n",
       "      <td>304805.0</td>\n",
       "      <td>47.0</td>\n",
       "    </tr>\n",
       "    <tr>\n",
       "      <th>1</th>\n",
       "      <td>0.0</td>\n",
       "      <td>0.0</td>\n",
       "      <td>178980.0</td>\n",
       "      <td>182466.0</td>\n",
       "      <td>257817.0</td>\n",
       "      <td>0.0</td>\n",
       "      <td>0.0</td>\n",
       "      <td>0.0</td>\n",
       "      <td>0.0</td>\n",
       "      <td>257817.0</td>\n",
       "      <td>3486.0</td>\n",
       "      <td>0.0</td>\n",
       "      <td>0.0</td>\n",
       "      <td>0.0</td>\n",
       "      <td>-1.0</td>\n",
       "      <td>0.0</td>\n",
       "      <td>0.0</td>\n",
       "      <td>0.0</td>\n",
       "      <td>-1.0</td>\n",
       "    </tr>\n",
       "    <tr>\n",
       "      <th>2</th>\n",
       "      <td>477.0</td>\n",
       "      <td>566.0</td>\n",
       "      <td>0.0</td>\n",
       "      <td>916197.0</td>\n",
       "      <td>4046157.0</td>\n",
       "      <td>0.0</td>\n",
       "      <td>1757552.0</td>\n",
       "      <td>465.0</td>\n",
       "      <td>-560222.0</td>\n",
       "      <td>5243487.0</td>\n",
       "      <td>56301.0</td>\n",
       "      <td>0.0</td>\n",
       "      <td>29.0</td>\n",
       "      <td>864523.0</td>\n",
       "      <td>0.0</td>\n",
       "      <td>0.0</td>\n",
       "      <td>-5104.0</td>\n",
       "      <td>0.0</td>\n",
       "      <td>39.0</td>\n",
       "    </tr>\n",
       "  </tbody>\n",
       "</table>\n",
       "</div>"
      ],
      "text/plain": [
       "     salary  to_messages  deferral_payments  total_payments  \\\n",
       "0  201955.0       2902.0          2869717.0       4484442.0   \n",
       "1       0.0          0.0           178980.0        182466.0   \n",
       "2     477.0        566.0                0.0        916197.0   \n",
       "\n",
       "   exercised_stock_options      bonus  restricted_stock  \\\n",
       "0                1729541.0  4175000.0          126027.0   \n",
       "1                 257817.0        0.0               0.0   \n",
       "2                4046157.0        0.0         1757552.0   \n",
       "\n",
       "   shared_receipt_with_poi  restricted_stock_deferred  total_stock_value  \\\n",
       "0                   1407.0                  -126027.0          1729541.0   \n",
       "1                      0.0                        0.0           257817.0   \n",
       "2                    465.0                  -560222.0          5243487.0   \n",
       "\n",
       "   expenses  loan_advances  from_messages     other  from_this_person_to_poi  \\\n",
       "0   13868.0            0.0         2195.0     152.0                     65.0   \n",
       "1    3486.0            0.0            0.0       0.0                     -1.0   \n",
       "2   56301.0            0.0           29.0  864523.0                      0.0   \n",
       "\n",
       "   director_fees  deferred_income  long_term_incentive  \\\n",
       "0            0.0       -3081055.0             304805.0   \n",
       "1            0.0              0.0                  0.0   \n",
       "2            0.0          -5104.0                  0.0   \n",
       "\n",
       "   from_poi_to_this_person  \n",
       "0                     47.0  \n",
       "1                     -1.0  \n",
       "2                     39.0  "
      ]
     },
     "metadata": {},
     "output_type": "display_data"
    },
    {
     "data": {
      "text/html": [
       "<div>\n",
       "<table border=\"1\" class=\"dataframe\">\n",
       "  <thead>\n",
       "    <tr style=\"text-align: right;\">\n",
       "      <th></th>\n",
       "      <th>salary</th>\n",
       "      <th>to_messages</th>\n",
       "      <th>deferral_payments</th>\n",
       "      <th>total_payments</th>\n",
       "      <th>exercised_stock_options</th>\n",
       "      <th>bonus</th>\n",
       "      <th>restricted_stock</th>\n",
       "      <th>shared_receipt_with_poi</th>\n",
       "      <th>restricted_stock_deferred</th>\n",
       "      <th>total_stock_value</th>\n",
       "      <th>expenses</th>\n",
       "      <th>loan_advances</th>\n",
       "      <th>from_messages</th>\n",
       "      <th>other</th>\n",
       "      <th>from_this_person_to_poi</th>\n",
       "      <th>director_fees</th>\n",
       "      <th>deferred_income</th>\n",
       "      <th>long_term_incentive</th>\n",
       "      <th>from_poi_to_this_person</th>\n",
       "    </tr>\n",
       "  </thead>\n",
       "  <tbody>\n",
       "    <tr>\n",
       "      <th>141</th>\n",
       "      <td>0.0</td>\n",
       "      <td>0.0</td>\n",
       "      <td>0.0</td>\n",
       "      <td>0.0</td>\n",
       "      <td>139130.0</td>\n",
       "      <td>0.0</td>\n",
       "      <td>0.0</td>\n",
       "      <td>0.0</td>\n",
       "      <td>0.0</td>\n",
       "      <td>139130.0</td>\n",
       "      <td>0.0</td>\n",
       "      <td>0.0</td>\n",
       "      <td>0.0</td>\n",
       "      <td>0.0</td>\n",
       "      <td>-1.0</td>\n",
       "      <td>0.0</td>\n",
       "      <td>0.0</td>\n",
       "      <td>0.0</td>\n",
       "      <td>-1.0</td>\n",
       "    </tr>\n",
       "    <tr>\n",
       "      <th>142</th>\n",
       "      <td>158403.0</td>\n",
       "      <td>0.0</td>\n",
       "      <td>0.0</td>\n",
       "      <td>360300.0</td>\n",
       "      <td>8308552.0</td>\n",
       "      <td>0.0</td>\n",
       "      <td>3576206.0</td>\n",
       "      <td>0.0</td>\n",
       "      <td>0.0</td>\n",
       "      <td>11884758.0</td>\n",
       "      <td>53947.0</td>\n",
       "      <td>0.0</td>\n",
       "      <td>0.0</td>\n",
       "      <td>147950.0</td>\n",
       "      <td>-1.0</td>\n",
       "      <td>0.0</td>\n",
       "      <td>0.0</td>\n",
       "      <td>0.0</td>\n",
       "      <td>-1.0</td>\n",
       "    </tr>\n",
       "    <tr>\n",
       "      <th>143</th>\n",
       "      <td>0.0</td>\n",
       "      <td>0.0</td>\n",
       "      <td>0.0</td>\n",
       "      <td>55097.0</td>\n",
       "      <td>192758.0</td>\n",
       "      <td>0.0</td>\n",
       "      <td>0.0</td>\n",
       "      <td>0.0</td>\n",
       "      <td>0.0</td>\n",
       "      <td>192758.0</td>\n",
       "      <td>55097.0</td>\n",
       "      <td>0.0</td>\n",
       "      <td>0.0</td>\n",
       "      <td>0.0</td>\n",
       "      <td>-1.0</td>\n",
       "      <td>0.0</td>\n",
       "      <td>0.0</td>\n",
       "      <td>0.0</td>\n",
       "      <td>-1.0</td>\n",
       "    </tr>\n",
       "  </tbody>\n",
       "</table>\n",
       "</div>"
      ],
      "text/plain": [
       "       salary  to_messages  deferral_payments  total_payments  \\\n",
       "141       0.0          0.0                0.0             0.0   \n",
       "142  158403.0          0.0                0.0        360300.0   \n",
       "143       0.0          0.0                0.0         55097.0   \n",
       "\n",
       "     exercised_stock_options  bonus  restricted_stock  \\\n",
       "141                 139130.0    0.0               0.0   \n",
       "142                8308552.0    0.0         3576206.0   \n",
       "143                 192758.0    0.0               0.0   \n",
       "\n",
       "     shared_receipt_with_poi  restricted_stock_deferred  total_stock_value  \\\n",
       "141                      0.0                        0.0           139130.0   \n",
       "142                      0.0                        0.0         11884758.0   \n",
       "143                      0.0                        0.0           192758.0   \n",
       "\n",
       "     expenses  loan_advances  from_messages     other  \\\n",
       "141       0.0            0.0            0.0       0.0   \n",
       "142   53947.0            0.0            0.0  147950.0   \n",
       "143   55097.0            0.0            0.0       0.0   \n",
       "\n",
       "     from_this_person_to_poi  director_fees  deferred_income  \\\n",
       "141                     -1.0            0.0              0.0   \n",
       "142                     -1.0            0.0              0.0   \n",
       "143                     -1.0            0.0              0.0   \n",
       "\n",
       "     long_term_incentive  from_poi_to_this_person  \n",
       "141                  0.0                     -1.0  \n",
       "142                  0.0                     -1.0  \n",
       "143                  0.0                     -1.0  "
      ]
     },
     "metadata": {},
     "output_type": "display_data"
    }
   ],
   "source": [
    "# replace -1 with 0 for features without any zero values\n",
    "features[cols_replace] = features[cols_replace].replace([-1], [0])\n",
    "\n",
    "display(features.head(3))\n",
    "display(features.tail(3))"
   ]
  },
  {
   "cell_type": "markdown",
   "metadata": {},
   "source": [
    "### TODO: log transform features\n",
    "- normalize features with negative values\n",
    "- add small constant to feature with min value 0\n"
   ]
  },
  {
   "cell_type": "code",
   "execution_count": null,
   "metadata": {
    "collapsed": true
   },
   "outputs": [],
   "source": [
    "# sign transform: take sqrt of absolute value\n"
   ]
  },
  {
   "cell_type": "markdown",
   "metadata": {},
   "source": [
    "### Look at distributions"
   ]
  },
  {
   "cell_type": "code",
   "execution_count": 14,
   "metadata": {
    "collapsed": true
   },
   "outputs": [],
   "source": [
    "# separate financial and email features\n",
    "fin_feats = ['salary', 'deferral_payments', 'total_payments', 'loan_advances', 'bonus', \n",
    "             'restricted_stock_deferred', 'deferred_income', 'total_stock_value', 'expenses', \n",
    "             'exercised_stock_options', 'other', 'long_term_incentive', 'restricted_stock', 'director_fees']\n",
    "\n",
    "# removed 'email_address'\n",
    "email_feats = ['to_messages', 'from_poi_to_this_person', 'from_messages', \n",
    "               'from_this_person_to_poi', 'shared_receipt_with_poi']"
   ]
  },
  {
   "cell_type": "code",
   "execution_count": 15,
   "metadata": {
    "collapsed": false
   },
   "outputs": [
    {
     "name": "stderr",
     "output_type": "stream",
     "text": [
      "/Users/jjl/anaconda/lib/python2.7/site-packages/seaborn/categorical.py:2125: UserWarning: The boxplot API has been changed. Attempting to adjust your arguments for the new API (which might not work). Please update your code. See the version 0.6 release notes for more info.\n",
      "  warnings.warn(msg, UserWarning)\n"
     ]
    },
    {
     "data": {
      "image/png": "[encoded data removed]",
      "text/plain": [
       "<matplotlib.figure.Figure at 0x11483d6d0>"
      ]
     },
     "metadata": {},
     "output_type": "display_data"
    }
   ],
   "source": [
    "### Task 2: Remove outliers\n",
    "neg_cols = [i for i in features.columns if min(features[i]) < 0]\n",
    "pos_cols = [i for i in features.columns if min(features[i]) >= 0]\n",
    "\n",
    "fin_pos = [i for i in fin_feats if i in pos_cols]\n",
    "fin_neg = [i for i in fin_feats if i in neg_cols]\n",
    "\n",
    "# boxplot of features\n",
    "fig,ax = plt.subplots(2,1, figsize=(12,12))\n",
    "\n",
    "sns.boxplot(features[fin_neg], orient='h', ax=ax[0])\n",
    "sns.boxplot(np.sqrt(features[fin_pos]), orient='h', ax=ax[1]);"
   ]
  },
  {
   "cell_type": "code",
   "execution_count": 111,
   "metadata": {
    "collapsed": false,
    "scrolled": true
   },
   "outputs": [
    {
     "data": {
      "image/png": "[encoded data removed]",
      "text/plain": [
       "<matplotlib.figure.Figure at 0x125cd5510>"
      ]
     },
     "metadata": {},
     "output_type": "display_data"
    },
    {
     "data": {
      "image/png": "[encoded data removed]",
      "text/plain": [
       "<matplotlib.figure.Figure at 0x1248febd0>"
      ]
     },
     "metadata": {},
     "output_type": "display_data"
    },
    {
     "data": {
      "image/png": "[encoded data removed]",
      "text/plain": [
       "<matplotlib.figure.Figure at 0x12608dad0>"
      ]
     },
     "metadata": {},
     "output_type": "display_data"
    },
    {
     "data": {
      "image/png": "[encoded data removed]",
      "text/plain": [
       "<matplotlib.figure.Figure at 0x125e4fb90>"
      ]
     },
     "metadata": {},
     "output_type": "display_data"
    },
    {
     "data": {
      "image/png": "[encoded data removed]",
      "text/plain": [
       "<matplotlib.figure.Figure at 0x12482b950>"
      ]
     },
     "metadata": {},
     "output_type": "display_data"
    },
    {
     "data": {
      "image/png": "[encoded data removed]",
      "text/plain": [
       "<matplotlib.figure.Figure at 0x125d21410>"
      ]
     },
     "metadata": {},
     "output_type": "display_data"
    },
    {
     "data": {
      "image/png": "[encoded data removed]",
      "text/plain": [
       "<matplotlib.figure.Figure at 0x125e56c90>"
      ]
     },
     "metadata": {},
     "output_type": "display_data"
    },
    {
     "data": {
      "image/png": "[encoded data removed]",
      "text/plain": [
       "<matplotlib.figure.Figure at 0x124cdf050>"
      ]
     },
     "metadata": {},
     "output_type": "display_data"
    },
    {
     "data": {
      "image/png": "[encoded data removed]",
      "text/plain": [
       "<matplotlib.figure.Figure at 0x125c74f10>"
      ]
     },
     "metadata": {},
     "output_type": "display_data"
    }
   ],
   "source": [
    "for i,col in enumerate(fin_pos):\n",
    "    plt.figure()\n",
    "    sns.kdeplot(np.sqrt(features[col]), shade=True);"
   ]
  },
  {
   "cell_type": "code",
   "execution_count": 110,
   "metadata": {
    "collapsed": false,
    "scrolled": true
   },
   "outputs": [
    {
     "data": {
      "image/png": "[encoded data removed]",
      "text/plain": [
       "<matplotlib.figure.Figure at 0x11b4fd710>"
      ]
     },
     "metadata": {},
     "output_type": "display_data"
    },
    {
     "data": {
      "image/png": "[encoded data removed]",
      "text/plain": [
       "<matplotlib.figure.Figure at 0x122a57c10>"
      ]
     },
     "metadata": {},
     "output_type": "display_data"
    },
    {
     "data": {
      "image/png": "[encoded data removed]",
      "text/plain": [
       "<matplotlib.figure.Figure at 0x122a98dd0>"
      ]
     },
     "metadata": {},
     "output_type": "display_data"
    },
    {
     "data": {
      "image/png": "[encoded data removed]",
      "text/plain": [
       "<matplotlib.figure.Figure at 0x1260aa190>"
      ]
     },
     "metadata": {},
     "output_type": "display_data"
    },
    {
     "data": {
      "image/png": "[encoded data removed]",
      "text/plain": [
       "<matplotlib.figure.Figure at 0x1202291d0>"
      ]
     },
     "metadata": {},
     "output_type": "display_data"
    }
   ],
   "source": [
    "for i,col in enumerate(fin_neg):\n",
    "    plt.figure()\n",
    "    sns.distplot(features[col]);"
   ]
  },
  {
   "cell_type": "code",
   "execution_count": 78,
   "metadata": {
    "collapsed": false
   },
   "outputs": [
    {
     "data": {
      "text/html": [
       "<div>\n",
       "<table border=\"1\" class=\"dataframe\">\n",
       "  <thead>\n",
       "    <tr style=\"text-align: right;\">\n",
       "      <th></th>\n",
       "      <th>salary</th>\n",
       "      <th>to_messages</th>\n",
       "      <th>deferral_payments</th>\n",
       "      <th>total_payments</th>\n",
       "      <th>exercised_stock_options</th>\n",
       "      <th>bonus</th>\n",
       "      <th>restricted_stock</th>\n",
       "      <th>shared_receipt_with_poi</th>\n",
       "      <th>restricted_stock_deferred</th>\n",
       "      <th>total_stock_value</th>\n",
       "      <th>expenses</th>\n",
       "      <th>loan_advances</th>\n",
       "      <th>from_messages</th>\n",
       "      <th>other</th>\n",
       "      <th>from_this_person_to_poi</th>\n",
       "      <th>director_fees</th>\n",
       "      <th>deferred_income</th>\n",
       "      <th>long_term_incentive</th>\n",
       "      <th>from_poi_to_this_person</th>\n",
       "    </tr>\n",
       "  </thead>\n",
       "  <tbody>\n",
       "    <tr>\n",
       "      <th>79</th>\n",
       "      <td>1072321.0</td>\n",
       "      <td>4273.0</td>\n",
       "      <td>202911.0</td>\n",
       "      <td>103559793.0</td>\n",
       "      <td>34348384.0</td>\n",
       "      <td>7000000.0</td>\n",
       "      <td>14761694.0</td>\n",
       "      <td>2411.0</td>\n",
       "      <td>0.0</td>\n",
       "      <td>49110078.0</td>\n",
       "      <td>99832.0</td>\n",
       "      <td>81525000.0</td>\n",
       "      <td>36.0</td>\n",
       "      <td>10359729.0</td>\n",
       "      <td>16.0</td>\n",
       "      <td>0.0</td>\n",
       "      <td>-300000.0</td>\n",
       "      <td>3600000.0</td>\n",
       "      <td>123.0</td>\n",
       "    </tr>\n",
       "  </tbody>\n",
       "</table>\n",
       "</div>"
      ],
      "text/plain": [
       "       salary  to_messages  deferral_payments  total_payments  \\\n",
       "79  1072321.0       4273.0           202911.0     103559793.0   \n",
       "\n",
       "    exercised_stock_options      bonus  restricted_stock  \\\n",
       "79               34348384.0  7000000.0        14761694.0   \n",
       "\n",
       "    shared_receipt_with_poi  restricted_stock_deferred  total_stock_value  \\\n",
       "79                   2411.0                        0.0         49110078.0   \n",
       "\n",
       "    expenses  loan_advances  from_messages       other  \\\n",
       "79   99832.0     81525000.0           36.0  10359729.0   \n",
       "\n",
       "    from_this_person_to_poi  director_fees  deferred_income  \\\n",
       "79                     16.0            0.0        -300000.0   \n",
       "\n",
       "    long_term_incentive  from_poi_to_this_person  \n",
       "79            3600000.0                    123.0  "
      ]
     },
     "metadata": {},
     "output_type": "display_data"
    },
    {
     "data": {
      "text/html": [
       "<div>\n",
       "<table border=\"1\" class=\"dataframe\">\n",
       "  <thead>\n",
       "    <tr style=\"text-align: right;\">\n",
       "      <th></th>\n",
       "      <th>salary</th>\n",
       "      <th>to_messages</th>\n",
       "      <th>deferral_payments</th>\n",
       "      <th>total_payments</th>\n",
       "      <th>exercised_stock_options</th>\n",
       "      <th>bonus</th>\n",
       "      <th>restricted_stock</th>\n",
       "      <th>shared_receipt_with_poi</th>\n",
       "      <th>restricted_stock_deferred</th>\n",
       "      <th>total_stock_value</th>\n",
       "      <th>expenses</th>\n",
       "      <th>loan_advances</th>\n",
       "      <th>from_messages</th>\n",
       "      <th>other</th>\n",
       "      <th>from_this_person_to_poi</th>\n",
       "      <th>director_fees</th>\n",
       "      <th>deferred_income</th>\n",
       "      <th>long_term_incentive</th>\n",
       "      <th>from_poi_to_this_person</th>\n",
       "    </tr>\n",
       "  </thead>\n",
       "  <tbody>\n",
       "    <tr>\n",
       "      <th>79</th>\n",
       "      <td>1072321.0</td>\n",
       "      <td>4273.0</td>\n",
       "      <td>202911.0</td>\n",
       "      <td>103559793.0</td>\n",
       "      <td>34348384.0</td>\n",
       "      <td>7000000.0</td>\n",
       "      <td>14761694.0</td>\n",
       "      <td>2411.0</td>\n",
       "      <td>0.0</td>\n",
       "      <td>49110078.0</td>\n",
       "      <td>99832.0</td>\n",
       "      <td>81525000.0</td>\n",
       "      <td>36.0</td>\n",
       "      <td>10359729.0</td>\n",
       "      <td>16.0</td>\n",
       "      <td>0.0</td>\n",
       "      <td>-300000.0</td>\n",
       "      <td>3600000.0</td>\n",
       "      <td>123.0</td>\n",
       "    </tr>\n",
       "  </tbody>\n",
       "</table>\n",
       "</div>"
      ],
      "text/plain": [
       "       salary  to_messages  deferral_payments  total_payments  \\\n",
       "79  1072321.0       4273.0           202911.0     103559793.0   \n",
       "\n",
       "    exercised_stock_options      bonus  restricted_stock  \\\n",
       "79               34348384.0  7000000.0        14761694.0   \n",
       "\n",
       "    shared_receipt_with_poi  restricted_stock_deferred  total_stock_value  \\\n",
       "79                   2411.0                        0.0         49110078.0   \n",
       "\n",
       "    expenses  loan_advances  from_messages       other  \\\n",
       "79   99832.0     81525000.0           36.0  10359729.0   \n",
       "\n",
       "    from_this_person_to_poi  director_fees  deferred_income  \\\n",
       "79                     16.0            0.0        -300000.0   \n",
       "\n",
       "    long_term_incentive  from_poi_to_this_person  \n",
       "79            3600000.0                    123.0  "
      ]
     },
     "metadata": {},
     "output_type": "display_data"
    },
    {
     "data": {
      "text/html": [
       "<div>\n",
       "<table border=\"1\" class=\"dataframe\">\n",
       "  <thead>\n",
       "    <tr style=\"text-align: right;\">\n",
       "      <th></th>\n",
       "      <th>salary</th>\n",
       "      <th>to_messages</th>\n",
       "      <th>deferral_payments</th>\n",
       "      <th>total_payments</th>\n",
       "      <th>exercised_stock_options</th>\n",
       "      <th>bonus</th>\n",
       "      <th>restricted_stock</th>\n",
       "      <th>shared_receipt_with_poi</th>\n",
       "      <th>restricted_stock_deferred</th>\n",
       "      <th>total_stock_value</th>\n",
       "      <th>expenses</th>\n",
       "      <th>loan_advances</th>\n",
       "      <th>from_messages</th>\n",
       "      <th>other</th>\n",
       "      <th>from_this_person_to_poi</th>\n",
       "      <th>director_fees</th>\n",
       "      <th>deferred_income</th>\n",
       "      <th>long_term_incentive</th>\n",
       "      <th>from_poi_to_this_person</th>\n",
       "    </tr>\n",
       "  </thead>\n",
       "  <tbody>\n",
       "    <tr>\n",
       "      <th>79</th>\n",
       "      <td>1072321.0</td>\n",
       "      <td>4273.0</td>\n",
       "      <td>202911.0</td>\n",
       "      <td>103559793.0</td>\n",
       "      <td>34348384.0</td>\n",
       "      <td>7000000.0</td>\n",
       "      <td>14761694.0</td>\n",
       "      <td>2411.0</td>\n",
       "      <td>0.0</td>\n",
       "      <td>49110078.0</td>\n",
       "      <td>99832.0</td>\n",
       "      <td>81525000.0</td>\n",
       "      <td>36.0</td>\n",
       "      <td>10359729.0</td>\n",
       "      <td>16.0</td>\n",
       "      <td>0.0</td>\n",
       "      <td>-300000.0</td>\n",
       "      <td>3600000.0</td>\n",
       "      <td>123.0</td>\n",
       "    </tr>\n",
       "  </tbody>\n",
       "</table>\n",
       "</div>"
      ],
      "text/plain": [
       "       salary  to_messages  deferral_payments  total_payments  \\\n",
       "79  1072321.0       4273.0           202911.0     103559793.0   \n",
       "\n",
       "    exercised_stock_options      bonus  restricted_stock  \\\n",
       "79               34348384.0  7000000.0        14761694.0   \n",
       "\n",
       "    shared_receipt_with_poi  restricted_stock_deferred  total_stock_value  \\\n",
       "79                   2411.0                        0.0         49110078.0   \n",
       "\n",
       "    expenses  loan_advances  from_messages       other  \\\n",
       "79   99832.0     81525000.0           36.0  10359729.0   \n",
       "\n",
       "    from_this_person_to_poi  director_fees  deferred_income  \\\n",
       "79                     16.0            0.0        -300000.0   \n",
       "\n",
       "    long_term_incentive  from_poi_to_this_person  \n",
       "79            3600000.0                    123.0  "
      ]
     },
     "metadata": {},
     "output_type": "display_data"
    },
    {
     "data": {
      "text/html": [
       "<div>\n",
       "<table border=\"1\" class=\"dataframe\">\n",
       "  <thead>\n",
       "    <tr style=\"text-align: right;\">\n",
       "      <th></th>\n",
       "      <th>salary</th>\n",
       "      <th>to_messages</th>\n",
       "      <th>deferral_payments</th>\n",
       "      <th>total_payments</th>\n",
       "      <th>exercised_stock_options</th>\n",
       "      <th>bonus</th>\n",
       "      <th>restricted_stock</th>\n",
       "      <th>shared_receipt_with_poi</th>\n",
       "      <th>restricted_stock_deferred</th>\n",
       "      <th>total_stock_value</th>\n",
       "      <th>expenses</th>\n",
       "      <th>loan_advances</th>\n",
       "      <th>from_messages</th>\n",
       "      <th>other</th>\n",
       "      <th>from_this_person_to_poi</th>\n",
       "      <th>director_fees</th>\n",
       "      <th>deferred_income</th>\n",
       "      <th>long_term_incentive</th>\n",
       "      <th>from_poi_to_this_person</th>\n",
       "    </tr>\n",
       "  </thead>\n",
       "  <tbody>\n",
       "    <tr>\n",
       "      <th>79</th>\n",
       "      <td>1072321.0</td>\n",
       "      <td>4273.0</td>\n",
       "      <td>202911.0</td>\n",
       "      <td>103559793.0</td>\n",
       "      <td>34348384.0</td>\n",
       "      <td>7000000.0</td>\n",
       "      <td>14761694.0</td>\n",
       "      <td>2411.0</td>\n",
       "      <td>0.0</td>\n",
       "      <td>49110078.0</td>\n",
       "      <td>99832.0</td>\n",
       "      <td>81525000.0</td>\n",
       "      <td>36.0</td>\n",
       "      <td>10359729.0</td>\n",
       "      <td>16.0</td>\n",
       "      <td>0.0</td>\n",
       "      <td>-300000.0</td>\n",
       "      <td>3600000.0</td>\n",
       "      <td>123.0</td>\n",
       "    </tr>\n",
       "  </tbody>\n",
       "</table>\n",
       "</div>"
      ],
      "text/plain": [
       "       salary  to_messages  deferral_payments  total_payments  \\\n",
       "79  1072321.0       4273.0           202911.0     103559793.0   \n",
       "\n",
       "    exercised_stock_options      bonus  restricted_stock  \\\n",
       "79               34348384.0  7000000.0        14761694.0   \n",
       "\n",
       "    shared_receipt_with_poi  restricted_stock_deferred  total_stock_value  \\\n",
       "79                   2411.0                        0.0         49110078.0   \n",
       "\n",
       "    expenses  loan_advances  from_messages       other  \\\n",
       "79   99832.0     81525000.0           36.0  10359729.0   \n",
       "\n",
       "    from_this_person_to_poi  director_fees  deferred_income  \\\n",
       "79                     16.0            0.0        -300000.0   \n",
       "\n",
       "    long_term_incentive  from_poi_to_this_person  \n",
       "79            3600000.0                    123.0  "
      ]
     },
     "metadata": {},
     "output_type": "display_data"
    },
    {
     "data": {
      "text/html": [
       "<div>\n",
       "<table border=\"1\" class=\"dataframe\">\n",
       "  <thead>\n",
       "    <tr style=\"text-align: right;\">\n",
       "      <th></th>\n",
       "      <th>salary</th>\n",
       "      <th>to_messages</th>\n",
       "      <th>deferral_payments</th>\n",
       "      <th>total_payments</th>\n",
       "      <th>exercised_stock_options</th>\n",
       "      <th>bonus</th>\n",
       "      <th>restricted_stock</th>\n",
       "      <th>shared_receipt_with_poi</th>\n",
       "      <th>restricted_stock_deferred</th>\n",
       "      <th>total_stock_value</th>\n",
       "      <th>expenses</th>\n",
       "      <th>loan_advances</th>\n",
       "      <th>from_messages</th>\n",
       "      <th>other</th>\n",
       "      <th>from_this_person_to_poi</th>\n",
       "      <th>director_fees</th>\n",
       "      <th>deferred_income</th>\n",
       "      <th>long_term_incentive</th>\n",
       "      <th>from_poi_to_this_person</th>\n",
       "    </tr>\n",
       "  </thead>\n",
       "  <tbody>\n",
       "    <tr>\n",
       "      <th>79</th>\n",
       "      <td>1072321.0</td>\n",
       "      <td>4273.0</td>\n",
       "      <td>202911.0</td>\n",
       "      <td>103559793.0</td>\n",
       "      <td>34348384.0</td>\n",
       "      <td>7000000.0</td>\n",
       "      <td>14761694.0</td>\n",
       "      <td>2411.0</td>\n",
       "      <td>0.0</td>\n",
       "      <td>49110078.0</td>\n",
       "      <td>99832.0</td>\n",
       "      <td>81525000.0</td>\n",
       "      <td>36.0</td>\n",
       "      <td>10359729.0</td>\n",
       "      <td>16.0</td>\n",
       "      <td>0.0</td>\n",
       "      <td>-300000.0</td>\n",
       "      <td>3600000.0</td>\n",
       "      <td>123.0</td>\n",
       "    </tr>\n",
       "  </tbody>\n",
       "</table>\n",
       "</div>"
      ],
      "text/plain": [
       "       salary  to_messages  deferral_payments  total_payments  \\\n",
       "79  1072321.0       4273.0           202911.0     103559793.0   \n",
       "\n",
       "    exercised_stock_options      bonus  restricted_stock  \\\n",
       "79               34348384.0  7000000.0        14761694.0   \n",
       "\n",
       "    shared_receipt_with_poi  restricted_stock_deferred  total_stock_value  \\\n",
       "79                   2411.0                        0.0         49110078.0   \n",
       "\n",
       "    expenses  loan_advances  from_messages       other  \\\n",
       "79   99832.0     81525000.0           36.0  10359729.0   \n",
       "\n",
       "    from_this_person_to_poi  director_fees  deferred_income  \\\n",
       "79                     16.0            0.0        -300000.0   \n",
       "\n",
       "    long_term_incentive  from_poi_to_this_person  \n",
       "79            3600000.0                    123.0  "
      ]
     },
     "metadata": {},
     "output_type": "display_data"
    }
   ],
   "source": [
    "# who are these outliers?\n",
    "display(features[features.total_stock_value == max(features['total_stock_value'])])\n",
    "display(features[features.restricted_stock == max(features['restricted_stock'])])\n",
    "\n",
    "display(features[features.total_payments == max(features['total_payments'])])\n",
    "display(features[features.exercised_stock_options == max(features['exercised_stock_options'])])\n",
    "\n",
    "display(features[features.total_payments > 1e+8])"
   ]
  },
  {
   "cell_type": "markdown",
   "metadata": {},
   "source": [
    "> Argh, it looks like one of the rows is \"TOTAL\""
   ]
  },
  {
   "cell_type": "code",
   "execution_count": 79,
   "metadata": {
    "collapsed": false
   },
   "outputs": [
    {
     "data": {
      "text/html": [
       "<div>\n",
       "<table border=\"1\" class=\"dataframe\">\n",
       "  <thead>\n",
       "    <tr style=\"text-align: right;\">\n",
       "      <th></th>\n",
       "      <th>salary</th>\n",
       "      <th>to_messages</th>\n",
       "      <th>deferral_payments</th>\n",
       "      <th>total_payments</th>\n",
       "      <th>exercised_stock_options</th>\n",
       "      <th>bonus</th>\n",
       "      <th>restricted_stock</th>\n",
       "      <th>shared_receipt_with_poi</th>\n",
       "      <th>restricted_stock_deferred</th>\n",
       "      <th>total_stock_value</th>\n",
       "      <th>...</th>\n",
       "      <th>loan_advances</th>\n",
       "      <th>from_messages</th>\n",
       "      <th>other</th>\n",
       "      <th>from_this_person_to_poi</th>\n",
       "      <th>poi</th>\n",
       "      <th>director_fees</th>\n",
       "      <th>deferred_income</th>\n",
       "      <th>long_term_incentive</th>\n",
       "      <th>email_address</th>\n",
       "      <th>from_poi_to_this_person</th>\n",
       "    </tr>\n",
       "  </thead>\n",
       "  <tbody>\n",
       "    <tr>\n",
       "      <th>LAY KENNETH L</th>\n",
       "      <td>1072321</td>\n",
       "      <td>4273</td>\n",
       "      <td>202911</td>\n",
       "      <td>103559793</td>\n",
       "      <td>34348384</td>\n",
       "      <td>7000000</td>\n",
       "      <td>14761694</td>\n",
       "      <td>2411</td>\n",
       "      <td>NaN</td>\n",
       "      <td>49110078</td>\n",
       "      <td>...</td>\n",
       "      <td>81525000</td>\n",
       "      <td>36</td>\n",
       "      <td>10359729</td>\n",
       "      <td>16</td>\n",
       "      <td>True</td>\n",
       "      <td>NaN</td>\n",
       "      <td>-300000</td>\n",
       "      <td>3600000</td>\n",
       "      <td>kenneth.lay@enron.com</td>\n",
       "      <td>123</td>\n",
       "    </tr>\n",
       "  </tbody>\n",
       "</table>\n",
       "<p>1 rows × 21 columns</p>\n",
       "</div>"
      ],
      "text/plain": [
       "                salary to_messages deferral_payments total_payments  \\\n",
       "LAY KENNETH L  1072321        4273            202911      103559793   \n",
       "\n",
       "              exercised_stock_options    bonus restricted_stock  \\\n",
       "LAY KENNETH L                34348384  7000000         14761694   \n",
       "\n",
       "              shared_receipt_with_poi restricted_stock_deferred  \\\n",
       "LAY KENNETH L                    2411                       NaN   \n",
       "\n",
       "              total_stock_value           ...           loan_advances  \\\n",
       "LAY KENNETH L          49110078           ...                81525000   \n",
       "\n",
       "              from_messages     other from_this_person_to_poi   poi  \\\n",
       "LAY KENNETH L            36  10359729                      16  True   \n",
       "\n",
       "              director_fees deferred_income long_term_incentive  \\\n",
       "LAY KENNETH L           NaN         -300000             3600000   \n",
       "\n",
       "                       email_address from_poi_to_this_person  \n",
       "LAY KENNETH L  kenneth.lay@enron.com                     123  \n",
       "\n",
       "[1 rows x 21 columns]"
      ]
     },
     "execution_count": 79,
     "metadata": {},
     "output_type": "execute_result"
    }
   ],
   "source": [
    "# who is this person?\n",
    "df[df.fillna(0).salary == 1072321]"
   ]
  },
  {
   "cell_type": "code",
   "execution_count": 80,
   "metadata": {
    "collapsed": false
   },
   "outputs": [
    {
     "data": {
      "image/png": "[encoded data removed]",
      "text/plain": [
       "<matplotlib.figure.Figure at 0x11b961650>"
      ]
     },
     "metadata": {},
     "output_type": "display_data"
    }
   ],
   "source": [
    "email_pos = [i for i in email_feats if i in pos_cols]\n",
    "email_neg = [i for i in email_feats if i in neg_cols]\n",
    "\n",
    "# boxplot of features\n",
    "fig,ax = plt.subplots(2,1, figsize=(12,6))\n",
    "\n",
    "sns.boxplot(features[email_neg], orient='h', ax=ax[0])\n",
    "sns.boxplot(np.sqrt(features[email_pos]), orient='h', ax=ax[1]);"
   ]
  },
  {
   "cell_type": "code",
   "execution_count": 1,
   "metadata": {
    "collapsed": false
   },
   "outputs": [
    {
     "ename": "NameError",
     "evalue": "name 'display' is not defined",
     "output_type": "error",
     "traceback": [
      "\u001b[0;31m---------------------------------------------------------------------------\u001b[0m",
      "\u001b[0;31mNameError\u001b[0m                                 Traceback (most recent call last)",
      "\u001b[0;32m<ipython-input-1-fb1ab86c03a5>\u001b[0m in \u001b[0;36m<module>\u001b[0;34m()\u001b[0m\n\u001b[1;32m      1\u001b[0m \u001b[0;31m# TODO: who are these outliers\u001b[0m\u001b[0;34m\u001b[0m\u001b[0;34m\u001b[0m\u001b[0m\n\u001b[0;32m----> 2\u001b[0;31m \u001b[0mdisplay\u001b[0m\u001b[0;34m(\u001b[0m\u001b[0mfeatures\u001b[0m\u001b[0;34m[\u001b[0m\u001b[0mfeatures\u001b[0m\u001b[0;34m.\u001b[0m\u001b[0mfrom_poi_to_this_person\u001b[0m \u001b[0;34m==\u001b[0m \u001b[0mmax\u001b[0m\u001b[0;34m(\u001b[0m\u001b[0mfeatures\u001b[0m\u001b[0;34m[\u001b[0m\u001b[0;34m'from_poi_to_this_person'\u001b[0m\u001b[0;34m]\u001b[0m\u001b[0;34m)\u001b[0m\u001b[0;34m]\u001b[0m\u001b[0;34m)\u001b[0m\u001b[0;34m\u001b[0m\u001b[0m\n\u001b[0m\u001b[1;32m      3\u001b[0m \u001b[0mdisplay\u001b[0m\u001b[0;34m(\u001b[0m\u001b[0mfeatures\u001b[0m\u001b[0;34m[\u001b[0m\u001b[0mfeatures\u001b[0m\u001b[0;34m.\u001b[0m\u001b[0mfrom_this_person_to_poi\u001b[0m \u001b[0;34m==\u001b[0m \u001b[0mmax\u001b[0m\u001b[0;34m(\u001b[0m\u001b[0mfeatures\u001b[0m\u001b[0;34m[\u001b[0m\u001b[0;34m'from_this_person_to_poi'\u001b[0m\u001b[0;34m]\u001b[0m\u001b[0;34m)\u001b[0m\u001b[0;34m]\u001b[0m\u001b[0;34m)\u001b[0m\u001b[0;34m\u001b[0m\u001b[0m\n\u001b[1;32m      4\u001b[0m \u001b[0mdisplay\u001b[0m\u001b[0;34m(\u001b[0m\u001b[0mfeatures\u001b[0m\u001b[0;34m[\u001b[0m\u001b[0mfeatures\u001b[0m\u001b[0;34m.\u001b[0m\u001b[0mfrom_messages\u001b[0m \u001b[0;34m==\u001b[0m \u001b[0mmax\u001b[0m\u001b[0;34m(\u001b[0m\u001b[0mfeatures\u001b[0m\u001b[0;34m[\u001b[0m\u001b[0;34m'from_messages'\u001b[0m\u001b[0;34m]\u001b[0m\u001b[0;34m)\u001b[0m\u001b[0;34m]\u001b[0m\u001b[0;34m)\u001b[0m\u001b[0;34m\u001b[0m\u001b[0m\n\u001b[1;32m      5\u001b[0m \u001b[0mdisplay\u001b[0m\u001b[0;34m(\u001b[0m\u001b[0mfeatures\u001b[0m\u001b[0;34m[\u001b[0m\u001b[0mfeatures\u001b[0m\u001b[0;34m.\u001b[0m\u001b[0mto_messages\u001b[0m \u001b[0;34m==\u001b[0m \u001b[0mmax\u001b[0m\u001b[0;34m(\u001b[0m\u001b[0mfeatures\u001b[0m\u001b[0;34m[\u001b[0m\u001b[0;34m'to_messages'\u001b[0m\u001b[0;34m]\u001b[0m\u001b[0;34m)\u001b[0m\u001b[0;34m]\u001b[0m\u001b[0;34m)\u001b[0m\u001b[0;34m\u001b[0m\u001b[0m\n",
      "\u001b[0;31mNameError\u001b[0m: name 'display' is not defined"
     ]
    }
   ],
   "source": [
    "# TODO: who are these outliers\n",
    "display(features[features.from_poi_to_this_person == max(features['from_poi_to_this_person'])])\n",
    "display(features[features.from_this_person_to_poi == max(features['from_this_person_to_poi'])])\n",
    "display(features[features.from_messages == max(features['from_messages'])])"
   ]
  },
  {
   "cell_type": "code",
   "execution_count": 83,
   "metadata": {
    "collapsed": false
   },
   "outputs": [
    {
     "data": {
      "text/html": [
       "<div>\n",
       "<table border=\"1\" class=\"dataframe\">\n",
       "  <thead>\n",
       "    <tr style=\"text-align: right;\">\n",
       "      <th></th>\n",
       "      <th>salary</th>\n",
       "      <th>to_messages</th>\n",
       "      <th>deferral_payments</th>\n",
       "      <th>total_payments</th>\n",
       "      <th>exercised_stock_options</th>\n",
       "      <th>bonus</th>\n",
       "      <th>restricted_stock</th>\n",
       "      <th>shared_receipt_with_poi</th>\n",
       "      <th>restricted_stock_deferred</th>\n",
       "      <th>total_stock_value</th>\n",
       "      <th>...</th>\n",
       "      <th>loan_advances</th>\n",
       "      <th>from_messages</th>\n",
       "      <th>other</th>\n",
       "      <th>from_this_person_to_poi</th>\n",
       "      <th>poi</th>\n",
       "      <th>director_fees</th>\n",
       "      <th>deferred_income</th>\n",
       "      <th>long_term_incentive</th>\n",
       "      <th>email_address</th>\n",
       "      <th>from_poi_to_this_person</th>\n",
       "    </tr>\n",
       "  </thead>\n",
       "  <tbody>\n",
       "    <tr>\n",
       "      <th>LAVORATO JOHN J</th>\n",
       "      <td>339288</td>\n",
       "      <td>7259</td>\n",
       "      <td>NaN</td>\n",
       "      <td>10425757</td>\n",
       "      <td>4158995</td>\n",
       "      <td>8000000</td>\n",
       "      <td>1008149</td>\n",
       "      <td>3962</td>\n",
       "      <td>NaN</td>\n",
       "      <td>5167144</td>\n",
       "      <td>...</td>\n",
       "      <td>NaN</td>\n",
       "      <td>2585</td>\n",
       "      <td>1552</td>\n",
       "      <td>411</td>\n",
       "      <td>False</td>\n",
       "      <td>NaN</td>\n",
       "      <td>NaN</td>\n",
       "      <td>2035380</td>\n",
       "      <td>john.lavorato@enron.com</td>\n",
       "      <td>528</td>\n",
       "    </tr>\n",
       "  </tbody>\n",
       "</table>\n",
       "<p>1 rows × 21 columns</p>\n",
       "</div>"
      ],
      "text/plain": [
       "                 salary to_messages deferral_payments total_payments  \\\n",
       "LAVORATO JOHN J  339288        7259               NaN       10425757   \n",
       "\n",
       "                exercised_stock_options    bonus restricted_stock  \\\n",
       "LAVORATO JOHN J                 4158995  8000000          1008149   \n",
       "\n",
       "                shared_receipt_with_poi restricted_stock_deferred  \\\n",
       "LAVORATO JOHN J                    3962                       NaN   \n",
       "\n",
       "                total_stock_value           ...           loan_advances  \\\n",
       "LAVORATO JOHN J           5167144           ...                     NaN   \n",
       "\n",
       "                from_messages other from_this_person_to_poi    poi  \\\n",
       "LAVORATO JOHN J          2585  1552                     411  False   \n",
       "\n",
       "                director_fees deferred_income long_term_incentive  \\\n",
       "LAVORATO JOHN J           NaN             NaN             2035380   \n",
       "\n",
       "                           email_address from_poi_to_this_person  \n",
       "LAVORATO JOHN J  john.lavorato@enron.com                     528  \n",
       "\n",
       "[1 rows x 21 columns]"
      ]
     },
     "metadata": {},
     "output_type": "display_data"
    },
    {
     "data": {
      "text/html": [
       "<div>\n",
       "<table border=\"1\" class=\"dataframe\">\n",
       "  <thead>\n",
       "    <tr style=\"text-align: right;\">\n",
       "      <th></th>\n",
       "      <th>salary</th>\n",
       "      <th>to_messages</th>\n",
       "      <th>deferral_payments</th>\n",
       "      <th>total_payments</th>\n",
       "      <th>exercised_stock_options</th>\n",
       "      <th>bonus</th>\n",
       "      <th>restricted_stock</th>\n",
       "      <th>shared_receipt_with_poi</th>\n",
       "      <th>restricted_stock_deferred</th>\n",
       "      <th>total_stock_value</th>\n",
       "      <th>...</th>\n",
       "      <th>loan_advances</th>\n",
       "      <th>from_messages</th>\n",
       "      <th>other</th>\n",
       "      <th>from_this_person_to_poi</th>\n",
       "      <th>poi</th>\n",
       "      <th>director_fees</th>\n",
       "      <th>deferred_income</th>\n",
       "      <th>long_term_incentive</th>\n",
       "      <th>email_address</th>\n",
       "      <th>from_poi_to_this_person</th>\n",
       "    </tr>\n",
       "  </thead>\n",
       "  <tbody>\n",
       "    <tr>\n",
       "      <th>DELAINEY DAVID W</th>\n",
       "      <td>365163</td>\n",
       "      <td>3093</td>\n",
       "      <td>NaN</td>\n",
       "      <td>4747979</td>\n",
       "      <td>2291113</td>\n",
       "      <td>3000000</td>\n",
       "      <td>1323148</td>\n",
       "      <td>2097</td>\n",
       "      <td>NaN</td>\n",
       "      <td>3614261</td>\n",
       "      <td>...</td>\n",
       "      <td>NaN</td>\n",
       "      <td>3069</td>\n",
       "      <td>1661</td>\n",
       "      <td>609</td>\n",
       "      <td>True</td>\n",
       "      <td>NaN</td>\n",
       "      <td>NaN</td>\n",
       "      <td>1294981</td>\n",
       "      <td>david.delainey@enron.com</td>\n",
       "      <td>66</td>\n",
       "    </tr>\n",
       "  </tbody>\n",
       "</table>\n",
       "<p>1 rows × 21 columns</p>\n",
       "</div>"
      ],
      "text/plain": [
       "                  salary to_messages deferral_payments total_payments  \\\n",
       "DELAINEY DAVID W  365163        3093               NaN        4747979   \n",
       "\n",
       "                 exercised_stock_options    bonus restricted_stock  \\\n",
       "DELAINEY DAVID W                 2291113  3000000          1323148   \n",
       "\n",
       "                 shared_receipt_with_poi restricted_stock_deferred  \\\n",
       "DELAINEY DAVID W                    2097                       NaN   \n",
       "\n",
       "                 total_stock_value           ...           loan_advances  \\\n",
       "DELAINEY DAVID W           3614261           ...                     NaN   \n",
       "\n",
       "                 from_messages other from_this_person_to_poi   poi  \\\n",
       "DELAINEY DAVID W          3069  1661                     609  True   \n",
       "\n",
       "                 director_fees deferred_income long_term_incentive  \\\n",
       "DELAINEY DAVID W           NaN             NaN             1294981   \n",
       "\n",
       "                             email_address from_poi_to_this_person  \n",
       "DELAINEY DAVID W  david.delainey@enron.com                      66  \n",
       "\n",
       "[1 rows x 21 columns]"
      ]
     },
     "metadata": {},
     "output_type": "display_data"
    },
    {
     "data": {
      "text/html": [
       "<div>\n",
       "<table border=\"1\" class=\"dataframe\">\n",
       "  <thead>\n",
       "    <tr style=\"text-align: right;\">\n",
       "      <th></th>\n",
       "      <th>salary</th>\n",
       "      <th>to_messages</th>\n",
       "      <th>deferral_payments</th>\n",
       "      <th>total_payments</th>\n",
       "      <th>exercised_stock_options</th>\n",
       "      <th>bonus</th>\n",
       "      <th>restricted_stock</th>\n",
       "      <th>shared_receipt_with_poi</th>\n",
       "      <th>restricted_stock_deferred</th>\n",
       "      <th>total_stock_value</th>\n",
       "      <th>...</th>\n",
       "      <th>loan_advances</th>\n",
       "      <th>from_messages</th>\n",
       "      <th>other</th>\n",
       "      <th>from_this_person_to_poi</th>\n",
       "      <th>poi</th>\n",
       "      <th>director_fees</th>\n",
       "      <th>deferred_income</th>\n",
       "      <th>long_term_incentive</th>\n",
       "      <th>email_address</th>\n",
       "      <th>from_poi_to_this_person</th>\n",
       "    </tr>\n",
       "  </thead>\n",
       "  <tbody>\n",
       "    <tr>\n",
       "      <th>KAMINSKI WINCENTY J</th>\n",
       "      <td>275101</td>\n",
       "      <td>4607</td>\n",
       "      <td>NaN</td>\n",
       "      <td>1086821</td>\n",
       "      <td>850010</td>\n",
       "      <td>400000</td>\n",
       "      <td>126027</td>\n",
       "      <td>583</td>\n",
       "      <td>NaN</td>\n",
       "      <td>976037</td>\n",
       "      <td>...</td>\n",
       "      <td>NaN</td>\n",
       "      <td>14368</td>\n",
       "      <td>4669</td>\n",
       "      <td>171</td>\n",
       "      <td>False</td>\n",
       "      <td>NaN</td>\n",
       "      <td>NaN</td>\n",
       "      <td>323466</td>\n",
       "      <td>vince.kaminski@enron.com</td>\n",
       "      <td>41</td>\n",
       "    </tr>\n",
       "  </tbody>\n",
       "</table>\n",
       "<p>1 rows × 21 columns</p>\n",
       "</div>"
      ],
      "text/plain": [
       "                     salary to_messages deferral_payments total_payments  \\\n",
       "KAMINSKI WINCENTY J  275101        4607               NaN        1086821   \n",
       "\n",
       "                    exercised_stock_options   bonus restricted_stock  \\\n",
       "KAMINSKI WINCENTY J                  850010  400000           126027   \n",
       "\n",
       "                    shared_receipt_with_poi restricted_stock_deferred  \\\n",
       "KAMINSKI WINCENTY J                     583                       NaN   \n",
       "\n",
       "                    total_stock_value           ...           loan_advances  \\\n",
       "KAMINSKI WINCENTY J            976037           ...                     NaN   \n",
       "\n",
       "                    from_messages other from_this_person_to_poi    poi  \\\n",
       "KAMINSKI WINCENTY J         14368  4669                     171  False   \n",
       "\n",
       "                    director_fees deferred_income long_term_incentive  \\\n",
       "KAMINSKI WINCENTY J           NaN             NaN              323466   \n",
       "\n",
       "                                email_address from_poi_to_this_person  \n",
       "KAMINSKI WINCENTY J  vince.kaminski@enron.com                      41  \n",
       "\n",
       "[1 rows x 21 columns]"
      ]
     },
     "metadata": {},
     "output_type": "display_data"
    }
   ],
   "source": [
    "# who are these people?\n",
    "display(df[df.fillna(0).from_poi_to_this_person == max(features['from_poi_to_this_person'])])\n",
    "display(df[df.fillna(0).from_this_person_to_poi == max(features['from_this_person_to_poi'])])\n",
    "display(df[df.fillna(0).from_messages == max(features['from_messages'])])"
   ]
  },
  {
   "cell_type": "markdown",
   "metadata": {},
   "source": [
    "Feature Selection\n",
    "---------\n",
    "\n",
    "### [Univariate feature selection using SelectKBest](http://scikit-learn.org/stable/modules/feature_selection.html#univariate-feature-selection)\n",
    "\n"
   ]
  },
  {
   "cell_type": "code",
   "execution_count": 29,
   "metadata": {
    "collapsed": false
   },
   "outputs": [
    {
     "name": "stdout",
     "output_type": "stream",
     "text": [
      "(144, 10)\n"
     ]
    }
   ],
   "source": [
    "from sklearn.feature_selection import SelectKBest\n",
    "\n",
    "kbest = SelectKBest()\n",
    "X_new = kbest.fit_transform(features, labels)\n",
    "print X_new.shape"
   ]
  },
  {
   "cell_type": "code",
   "execution_count": 30,
   "metadata": {
    "collapsed": false
   },
   "outputs": [
    {
     "data": {
      "text/html": [
       "<div>\n",
       "<table border=\"1\" class=\"dataframe\">\n",
       "  <thead>\n",
       "    <tr style=\"text-align: right;\">\n",
       "      <th></th>\n",
       "      <th>salary</th>\n",
       "      <th>to_messages</th>\n",
       "      <th>deferral_payments</th>\n",
       "      <th>total_payments</th>\n",
       "      <th>exercised_stock_options</th>\n",
       "      <th>bonus</th>\n",
       "      <th>restricted_stock</th>\n",
       "      <th>shared_receipt_with_poi</th>\n",
       "      <th>restricted_stock_deferred</th>\n",
       "      <th>total_stock_value</th>\n",
       "      <th>expenses</th>\n",
       "      <th>loan_advances</th>\n",
       "      <th>from_messages</th>\n",
       "      <th>other</th>\n",
       "      <th>from_this_person_to_poi</th>\n",
       "      <th>director_fees</th>\n",
       "      <th>deferred_income</th>\n",
       "      <th>long_term_incentive</th>\n",
       "      <th>from_poi_to_this_person</th>\n",
       "    </tr>\n",
       "  </thead>\n",
       "  <tbody>\n",
       "    <tr>\n",
       "      <th>0</th>\n",
       "      <td>18.575703</td>\n",
       "      <td>1.698824</td>\n",
       "      <td>0.217059</td>\n",
       "      <td>8.866722</td>\n",
       "      <td>25.097542</td>\n",
       "      <td>21.060002</td>\n",
       "      <td>9.346701</td>\n",
       "      <td>8.746486</td>\n",
       "      <td>0.064984</td>\n",
       "      <td>24.467654</td>\n",
       "      <td>6.234201</td>\n",
       "      <td>7.24273</td>\n",
       "      <td>0.164164</td>\n",
       "      <td>4.204971</td>\n",
       "      <td>2.45139</td>\n",
       "      <td>2.107656</td>\n",
       "      <td>11.595548</td>\n",
       "      <td>10.072455</td>\n",
       "      <td>5.366796</td>\n",
       "    </tr>\n",
       "  </tbody>\n",
       "</table>\n",
       "</div>"
      ],
      "text/plain": [
       "      salary  to_messages  deferral_payments  total_payments  \\\n",
       "0  18.575703     1.698824           0.217059        8.866722   \n",
       "\n",
       "   exercised_stock_options      bonus  restricted_stock  \\\n",
       "0                25.097542  21.060002          9.346701   \n",
       "\n",
       "   shared_receipt_with_poi  restricted_stock_deferred  total_stock_value  \\\n",
       "0                 8.746486                   0.064984          24.467654   \n",
       "\n",
       "   expenses  loan_advances  from_messages     other  from_this_person_to_poi  \\\n",
       "0  6.234201        7.24273       0.164164  4.204971                  2.45139   \n",
       "\n",
       "   director_fees  deferred_income  long_term_incentive  \\\n",
       "0       2.107656        11.595548            10.072455   \n",
       "\n",
       "   from_poi_to_this_person  \n",
       "0                 5.366796  "
      ]
     },
     "metadata": {},
     "output_type": "display_data"
    }
   ],
   "source": [
    "df_scores = pd.DataFrame(kbest.scores_.reshape(1,len(features.columns)), columns=features.columns)\n",
    "display(df_scores)"
   ]
  },
  {
   "cell_type": "code",
   "execution_count": 31,
   "metadata": {
    "collapsed": false
   },
   "outputs": [
    {
     "data": {
      "text/plain": [
       "array([  3.03379611e-05,   1.94551115e-01,   6.42003894e-01,\n",
       "         3.41592137e-03,   1.59454385e-06,   9.70247434e-06,\n",
       "         2.66996114e-03,   3.63440202e-03,   7.99153557e-01,\n",
       "         2.10580665e-06,   1.36731509e-02,   7.97381626e-03,\n",
       "         6.85960708e-01,   4.21447009e-02,   1.19646644e-01,\n",
       "         1.48769495e-01,   8.59803144e-04,   1.84543515e-03,\n",
       "         2.19542725e-02])"
      ]
     },
     "metadata": {},
     "output_type": "display_data"
    }
   ],
   "source": [
    "display(kbest.pvalues_)"
   ]
  },
  {
   "cell_type": "code",
   "execution_count": 32,
   "metadata": {
    "collapsed": false
   },
   "outputs": [
    {
     "data": {
      "image/png": "[encoded data removed]",
      "text/plain": [
       "<matplotlib.figure.Figure at 0x11acb4a50>"
      ]
     },
     "metadata": {},
     "output_type": "display_data"
    }
   ],
   "source": [
    "# visually inspect for high scores\n",
    "plt.scatter(x=range(features.shape[1]), y=kbest.scores_);"
   ]
  },
  {
   "cell_type": "code",
   "execution_count": 81,
   "metadata": {
    "collapsed": false
   },
   "outputs": [
    {
     "name": "stdout",
     "output_type": "stream",
     "text": [
      "[ 4  9  5  0 16 17  6  3  7]\n",
      "[0, 3, 4, 5, 6, 7, 9, 16, 17]\n",
      "[ 8 12  2  1 15 14 13 18 10 11  7  3  6 17 16  0  5  9  4]\n"
     ]
    }
   ],
   "source": [
    "# refit with new k\n",
    "best_k = 9\n",
    "kbest = SelectKBest(k=best_k)\n",
    "X_kbest = kbest.fit_transform(features, labels)\n",
    "\n",
    "# find best features\n",
    "best_idx = np.argsort(kbest.scores_)[-1:(0-best_k-1):-1]\n",
    "print best_idx\n",
    "print sorted(best_idx)\n",
    "print np.argsort(kbest.scores_)"
   ]
  },
  {
   "cell_type": "code",
   "execution_count": 55,
   "metadata": {
    "collapsed": false
   },
   "outputs": [
    {
     "data": {
      "text/html": [
       "<div>\n",
       "<table border=\"1\" class=\"dataframe\">\n",
       "  <thead>\n",
       "    <tr style=\"text-align: right;\">\n",
       "      <th></th>\n",
       "      <th>salary</th>\n",
       "      <th>total_payments</th>\n",
       "      <th>exercised_stock_options</th>\n",
       "      <th>bonus</th>\n",
       "      <th>restricted_stock</th>\n",
       "      <th>shared_receipt_with_poi</th>\n",
       "      <th>total_stock_value</th>\n",
       "      <th>deferred_income</th>\n",
       "      <th>long_term_incentive</th>\n",
       "    </tr>\n",
       "  </thead>\n",
       "  <tbody>\n",
       "    <tr>\n",
       "      <th>0</th>\n",
       "      <td>201955.0</td>\n",
       "      <td>4484442.0</td>\n",
       "      <td>1729541.0</td>\n",
       "      <td>4175000.0</td>\n",
       "      <td>126027.0</td>\n",
       "      <td>1407.0</td>\n",
       "      <td>1729541.0</td>\n",
       "      <td>-3081055.0</td>\n",
       "      <td>304805.0</td>\n",
       "    </tr>\n",
       "    <tr>\n",
       "      <th>1</th>\n",
       "      <td>0.0</td>\n",
       "      <td>182466.0</td>\n",
       "      <td>257817.0</td>\n",
       "      <td>0.0</td>\n",
       "      <td>0.0</td>\n",
       "      <td>0.0</td>\n",
       "      <td>257817.0</td>\n",
       "      <td>0.0</td>\n",
       "      <td>0.0</td>\n",
       "    </tr>\n",
       "    <tr>\n",
       "      <th>2</th>\n",
       "      <td>477.0</td>\n",
       "      <td>916197.0</td>\n",
       "      <td>4046157.0</td>\n",
       "      <td>0.0</td>\n",
       "      <td>1757552.0</td>\n",
       "      <td>465.0</td>\n",
       "      <td>5243487.0</td>\n",
       "      <td>-5104.0</td>\n",
       "      <td>0.0</td>\n",
       "    </tr>\n",
       "    <tr>\n",
       "      <th>3</th>\n",
       "      <td>267102.0</td>\n",
       "      <td>5634343.0</td>\n",
       "      <td>6680544.0</td>\n",
       "      <td>1200000.0</td>\n",
       "      <td>3942714.0</td>\n",
       "      <td>0.0</td>\n",
       "      <td>10623258.0</td>\n",
       "      <td>-1386055.0</td>\n",
       "      <td>1586055.0</td>\n",
       "    </tr>\n",
       "    <tr>\n",
       "      <th>4</th>\n",
       "      <td>239671.0</td>\n",
       "      <td>827696.0</td>\n",
       "      <td>0.0</td>\n",
       "      <td>400000.0</td>\n",
       "      <td>145796.0</td>\n",
       "      <td>0.0</td>\n",
       "      <td>63014.0</td>\n",
       "      <td>-201641.0</td>\n",
       "      <td>0.0</td>\n",
       "    </tr>\n",
       "  </tbody>\n",
       "</table>\n",
       "</div>"
      ],
      "text/plain": [
       "     salary  total_payments  exercised_stock_options      bonus  \\\n",
       "0  201955.0       4484442.0                1729541.0  4175000.0   \n",
       "1       0.0        182466.0                 257817.0        0.0   \n",
       "2     477.0        916197.0                4046157.0        0.0   \n",
       "3  267102.0       5634343.0                6680544.0  1200000.0   \n",
       "4  239671.0        827696.0                      0.0   400000.0   \n",
       "\n",
       "   restricted_stock  shared_receipt_with_poi  total_stock_value  \\\n",
       "0          126027.0                   1407.0          1729541.0   \n",
       "1               0.0                      0.0           257817.0   \n",
       "2         1757552.0                    465.0          5243487.0   \n",
       "3         3942714.0                      0.0         10623258.0   \n",
       "4          145796.0                      0.0            63014.0   \n",
       "\n",
       "   deferred_income  long_term_incentive  \n",
       "0       -3081055.0             304805.0  \n",
       "1              0.0                  0.0  \n",
       "2          -5104.0                  0.0  \n",
       "3       -1386055.0            1586055.0  \n",
       "4        -201641.0                  0.0  "
      ]
     },
     "execution_count": 55,
     "metadata": {},
     "output_type": "execute_result"
    }
   ],
   "source": [
    "# look at dataframe of new feature set\n",
    "df_kbest = pd.DataFrame(X_kbest, columns=features.columns[sorted(best_idx)])\n",
    "df_kbest.head()"
   ]
  },
  {
   "cell_type": "markdown",
   "metadata": {},
   "source": [
    "### What are best features if we remove Ken Lay?"
   ]
  },
  {
   "cell_type": "code",
   "execution_count": 44,
   "metadata": {
    "collapsed": false
   },
   "outputs": [
    {
     "data": {
      "text/html": [
       "<div>\n",
       "<table border=\"1\" class=\"dataframe\">\n",
       "  <thead>\n",
       "    <tr style=\"text-align: right;\">\n",
       "      <th></th>\n",
       "      <th>salary</th>\n",
       "      <th>to_messages</th>\n",
       "      <th>deferral_payments</th>\n",
       "      <th>total_payments</th>\n",
       "      <th>exercised_stock_options</th>\n",
       "      <th>bonus</th>\n",
       "      <th>restricted_stock</th>\n",
       "      <th>shared_receipt_with_poi</th>\n",
       "      <th>restricted_stock_deferred</th>\n",
       "      <th>total_stock_value</th>\n",
       "      <th>expenses</th>\n",
       "      <th>loan_advances</th>\n",
       "      <th>from_messages</th>\n",
       "      <th>other</th>\n",
       "      <th>from_this_person_to_poi</th>\n",
       "      <th>director_fees</th>\n",
       "      <th>deferred_income</th>\n",
       "      <th>long_term_incentive</th>\n",
       "      <th>from_poi_to_this_person</th>\n",
       "    </tr>\n",
       "  </thead>\n",
       "  <tbody>\n",
       "    <tr>\n",
       "      <th>79</th>\n",
       "      <td>1072321.0</td>\n",
       "      <td>4273.0</td>\n",
       "      <td>202911.0</td>\n",
       "      <td>103559793.0</td>\n",
       "      <td>34348384.0</td>\n",
       "      <td>7000000.0</td>\n",
       "      <td>14761694.0</td>\n",
       "      <td>2411.0</td>\n",
       "      <td>0.0</td>\n",
       "      <td>49110078.0</td>\n",
       "      <td>99832.0</td>\n",
       "      <td>81525000.0</td>\n",
       "      <td>36.0</td>\n",
       "      <td>10359729.0</td>\n",
       "      <td>16.0</td>\n",
       "      <td>0.0</td>\n",
       "      <td>-300000.0</td>\n",
       "      <td>3600000.0</td>\n",
       "      <td>123.0</td>\n",
       "    </tr>\n",
       "  </tbody>\n",
       "</table>\n",
       "</div>"
      ],
      "text/plain": [
       "       salary  to_messages  deferral_payments  total_payments  \\\n",
       "79  1072321.0       4273.0           202911.0     103559793.0   \n",
       "\n",
       "    exercised_stock_options      bonus  restricted_stock  \\\n",
       "79               34348384.0  7000000.0        14761694.0   \n",
       "\n",
       "    shared_receipt_with_poi  restricted_stock_deferred  total_stock_value  \\\n",
       "79                   2411.0                        0.0         49110078.0   \n",
       "\n",
       "    expenses  loan_advances  from_messages       other  \\\n",
       "79   99832.0     81525000.0           36.0  10359729.0   \n",
       "\n",
       "    from_this_person_to_poi  director_fees  deferred_income  \\\n",
       "79                     16.0            0.0        -300000.0   \n",
       "\n",
       "    long_term_incentive  from_poi_to_this_person  \n",
       "79            3600000.0                    123.0  "
      ]
     },
     "execution_count": 44,
     "metadata": {},
     "output_type": "execute_result"
    }
   ],
   "source": [
    "### Task 2: Remove outliers\n",
    "\n",
    "# row 79 is Ken Lay\n",
    "features[features.total_payments==max(features.total_payments)]"
   ]
  },
  {
   "cell_type": "code",
   "execution_count": 45,
   "metadata": {
    "collapsed": false
   },
   "outputs": [
    {
     "name": "stdout",
     "output_type": "stream",
     "text": [
      "(143, 19)\n",
      "(143,)\n"
     ]
    }
   ],
   "source": [
    "# create new sets without Ken Lay\n",
    "reduced_features = features.drop([79]).reset_index(drop=True)\n",
    "print reduced_features.shape\n",
    "\n",
    "reduced_labels = labels.drop([79]).reset_index(drop=True)\n",
    "print reduced_labels.shape"
   ]
  },
  {
   "cell_type": "code",
   "execution_count": 188,
   "metadata": {
    "collapsed": false
   },
   "outputs": [
    {
     "name": "stdout",
     "output_type": "stream",
     "text": [
      "Best indices: [ 4  9  5  0 16  7]\n",
      "Best scores: [13  8 12 11  2  1  3 15 14  6 18 10 17  7 16  0  5  9  4]\n"
     ]
    }
   ],
   "source": [
    "# refit with new k\n",
    "def SelectK(best_k=5, features=features, labels=labels):\n",
    "    kbest = SelectKBest(k=best_k)\n",
    "    X_new = kbest.fit_transform(features, labels)\n",
    "\n",
    "    # find best features\n",
    "    best_idx = np.argsort(kbest.scores_)[-1:(0-best_k-1):-1]\n",
    "    print 'Best indices: {}'.format(best_idx)\n",
    "    #print sorted(best_idx)\n",
    "    best_scores = kbest.scores_\n",
    "    print 'Best scores: {}'.format(np.argsort(kbest.scores_))\n",
    "    \n",
    "    return best_idx, best_scores, kbest\n",
    "\n",
    "# look at dataframe of new feature set\n",
    "best_idx, best_scores, kbest = SelectK(6, reduced_features, reduced_labels)\n",
    "X_reduced = kbest.fit_transform(reduced_features, reduced_labels)"
   ]
  },
  {
   "cell_type": "code",
   "execution_count": 189,
   "metadata": {
    "collapsed": false
   },
   "outputs": [
    {
     "data": {
      "text/html": [
       "<div>\n",
       "<table border=\"1\" class=\"dataframe\">\n",
       "  <thead>\n",
       "    <tr style=\"text-align: right;\">\n",
       "      <th></th>\n",
       "      <th>salary</th>\n",
       "      <th>exercised_stock_options</th>\n",
       "      <th>bonus</th>\n",
       "      <th>shared_receipt_with_poi</th>\n",
       "      <th>total_stock_value</th>\n",
       "      <th>deferred_income</th>\n",
       "    </tr>\n",
       "  </thead>\n",
       "  <tbody>\n",
       "    <tr>\n",
       "      <th>0</th>\n",
       "      <td>201955.0</td>\n",
       "      <td>1729541.0</td>\n",
       "      <td>4175000.0</td>\n",
       "      <td>1407.0</td>\n",
       "      <td>1729541.0</td>\n",
       "      <td>-3081055.0</td>\n",
       "    </tr>\n",
       "    <tr>\n",
       "      <th>1</th>\n",
       "      <td>0.0</td>\n",
       "      <td>257817.0</td>\n",
       "      <td>0.0</td>\n",
       "      <td>0.0</td>\n",
       "      <td>257817.0</td>\n",
       "      <td>0.0</td>\n",
       "    </tr>\n",
       "    <tr>\n",
       "      <th>2</th>\n",
       "      <td>477.0</td>\n",
       "      <td>4046157.0</td>\n",
       "      <td>0.0</td>\n",
       "      <td>465.0</td>\n",
       "      <td>5243487.0</td>\n",
       "      <td>-5104.0</td>\n",
       "    </tr>\n",
       "    <tr>\n",
       "      <th>3</th>\n",
       "      <td>267102.0</td>\n",
       "      <td>6680544.0</td>\n",
       "      <td>1200000.0</td>\n",
       "      <td>0.0</td>\n",
       "      <td>10623258.0</td>\n",
       "      <td>-1386055.0</td>\n",
       "    </tr>\n",
       "    <tr>\n",
       "      <th>4</th>\n",
       "      <td>239671.0</td>\n",
       "      <td>0.0</td>\n",
       "      <td>400000.0</td>\n",
       "      <td>0.0</td>\n",
       "      <td>63014.0</td>\n",
       "      <td>-201641.0</td>\n",
       "    </tr>\n",
       "  </tbody>\n",
       "</table>\n",
       "</div>"
      ],
      "text/plain": [
       "     salary  exercised_stock_options      bonus  shared_receipt_with_poi  \\\n",
       "0  201955.0                1729541.0  4175000.0                   1407.0   \n",
       "1       0.0                 257817.0        0.0                      0.0   \n",
       "2     477.0                4046157.0        0.0                    465.0   \n",
       "3  267102.0                6680544.0  1200000.0                      0.0   \n",
       "4  239671.0                      0.0   400000.0                      0.0   \n",
       "\n",
       "   total_stock_value  deferred_income  \n",
       "0          1729541.0       -3081055.0  \n",
       "1           257817.0              0.0  \n",
       "2          5243487.0          -5104.0  \n",
       "3         10623258.0       -1386055.0  \n",
       "4            63014.0        -201641.0  "
      ]
     },
     "metadata": {},
     "output_type": "display_data"
    }
   ],
   "source": [
    "df_new = pd.DataFrame(X_reduced, columns=reduced_features.columns[sorted(best_idx)])\n",
    "display(df_new.head())"
   ]
  },
  {
   "cell_type": "code",
   "execution_count": 186,
   "metadata": {
    "collapsed": false
   },
   "outputs": [
    {
     "data": {
      "text/html": [
       "<div>\n",
       "<table border=\"1\" class=\"dataframe\">\n",
       "  <thead>\n",
       "    <tr style=\"text-align: right;\">\n",
       "      <th></th>\n",
       "      <th>salary</th>\n",
       "      <th>to_messages</th>\n",
       "      <th>deferral_payments</th>\n",
       "      <th>total_payments</th>\n",
       "      <th>exercised_stock_options</th>\n",
       "      <th>bonus</th>\n",
       "      <th>restricted_stock</th>\n",
       "      <th>shared_receipt_with_poi</th>\n",
       "      <th>restricted_stock_deferred</th>\n",
       "      <th>total_stock_value</th>\n",
       "      <th>expenses</th>\n",
       "      <th>loan_advances</th>\n",
       "      <th>from_messages</th>\n",
       "      <th>other</th>\n",
       "      <th>from_this_person_to_poi</th>\n",
       "      <th>director_fees</th>\n",
       "      <th>deferred_income</th>\n",
       "      <th>long_term_incentive</th>\n",
       "      <th>from_poi_to_this_person</th>\n",
       "    </tr>\n",
       "  </thead>\n",
       "  <tbody>\n",
       "    <tr>\n",
       "      <th>0</th>\n",
       "      <td>12.381562</td>\n",
       "      <td>1.056387</td>\n",
       "      <td>0.221189</td>\n",
       "      <td>1.742171</td>\n",
       "      <td>16.800352</td>\n",
       "      <td>13.954285</td>\n",
       "      <td>3.314855</td>\n",
       "      <td>7.086261</td>\n",
       "      <td>0.061368</td>\n",
       "      <td>16.312508</td>\n",
       "      <td>4.970163</td>\n",
       "      <td>0.186247</td>\n",
       "      <td>0.131732</td>\n",
       "      <td>0.006532</td>\n",
       "      <td>2.638994</td>\n",
       "      <td>1.990368</td>\n",
       "      <td>11.849781</td>\n",
       "      <td>5.23276</td>\n",
       "      <td>4.446532</td>\n",
       "    </tr>\n",
       "  </tbody>\n",
       "</table>\n",
       "</div>"
      ],
      "text/plain": [
       "      salary  to_messages  deferral_payments  total_payments  \\\n",
       "0  12.381562     1.056387           0.221189        1.742171   \n",
       "\n",
       "   exercised_stock_options      bonus  restricted_stock  \\\n",
       "0                16.800352  13.954285          3.314855   \n",
       "\n",
       "   shared_receipt_with_poi  restricted_stock_deferred  total_stock_value  \\\n",
       "0                 7.086261                   0.061368          16.312508   \n",
       "\n",
       "   expenses  loan_advances  from_messages     other  from_this_person_to_poi  \\\n",
       "0  4.970163       0.186247       0.131732  0.006532                 2.638994   \n",
       "\n",
       "   director_fees  deferred_income  long_term_incentive  \\\n",
       "0       1.990368        11.849781              5.23276   \n",
       "\n",
       "   from_poi_to_this_person  \n",
       "0                 4.446532  "
      ]
     },
     "metadata": {},
     "output_type": "display_data"
    }
   ],
   "source": [
    "df_scores = pd.DataFrame(kbest.scores_.reshape(1,len(reduced_features.columns)), columns=reduced_features.columns)\n",
    "display(df_scores)"
   ]
  },
  {
   "cell_type": "code",
   "execution_count": 187,
   "metadata": {
    "collapsed": false
   },
   "outputs": [
    {
     "data": {
      "image/png": "[encoded data removed]",
      "text/plain": [
       "<matplotlib.figure.Figure at 0x11b516350>"
      ]
     },
     "metadata": {},
     "output_type": "display_data"
    }
   ],
   "source": [
    "# visually inspect for high scores\n",
    "plt.scatter(x=range(features.shape[1]), y=best_scores);"
   ]
  },
  {
   "cell_type": "markdown",
   "metadata": {},
   "source": [
    "### [Recursive Feature Elimination (RFE)](http://scikit-learn.org/stable/modules/generated/sklearn.feature_selection.RFE.html#sklearn.feature_selection.RFE)\n"
   ]
  },
  {
   "cell_type": "code",
   "execution_count": null,
   "metadata": {
    "collapsed": true
   },
   "outputs": [],
   "source": []
  },
  {
   "cell_type": "markdown",
   "metadata": {
    "collapsed": true
   },
   "source": [
    "Create new features\n",
    "-------------------\n",
    "### [Generate polynomial and interaction features](http://scikit-learn.org/stable/modules/generated/sklearn.preprocessing.PolynomialFeatures.html)"
   ]
  },
  {
   "cell_type": "code",
   "execution_count": 190,
   "metadata": {
    "collapsed": false
   },
   "outputs": [
    {
     "name": "stdout",
     "output_type": "stream",
     "text": [
      "(143, 191)\n"
     ]
    }
   ],
   "source": [
    "from sklearn.preprocessing import PolynomialFeatures\n",
    "\n",
    "# change the polynomial degree\n",
    "deg = 2\n",
    "poly = PolynomialFeatures(deg, include_bias=True, interaction_only=True)\n",
    "\n",
    "# use original features\n",
    "X_poly = poly.fit_transform(features)\n",
    "X_poly = poly.fit_transform(X_reduced)\n",
    "X_poly = poly.fit_transform(reduced_features)\n",
    "\n",
    "# use SelectKBest features\n",
    "#X_poly = poly.fit_transform(X_new)\n",
    "\n",
    "print X_poly.shape"
   ]
  },
  {
   "cell_type": "code",
   "execution_count": 70,
   "metadata": {
    "collapsed": false
   },
   "outputs": [
    {
     "name": "stdout",
     "output_type": "stream",
     "text": [
      "Best indices: [  0 202 178 115 147  35  90   5  10  95  96]\n",
      "Best scores: [158  71 192 186  46  98 125  39 133 199  94  58 167  32   9  64 137  61\n",
      "  68  59 149  73  22  52  65 184 112  67 128  79 151  70 191 140 144  86\n",
      "  13 185 121 182  53  57  83 187 148   3  72 145 101 150 152  28 188 153\n",
      "  50 170 161 108 154  48 146  63 209 183  62  40 165  56 201  60  45 196\n",
      " 139   2  69 194 127 200 203 114 208  16 118  87  15 143 195 207 198 138\n",
      " 173 135  34  66 169 206  36  33  14 160  85 193 119 189  51 132  19 129\n",
      " 197 168 171 100  38  21 126  11 179  55 159  99 113  44  84  54  89 181\n",
      " 136  12  31 166 175  49 176 180 177  97 157 111 124  82 174  74 104  43\n",
      "  88  75  80  77 141 164 190  23  81 142 131   8  76  41 162   4 123 102\n",
      "   7  78 204  18 122 116 105 107  27 120  47  17 205  92  30  42 110  20\n",
      " 130 106 134  26 117  93 109 163 103  91  29  37  24   1  25 155   6 156\n",
      " 172  96  95  10   5  90  35 147 115 178 202   0]\n"
     ]
    }
   ],
   "source": [
    "# look at dataframe of new feature set\n",
    "best_idx, best_scores, kbest = SelectK(11, X_poly, labels)\n",
    "X_poly_best = kbest.fit_transform(X_poly, labels)"
   ]
  },
  {
   "cell_type": "code",
   "execution_count": 74,
   "metadata": {
    "collapsed": false
   },
   "outputs": [
    {
     "name": "stdout",
     "output_type": "stream",
     "text": [
      "[nan, 8.6358700473936547e-05, 0.0042346622948221651, 0.021384076660697859, 0.059123521364757542, 0.06498431172371151, 0.080543468431578058, 0.095733804175315282, 0.16416449823428736, 0.2170589303395084]\n"
     ]
    }
   ],
   "source": [
    "print sorted(best_scores)[:10]"
   ]
  },
  {
   "cell_type": "code",
   "execution_count": null,
   "metadata": {
    "collapsed": true
   },
   "outputs": [],
   "source": [
    "# visually inspect for high scores\n",
    "plt.scatter(x=range(X_poly.shape[1]), y=best_scores);"
   ]
  },
  {
   "cell_type": "code",
   "execution_count": 54,
   "metadata": {
    "collapsed": false
   },
   "outputs": [
    {
     "name": "stdout",
     "output_type": "stream",
     "text": [
      "Features: (145, 19)\n",
      "Labels: (145,)\n"
     ]
    }
   ],
   "source": [
    "### Task 3: Create new feature(s)\n",
    "### Store to my_dataset for easy export below.\n",
    "my_dataset = data_dict\n",
    "\n",
    "### Extract features and labels from dataset for local testing\n",
    "features_list = ['poi','salary']\n",
    "features_list.extend([i for i in my_dataset.values()[0].keys() if i not in ['salary', 'poi', 'email_address']])\n",
    "\n",
    "data = featureFormat(my_dataset, features_list, sort_keys = True)\n",
    "labels, features = targetFeatureSplit(data)\n",
    "\n",
    "# Convert with pandas\n",
    "import pandas as pd\n",
    "\n",
    "labels = pd.Series(labels)\n",
    "features = pd.DataFrame(features, columns = features_list[1:])\n",
    "\n",
    "print \"Features: {}\".format(features.shape)\n",
    "print \"Labels: {}\".format(labels.shape)"
   ]
  },
  {
   "cell_type": "code",
   "execution_count": 25,
   "metadata": {
    "collapsed": false
   },
   "outputs": [
    {
     "data": {
      "text/html": [
       "<div>\n",
       "<table border=\"1\" class=\"dataframe\">\n",
       "  <thead>\n",
       "    <tr style=\"text-align: right;\">\n",
       "      <th></th>\n",
       "      <th>salary</th>\n",
       "      <th>to_messages</th>\n",
       "      <th>deferral_payments</th>\n",
       "      <th>total_payments</th>\n",
       "      <th>exercised_stock_options</th>\n",
       "      <th>bonus</th>\n",
       "      <th>restricted_stock</th>\n",
       "      <th>shared_receipt_with_poi</th>\n",
       "      <th>restricted_stock_deferred</th>\n",
       "      <th>total_stock_value</th>\n",
       "      <th>expenses</th>\n",
       "      <th>loan_advances</th>\n",
       "      <th>from_messages</th>\n",
       "      <th>other</th>\n",
       "      <th>from_this_person_to_poi</th>\n",
       "      <th>director_fees</th>\n",
       "      <th>deferred_income</th>\n",
       "      <th>long_term_incentive</th>\n",
       "      <th>from_poi_to_this_person</th>\n",
       "    </tr>\n",
       "  </thead>\n",
       "  <tbody>\n",
       "    <tr>\n",
       "      <th>0</th>\n",
       "      <td>201955</td>\n",
       "      <td>2902</td>\n",
       "      <td>2869717</td>\n",
       "      <td>4484442</td>\n",
       "      <td>1729541</td>\n",
       "      <td>4175000</td>\n",
       "      <td>126027</td>\n",
       "      <td>1407</td>\n",
       "      <td>-126027</td>\n",
       "      <td>1729541</td>\n",
       "      <td>13868</td>\n",
       "      <td>0</td>\n",
       "      <td>2195</td>\n",
       "      <td>152</td>\n",
       "      <td>65</td>\n",
       "      <td>0</td>\n",
       "      <td>-3081055</td>\n",
       "      <td>304805</td>\n",
       "      <td>47</td>\n",
       "    </tr>\n",
       "    <tr>\n",
       "      <th>1</th>\n",
       "      <td>0</td>\n",
       "      <td>0</td>\n",
       "      <td>178980</td>\n",
       "      <td>182466</td>\n",
       "      <td>257817</td>\n",
       "      <td>0</td>\n",
       "      <td>0</td>\n",
       "      <td>0</td>\n",
       "      <td>0</td>\n",
       "      <td>257817</td>\n",
       "      <td>3486</td>\n",
       "      <td>0</td>\n",
       "      <td>0</td>\n",
       "      <td>0</td>\n",
       "      <td>0</td>\n",
       "      <td>0</td>\n",
       "      <td>0</td>\n",
       "      <td>0</td>\n",
       "      <td>0</td>\n",
       "    </tr>\n",
       "    <tr>\n",
       "      <th>2</th>\n",
       "      <td>477</td>\n",
       "      <td>566</td>\n",
       "      <td>0</td>\n",
       "      <td>916197</td>\n",
       "      <td>4046157</td>\n",
       "      <td>0</td>\n",
       "      <td>1757552</td>\n",
       "      <td>465</td>\n",
       "      <td>-560222</td>\n",
       "      <td>5243487</td>\n",
       "      <td>56301</td>\n",
       "      <td>0</td>\n",
       "      <td>29</td>\n",
       "      <td>864523</td>\n",
       "      <td>0</td>\n",
       "      <td>0</td>\n",
       "      <td>-5104</td>\n",
       "      <td>0</td>\n",
       "      <td>39</td>\n",
       "    </tr>\n",
       "    <tr>\n",
       "      <th>3</th>\n",
       "      <td>267102</td>\n",
       "      <td>0</td>\n",
       "      <td>1295738</td>\n",
       "      <td>5634343</td>\n",
       "      <td>6680544</td>\n",
       "      <td>1200000</td>\n",
       "      <td>3942714</td>\n",
       "      <td>0</td>\n",
       "      <td>0</td>\n",
       "      <td>10623258</td>\n",
       "      <td>11200</td>\n",
       "      <td>0</td>\n",
       "      <td>0</td>\n",
       "      <td>2660303</td>\n",
       "      <td>0</td>\n",
       "      <td>0</td>\n",
       "      <td>-1386055</td>\n",
       "      <td>1586055</td>\n",
       "      <td>0</td>\n",
       "    </tr>\n",
       "    <tr>\n",
       "      <th>4</th>\n",
       "      <td>239671</td>\n",
       "      <td>0</td>\n",
       "      <td>260455</td>\n",
       "      <td>827696</td>\n",
       "      <td>0</td>\n",
       "      <td>400000</td>\n",
       "      <td>145796</td>\n",
       "      <td>0</td>\n",
       "      <td>-82782</td>\n",
       "      <td>63014</td>\n",
       "      <td>129142</td>\n",
       "      <td>0</td>\n",
       "      <td>0</td>\n",
       "      <td>69</td>\n",
       "      <td>0</td>\n",
       "      <td>0</td>\n",
       "      <td>-201641</td>\n",
       "      <td>0</td>\n",
       "      <td>0</td>\n",
       "    </tr>\n",
       "  </tbody>\n",
       "</table>\n",
       "</div>"
      ],
      "text/plain": [
       "   salary  to_messages  deferral_payments  total_payments  \\\n",
       "0  201955         2902            2869717         4484442   \n",
       "1       0            0             178980          182466   \n",
       "2     477          566                  0          916197   \n",
       "3  267102            0            1295738         5634343   \n",
       "4  239671            0             260455          827696   \n",
       "\n",
       "   exercised_stock_options    bonus  restricted_stock  \\\n",
       "0                  1729541  4175000            126027   \n",
       "1                   257817        0                 0   \n",
       "2                  4046157        0           1757552   \n",
       "3                  6680544  1200000           3942714   \n",
       "4                        0   400000            145796   \n",
       "\n",
       "   shared_receipt_with_poi  restricted_stock_deferred  total_stock_value  \\\n",
       "0                     1407                    -126027            1729541   \n",
       "1                        0                          0             257817   \n",
       "2                      465                    -560222            5243487   \n",
       "3                        0                          0           10623258   \n",
       "4                        0                     -82782              63014   \n",
       "\n",
       "   expenses  loan_advances  from_messages    other  from_this_person_to_poi  \\\n",
       "0     13868              0           2195      152                       65   \n",
       "1      3486              0              0        0                        0   \n",
       "2     56301              0             29   864523                        0   \n",
       "3     11200              0              0  2660303                        0   \n",
       "4    129142              0              0       69                        0   \n",
       "\n",
       "   director_fees  deferred_income  long_term_incentive  \\\n",
       "0              0         -3081055               304805   \n",
       "1              0                0                    0   \n",
       "2              0            -5104                    0   \n",
       "3              0         -1386055              1586055   \n",
       "4              0          -201641                    0   \n",
       "\n",
       "   from_poi_to_this_person  \n",
       "0                       47  \n",
       "1                        0  \n",
       "2                       39  \n",
       "3                        0  \n",
       "4                        0  "
      ]
     },
     "execution_count": 25,
     "metadata": {},
     "output_type": "execute_result"
    }
   ],
   "source": [
    "features.head()"
   ]
  },
  {
   "cell_type": "markdown",
   "metadata": {},
   "source": [
    "Train classifiers\n",
    "----------------------------"
   ]
  },
  {
   "cell_type": "code",
   "execution_count": 56,
   "metadata": {
    "collapsed": true
   },
   "outputs": [],
   "source": [
    "### Task 4: Try a varity of classifiers\n",
    "### Please name your classifier clf for easy export below.\n",
    "### Note that if you want to do PCA or other multi-stage operations,\n",
    "### you'll need to use Pipelines. For more info:\n",
    "### http://scikit-learn.org/stable/modules/pipeline.html\n",
    "\n",
    "# Provided to give you a starting point. Try a variety of classifiers.\n",
    "from sklearn.naive_bayes import GaussianNB\n",
    "from sklearn.naive_bayes import MultinomialNB\n",
    "from sklearn.tree import DecisionTreeClassifier\n",
    "from sklearn.svm import SVC\n",
    "from sklearn.linear_model import LogisticRegression"
   ]
  },
  {
   "cell_type": "code",
   "execution_count": 80,
   "metadata": {
    "collapsed": false
   },
   "outputs": [
    {
     "data": {
      "text/plain": [
       "(143,)"
      ]
     },
     "execution_count": 80,
     "metadata": {},
     "output_type": "execute_result"
    }
   ],
   "source": [
    "reduced_labels.shape"
   ]
  },
  {
   "cell_type": "code",
   "execution_count": 193,
   "metadata": {
    "collapsed": false
   },
   "outputs": [
    {
     "name": "stdout",
     "output_type": "stream",
     "text": [
      "Training accuracy:\n",
      "0.86\n",
      "Test accuracy:\n",
      "0.93023255814\n"
     ]
    }
   ],
   "source": [
    "### Task 5: Tune your classifier to achieve better than .3 precision and recall \n",
    "### using our testing script. Check the tester.py script in the final project\n",
    "### folder for details on the evaluation method, especially the test_classifier\n",
    "### function. Because of the small size of the dataset, the script uses\n",
    "### stratified shuffle split cross validation. For more info: \n",
    "### http://scikit-learn.org/stable/modules/generated/sklearn.cross_validation.StratifiedShuffleSplit.html\n",
    "\n",
    "# Example starting point. Try investigating other evaluation techniques!\n",
    "from sklearn.cross_validation import train_test_split\n",
    "\n",
    "''' Original features\n",
    "X_train, X_test, y_train, y_test = train_test_split(features, labels.astype(int), stratify=labels, \n",
    "                                                    test_size=0.3, random_state=42)\n",
    "'''\n",
    "\n",
    "# use features reduced by SelectKBest\n",
    "X_train, X_test, y_train, y_test = train_test_split(X_kbest, labels.astype(int), stratify=labels, \n",
    "                                                    test_size=0.3, random_state=42)\n",
    "\n",
    "''' Engineered features\n",
    "# use polynomial features\n",
    "X_train, X_test, y_train, y_test = train_test_split(X_poly, labels.astype(int), stratify=labels, \n",
    "                                                    test_size=0.3, random_state=42)\n",
    "                                                    \n",
    "# use polynomial features, 1 outlier removed\n",
    "X_train, X_test, y_train, y_test = train_test_split(X_poly, reduced_labels.astype(int), stratify=reduced_labels, \n",
    "                                                    test_size=0.3, random_state=42)\n",
    "\n",
    "# use features reduced by SelectKBest, after polynomial features added\n",
    "X_train, X_test, y_train, y_test = train_test_split(X_poly_best, labels.astype(int), stratify=labels, \n",
    "                                                    test_size=0.3, random_state=111)\n",
    "\n",
    "# use features reduced by SelectKBest, 1 outlier removed\n",
    "X_train, X_test, y_train, y_test = train_test_split(X_reduced, reduced_labels.astype(int), stratify=reduced_labels, \n",
    "                                                    test_size=0.3, random_state=42)\n",
    "'''\n",
    "# use features reduced by SelectKBest, 1 outlier removed\n",
    "X_train, X_test, y_train, y_test = train_test_split(X_reduced, reduced_labels.astype(int), stratify=reduced_labels, \n",
    "                                                    test_size=0.3, random_state=42)\n",
    "\n",
    "clf = GaussianNB()\n",
    "clf.fit(X_train, y_train)\n",
    "\n",
    "print \"Training accuracy:\"\n",
    "print clf.score(X_train, y_train)\n",
    "\n",
    "print \"Test accuracy:\"\n",
    "print clf.score(X_test, y_test)\n"
   ]
  },
  {
   "cell_type": "code",
   "execution_count": 211,
   "metadata": {
    "collapsed": false,
    "scrolled": false
   },
   "outputs": [
    {
     "name": "stdout",
     "output_type": "stream",
     "text": [
      "\n",
      "GaussianNB: \n",
      "\n",
      "             precision    recall  f1-score   support\n",
      "\n",
      "          0       0.93      1.00      0.96        38\n",
      "          1       1.00      0.40      0.57         5\n",
      "\n",
      "avg / total       0.94      0.93      0.92        43\n",
      "\n",
      "--------------------------------\n",
      "\n",
      "LogisticRegression: \n",
      "\n",
      "             precision    recall  f1-score   support\n",
      "\n",
      "          0       0.82      0.61      0.70        38\n",
      "          1       0.00      0.00      0.00         5\n",
      "\n",
      "avg / total       0.73      0.53      0.62        43\n",
      "\n",
      "--------------------------------\n",
      "\n",
      "DecisionTreeClassifier: \n",
      "\n",
      "             precision    recall  f1-score   support\n",
      "\n",
      "          0       0.88      0.95      0.91        38\n",
      "          1       0.00      0.00      0.00         5\n",
      "\n",
      "avg / total       0.78      0.84      0.81        43\n",
      "\n",
      "--------------------------------\n",
      "\n",
      "SVC: \n",
      "\n",
      "             precision    recall  f1-score   support\n",
      "\n",
      "          0       0.88      1.00      0.94        38\n",
      "          1       0.00      0.00      0.00         5\n",
      "\n",
      "avg / total       0.78      0.88      0.83        43\n",
      "\n",
      "--------------------------------\n",
      "\n",
      "LogisticRegression (scaled features): \n",
      "\n",
      "             precision    recall  f1-score   support\n",
      "\n",
      "          0       0.90      1.00      0.95        38\n",
      "          1       1.00      0.20      0.33         5\n",
      "\n",
      "avg / total       0.92      0.91      0.88        43\n",
      "\n",
      "--------------------------------\n",
      "\n",
      "SVC (scaled features): \n",
      "\n",
      "             precision    recall  f1-score   support\n",
      "\n",
      "          0       0.89      0.84      0.86        38\n",
      "          1       0.14      0.20      0.17         5\n",
      "\n",
      "avg / total       0.80      0.77      0.78        43\n",
      "\n",
      "--------------------------------\n"
     ]
    }
   ],
   "source": [
    "# classification report to view precision, recall, f1 score\n",
    "from sklearn.metrics import classification_report\n",
    "\n",
    "scaler = StandardScaler()\n",
    "X_train_pre = scaler.fit_transform(X_train)\n",
    "X_test_pre = scaler.transform(X_test)\n",
    "\n",
    "# loop thru models, then thru train sizes\n",
    "for clf in [GaussianNB(), LogisticRegression(), DecisionTreeClassifier(max_depth=None), SVC(class_weight='balanced')]:\n",
    "    print \"\\n{}: \\n\".format(clf.__class__.__name__)\n",
    "    clf.fit(X_train, y_train)\n",
    "    '''\n",
    "    print \"Training accuracy:\"\n",
    "    print clf.score(X_train, y_train)\n",
    "\n",
    "    print \"Test accuracy:\"\n",
    "    print clf.score(X_test, y_test)\n",
    "    ''' \n",
    "    print classification_report(y_test, clf.predict(X_test))\n",
    "    print '-'*32\n",
    "    \n",
    "for clf in [LogisticRegression(), SVC(class_weight='balanced')]:\n",
    "    print \"\\n{} (scaled features): \\n\".format(clf.__class__.__name__)\n",
    "    clf.fit(X_train_pre, y_train)\n",
    "    '''\n",
    "    print \"Training accuracy:\"\n",
    "    print clf.score(X_train, y_train)\n",
    "\n",
    "    print \"Test accuracy:\"\n",
    "    print clf.score(X_test, y_test)\n",
    "    ''' \n",
    "    print classification_report(y_test, clf.predict(X_test_pre))\n",
    "    print '-'*32"
   ]
  },
  {
   "cell_type": "markdown",
   "metadata": {},
   "source": [
    "### Feature importances: Decision Tree\n"
   ]
  },
  {
   "cell_type": "code",
   "execution_count": 123,
   "metadata": {
    "collapsed": false
   },
   "outputs": [
    {
     "name": "stdout",
     "output_type": "stream",
     "text": [
      "Training accuracy:\n",
      "1.0\n",
      "Test accuracy:\n",
      "0.75\n",
      "             precision    recall  f1-score   support\n",
      "\n",
      "          0       0.86      0.86      0.86        35\n",
      "          1       0.00      0.00      0.00         5\n",
      "\n",
      "avg / total       0.75      0.75      0.75        40\n",
      "\n"
     ]
    },
    {
     "data": {
      "text/plain": [
       "array([ 0.07912088,  0.09209838,  0.        ,  0.        ,  0.37959271,\n",
       "        0.        ,  0.07887237,  0.0207764 ,  0.        ,  0.        ,\n",
       "        0.06593407,  0.        ,  0.        ,  0.06593407,  0.06473526,\n",
       "        0.        ,  0.15293586,  0.        ,  0.        ])"
      ]
     },
     "execution_count": 123,
     "metadata": {},
     "output_type": "execute_result"
    }
   ],
   "source": [
    "X_train, X_test, y_train, y_test = train_test_split(features, labels.astype(int), stratify=labels, \n",
    "                                                    test_size=40, random_state=42)\n",
    "\n",
    "clf = DecisionTreeClassifier()\n",
    "clf.fit(X_train, y_train)\n",
    "\n",
    "print \"Training accuracy:\"\n",
    "print clf.score(X_train, y_train)\n",
    "\n",
    "print \"Test accuracy:\"\n",
    "print clf.score(X_test, y_test)\n",
    "    \n",
    "print classification_report(y_test, clf.predict(X_test))\n",
    "\n",
    "# print the feature importances\n",
    "clf.feature_importances_"
   ]
  },
  {
   "cell_type": "code",
   "execution_count": 213,
   "metadata": {
    "collapsed": false
   },
   "outputs": [
    {
     "data": {
      "image/png": "[encoded data removed]",
      "text/plain": [
       "<matplotlib.figure.Figure at 0x126008710>"
      ]
     },
     "metadata": {},
     "output_type": "display_data"
    }
   ],
   "source": [
    "# visually inspect for high scores\n",
    "fig, axes = plt.subplots(1,2, figsize=(10,3))\n",
    "\n",
    "axes[0].scatter(x=range(X_train.shape[1]), y=clf.feature_importances_)\n",
    "axes[0].set_title('Decision tree importances')\n",
    "\n",
    "axes[1].scatter(x=range(features.shape[1]), y=kbest.scores_)\n",
    "axes[1].set_title('SelectKBest scores');"
   ]
  },
  {
   "cell_type": "markdown",
   "metadata": {},
   "source": [
    "Grid Search, SVM\n",
    "-------"
   ]
  },
  {
   "cell_type": "code",
   "execution_count": 198,
   "metadata": {
    "collapsed": false
   },
   "outputs": [],
   "source": [
    "from sklearn.preprocessing import Normalizer\n",
    "from sklearn.preprocessing import StandardScaler\n",
    "\n",
    "normer = Normalizer()\n",
    "X_train_pre = normer.fit_transform(X_train)\n",
    "X_test_pre = normer.transform(X_test)\n",
    "\n",
    "scaler = StandardScaler()\n",
    "X_train_pre = scaler.fit_transform(X_train)\n",
    "X_test_pre = scaler.transform(X_test)"
   ]
  },
  {
   "cell_type": "code",
   "execution_count": 205,
   "metadata": {
    "collapsed": false
   },
   "outputs": [
    {
     "name": "stdout",
     "output_type": "stream",
     "text": [
      "SVC(C=2.9286445646252366, cache_size=200, class_weight=None, coef0=0.0,\n",
      "  decision_function_shape=None, degree=3, gamma=1.5848931924611134,\n",
      "  kernel='rbf', max_iter=-1, probability=False, random_state=None,\n",
      "  shrinking=True, tol=0.001, verbose=False) \n",
      "\n",
      "Test set results:\n",
      "             precision    recall  f1-score   support\n",
      "\n",
      "          0       0.88      0.97      0.93        38\n",
      "          1       0.00      0.00      0.00         5\n",
      "\n",
      "avg / total       0.78      0.86      0.82        43\n",
      "\n",
      "Train set results:\n",
      "             precision    recall  f1-score   support\n",
      "\n",
      "          0       0.98      1.00      0.99        88\n",
      "          1       1.00      0.83      0.91        12\n",
      "\n",
      "avg / total       0.98      0.98      0.98       100\n",
      "\n"
     ]
    }
   ],
   "source": [
    "from sklearn.grid_search import GridSearchCV\n",
    "from sklearn import metrics\n",
    "from sklearn.preprocessing import StandardScaler\n",
    "\n",
    "# Xcale the data\n",
    "scaler = StandardScaler()\n",
    "X_train_pre = scaler.fit_transform(X_train)\n",
    "X_test_pre = scaler.transform(X_test)\n",
    "\n",
    "# Create a scoring function\n",
    "f1_scorer = metrics.make_scorer(metrics.f1_score)\n",
    "\n",
    "# Setup parameters and cross validation for model optimization through Grid Search\n",
    "C_range = np.logspace(0, 1, 16)\n",
    "gamma_range = np.logspace(-1, 1, 16)\n",
    "parameters = dict(gamma=gamma_range, C=C_range)\n",
    "\n",
    "# Fit the grid object\n",
    "grid_obj = GridSearchCV(SVC(), parameters, scoring=f1_scorer, cv=5)\n",
    "grid_obj.fit(X_train_pre, y_train)\n",
    "\n",
    "# Select the best settings for classifier\n",
    "best_clf = grid_obj.best_estimator_\n",
    "\n",
    "# Show the tuned model's parameters\n",
    "print best_clf, \"\\n\"\n",
    "\n",
    "# Test the algorithm's performance\n",
    "print 'Test set results:\\n', classification_report(y_test, best_clf.predict(X_test_pre))\n",
    "print 'Train set results:\\n', classification_report(y_train, best_clf.predict(X_train_pre))"
   ]
  },
  {
   "cell_type": "code",
   "execution_count": null,
   "metadata": {
    "collapsed": true
   },
   "outputs": [],
   "source": [
    "print \"F1 score for training set: {}\\n\".format(metrics.f1_score(best_clf.predict(X_train_pre), y_train))\n",
    "print \"F1 score for test set: {}\\n\".format(metrics.f1_score(best_clf.predict(X_test_pre), y_test))"
   ]
  },
  {
   "cell_type": "code",
   "execution_count": 160,
   "metadata": {
    "collapsed": false
   },
   "outputs": [
    {
     "data": {
      "image/png": "[encoded data removed]",
      "text/plain": [
       "<matplotlib.figure.Figure at 0x1148f7c90>"
      ]
     },
     "metadata": {},
     "output_type": "display_data"
    }
   ],
   "source": [
    "# heatmap of best scores\n",
    "import matplotlib.pyplot as plt\n",
    "%matplotlib inline\n",
    "import seaborn as sns\n",
    "\n",
    "x_range = ('gamma', gamma_range)\n",
    "y_range = ('C', C_range)\n",
    "\n",
    "scores = [x[1] for x in grid_obj.grid_scores_]\n",
    "scores = np.array(scores).reshape(len(y_range[1]), len(x_range[1]))\n",
    "\n",
    "fig, ax = plt.subplots(figsize=(12,4))\n",
    "\n",
    "ax = sns.heatmap(scores, annot=True, fmt=\".4f\")\n",
    "ax.set_xlabel(x_range[0])\n",
    "ax.set_ylabel(y_range[0], rotation=0)\n",
    "ax.yaxis.labelpad = 8\n",
    "ax.set_xticklabels(x_range[1], rotation=45, ha='center')\n",
    "ax.set_yticklabels(y_range[1][::-1], rotation=0, va='center')\n",
    "ax.set_title(\"The best parameters are:\\n {}\\nwith a score of {:0.4f}.\".format(\n",
    "        grid_obj.best_params_, grid_obj.best_score_)\n",
    "         );"
   ]
  },
  {
   "cell_type": "markdown",
   "metadata": {},
   "source": [
    "Grid Search, Decision Tree\n",
    "-------"
   ]
  },
  {
   "cell_type": "code",
   "execution_count": 127,
   "metadata": {
    "collapsed": false
   },
   "outputs": [
    {
     "data": {
      "text/plain": [
       "DecisionTreeClassifier(class_weight=None, criterion='gini', max_depth=None,\n",
       "            max_features=None, max_leaf_nodes=None, min_samples_leaf=1,\n",
       "            min_samples_split=2, min_weight_fraction_leaf=0.0,\n",
       "            presort=False, random_state=None, splitter='best')"
      ]
     },
     "execution_count": 127,
     "metadata": {},
     "output_type": "execute_result"
    }
   ],
   "source": [
    "DecisionTreeClassifier()"
   ]
  },
  {
   "cell_type": "code",
   "execution_count": 200,
   "metadata": {
    "collapsed": false
   },
   "outputs": [
    {
     "name": "stdout",
     "output_type": "stream",
     "text": [
      "Final Model: \n",
      "DecisionTreeClassifier(class_weight=None, criterion='gini', max_depth=6,\n",
      "            max_features=None, max_leaf_nodes=None, min_samples_leaf=1,\n",
      "            min_samples_split=2, min_weight_fraction_leaf=0.0,\n",
      "            presort=False, random_state=None, splitter='best') \n",
      "\n",
      "             precision    recall  f1-score   support\n",
      "\n",
      "          0       0.90      0.97      0.94        38\n",
      "          1       0.50      0.20      0.29         5\n",
      "\n",
      "avg / total       0.86      0.88      0.86        43\n",
      "\n"
     ]
    }
   ],
   "source": [
    "## Setup parameters and cross validation for model optimization through Grid Search\n",
    "parameters = {'class_weight': [None, 'balanced'],\n",
    "              'max_depth': [4,6,8,None],\n",
    "              'min_samples_split': [2,4,8]\n",
    "             }\n",
    "\n",
    "# fit the grid object\n",
    "grid_obj = GridSearchCV(DecisionTreeClassifier(), parameters, scoring=f1_scorer, cv=5)\n",
    "grid_obj.fit(X_train, y_train)\n",
    "\n",
    "# Select the best settings for classifier\n",
    "best_clf = grid_obj.best_estimator_\n",
    "\n",
    "# Fit the algorithm to the training data\n",
    "print \"Final Model: \"\n",
    "print best_clf, \"\\n\"\n",
    "\n",
    "# Test algorithm's performance\n",
    "print \"F1 score for training set: {}\\n\".format(metrics.f1_score(best_clf.predict(X_train), y_train))\n",
    "print \"F1 score for test set: {}\\n\".format(metrics.f1_score(best_clf.predict(X_test), y_test))\n",
    "print classification_report(y_test, best_clf.predict(X_test))"
   ]
  },
  {
   "cell_type": "code",
   "execution_count": null,
   "metadata": {
    "collapsed": true
   },
   "outputs": [],
   "source": [
    "### Task 6: Dump your classifier, dataset, and features_list so anyone can\n",
    "### check your results. You do not need to change anything below, but make sure\n",
    "### that the version of poi_id.py that you submit can be run on its own and\n",
    "### generates the necessary .pkl files for validating your results.\n",
    "\n",
    "dump_classifier_and_data(clf, my_dataset, features_list)"
   ]
  },
  {
   "cell_type": "markdown",
   "metadata": {},
   "source": [
    "---"
   ]
  },
  {
   "cell_type": "markdown",
   "metadata": {},
   "source": [
    "Load the submission file 'poi_id.py'\n",
    "--------------\n",
    "\n",
    "Use command:  \n",
    "**`%load poi_id.py`**"
   ]
  },
  {
   "cell_type": "code",
   "execution_count": null,
   "metadata": {
    "collapsed": true
   },
   "outputs": [],
   "source": []
  },
  {
   "cell_type": "markdown",
   "metadata": {},
   "source": [
    "---\n",
    "\n",
    "Enron Submission Free-Response [Questions](https://docs.google.com/document/d/1NDgi1PrNJP7WTbfSUuRUnz8yzs5nGVTSzpO7oeNTEWA/pub?embedded=true)\n",
    "----------------------------------------"
   ]
  },
  {
   "cell_type": "markdown",
   "metadata": {},
   "source": [
    "*1. Summarize for us the goal of this project and how machine learning is useful in trying to accomplish it. As part of your answer, give some background on the dataset and how it can be used to answer the project question. Were there any outliers in the data when you got it, and how did you handle those?  [relevant rubric items: “data exploration”, “outlier investigation”]*\n",
    "\n",
    "### __Background__:  \n",
    "Enron was an energy company that at one time was one of the largest companies in the United States before going bankrupt due to widespread corporate fraud. In the resulting Federal investigation, a significant amount of information entered into the public record, including tens of thousands of emails and detailed financial data for top executives. \n",
    "\n",
    "Using this financial and email data, we will build a classifier to identify whether or not an Enron employee was a \"persons of interest\" (POI) — individuals who were indicted, reached a settlement or plea deal with the government, or testified in exchange for prosecution immunity. The classifier will be trained using features we know about employees from the public record data (eg, salary, number of emails sent) and a label of whether an employee was a POI or not. This trained classifier will then be used on a portion of the data withheld from training, where we make predictions for whether an employee is a POI or not. We measure the classifier's performance by comparing the predictions against the actual labels of the employees.\n",
    "\n",
    "### __Data Exploration__:  \n",
    "Our dataset has a total of 144 instances, with 18 that are POI's (ie, 12.5% of the data) — 3 items in `data_dict` were not utilized (1 was a TOTAL of all features, 1 had all null values). After removing 1 outlier (Enron CEO Kenneth Lay), we end up with 143 data points and 17 POI's.\n",
    "\n",
    "Our analysis is performed with 19 features, although the `data_dict` actually has 20 features in total (the feature \"email address\" is removed). \n",
    "\n",
    "We have a number of NaN (null) values which we convert to 0 (two exceptions are noted below):\n",
    "```\n",
    "    salary 51\n",
    "    to_messages 60\n",
    "    deferral_payments 107\n",
    "    total_payments 21\n",
    "    exercised_stock_options 44\n",
    "    bonus 64\n",
    "    restricted_stock 36\n",
    "    shared_receipt_with_poi 60\n",
    "    restricted_stock_deferred 128\n",
    "    total_stock_value 20\n",
    "    expenses 51\n",
    "    loan_advances 142\n",
    "    from_messages 60\n",
    "    other 53\n",
    "    from_this_person_to_poi 60 (nulls converted to -1)\n",
    "    director_fees 129\n",
    "    deferred_income 97\n",
    "    long_term_incentive 80\n",
    "    email_address 35\n",
    "    from_poi_to_this_person 60 (nulls converted to -1)\n",
    "```\n",
    "\n",
    "### __Outlier Investigation__:  \n",
    "Visual inspection of each of the features using a boxplot showed a couple of notable outliers in the financial features. One turned out to be a \"total\" of each feature and was remvoved from the dataset. The other was Enron CEO Kenneth Lay, who was removed from the dataset after some experimentation with keeping him in. There were also a few outliers in the email features, but no other outliers were removed in order to preserve the already small size of the dataset."
   ]
  },
  {
   "cell_type": "code",
   "execution_count": 77,
   "metadata": {
    "collapsed": false
   },
   "outputs": [
    {
     "data": {
      "image/png": "[encoded data removed]",
      "text/plain": [
       "<matplotlib.figure.Figure at 0x11b26b050>"
      ]
     },
     "metadata": {},
     "output_type": "display_data"
    }
   ],
   "source": [
    "# Boxplots of financial features"
   ]
  },
  {
   "cell_type": "code",
   "execution_count": 80,
   "metadata": {
    "collapsed": false
   },
   "outputs": [
    {
     "data": {
      "image/png": "[encoded data removed]",
      "text/plain": [
       "<matplotlib.figure.Figure at 0x11b961650>"
      ]
     },
     "metadata": {},
     "output_type": "display_data"
    }
   ],
   "source": [
    "# Boxplots of email features"
   ]
  },
  {
   "cell_type": "markdown",
   "metadata": {},
   "source": [
    "---\n",
    "*2. What features did you end up using in your POI identifier, and what selection process did you use to pick them? Did you have to do any scaling? Why or why not? As part of the assignment, you should attempt to engineer your own feature that does not come ready-made in the dataset -- explain what feature you tried to make, and the rationale behind it. (You do not necessarily have to use it in the final analysis, only engineer and test it.) In your feature selection step, if you used an algorithm like a decision tree, please also give the feature importances of the features that you use, and if you used an automated feature selection function like SelectKBest, please report the feature scores and reasons for your choice of parameter values.  [relevant rubric items: “create new features”, “properly scale features”, “intelligently select feature”]*\n",
    "\n",
    "### **Feature Selection**:  \n",
    "Our POI identifier ends up using 6 features, which were selected using sklearn's [SelectKBest](http://scikit-learn.org/stable/modules/generated/sklearn.feature_selection.SelectKBest.html). The feature scores were as follows:"
   ]
  },
  {
   "cell_type": "code",
   "execution_count": 186,
   "metadata": {
    "collapsed": false
   },
   "outputs": [
    {
     "data": {
      "text/html": [
       "<div>\n",
       "<table border=\"1\" class=\"dataframe\">\n",
       "  <thead>\n",
       "    <tr style=\"text-align: right;\">\n",
       "      <th></th>\n",
       "      <th>salary</th>\n",
       "      <th>to_messages</th>\n",
       "      <th>deferral_payments</th>\n",
       "      <th>total_payments</th>\n",
       "      <th>exercised_stock_options</th>\n",
       "      <th>bonus</th>\n",
       "      <th>restricted_stock</th>\n",
       "      <th>shared_receipt_with_poi</th>\n",
       "      <th>restricted_stock_deferred</th>\n",
       "      <th>total_stock_value</th>\n",
       "      <th>expenses</th>\n",
       "      <th>loan_advances</th>\n",
       "      <th>from_messages</th>\n",
       "      <th>other</th>\n",
       "      <th>from_this_person_to_poi</th>\n",
       "      <th>director_fees</th>\n",
       "      <th>deferred_income</th>\n",
       "      <th>long_term_incentive</th>\n",
       "      <th>from_poi_to_this_person</th>\n",
       "    </tr>\n",
       "  </thead>\n",
       "  <tbody>\n",
       "    <tr>\n",
       "      <th>0</th>\n",
       "      <td>12.381562</td>\n",
       "      <td>1.056387</td>\n",
       "      <td>0.221189</td>\n",
       "      <td>1.742171</td>\n",
       "      <td>16.800352</td>\n",
       "      <td>13.954285</td>\n",
       "      <td>3.314855</td>\n",
       "      <td>7.086261</td>\n",
       "      <td>0.061368</td>\n",
       "      <td>16.312508</td>\n",
       "      <td>4.970163</td>\n",
       "      <td>0.186247</td>\n",
       "      <td>0.131732</td>\n",
       "      <td>0.006532</td>\n",
       "      <td>2.638994</td>\n",
       "      <td>1.990368</td>\n",
       "      <td>11.849781</td>\n",
       "      <td>5.23276</td>\n",
       "      <td>4.446532</td>\n",
       "    </tr>\n",
       "  </tbody>\n",
       "</table>\n",
       "</div>"
      ],
      "text/plain": [
       "      salary  to_messages  deferral_payments  total_payments  \\\n",
       "0  12.381562     1.056387           0.221189        1.742171   \n",
       "\n",
       "   exercised_stock_options      bonus  restricted_stock  \\\n",
       "0                16.800352  13.954285          3.314855   \n",
       "\n",
       "   shared_receipt_with_poi  restricted_stock_deferred  total_stock_value  \\\n",
       "0                 7.086261                   0.061368          16.312508   \n",
       "\n",
       "   expenses  loan_advances  from_messages     other  from_this_person_to_poi  \\\n",
       "0  4.970163       0.186247       0.131732  0.006532                 2.638994   \n",
       "\n",
       "   director_fees  deferred_income  long_term_incentive  \\\n",
       "0       1.990368        11.849781              5.23276   \n",
       "\n",
       "   from_poi_to_this_person  \n",
       "0                 4.446532  "
      ]
     },
     "metadata": {},
     "output_type": "display_data"
    }
   ],
   "source": [
    "# SelectKBest scores"
   ]
  },
  {
   "cell_type": "markdown",
   "metadata": {},
   "source": [
    "The feature scores were visually inspected to spot any standout features. The below plot shows 5 features really stood out, and ultimately the top 6 were selected for use (the 6th feature is the only email feature used)."
   ]
  },
  {
   "cell_type": "code",
   "execution_count": 187,
   "metadata": {
    "collapsed": false
   },
   "outputs": [
    {
     "data": {
      "image/png": "[encoded data removed]",
      "text/plain": [
       "<matplotlib.figure.Figure at 0x11b516350>"
      ]
     },
     "metadata": {},
     "output_type": "display_data"
    }
   ],
   "source": [
    "# Plot of SelectKBest scores"
   ]
  },
  {
   "cell_type": "markdown",
   "metadata": {},
   "source": [
    "Here's a look at the features that were ultimately used:"
   ]
  },
  {
   "cell_type": "code",
   "execution_count": 189,
   "metadata": {
    "collapsed": false
   },
   "outputs": [
    {
     "data": {
      "text/html": [
       "<div>\n",
       "<table border=\"1\" class=\"dataframe\">\n",
       "  <thead>\n",
       "    <tr style=\"text-align: right;\">\n",
       "      <th></th>\n",
       "      <th>salary</th>\n",
       "      <th>exercised_stock_options</th>\n",
       "      <th>bonus</th>\n",
       "      <th>shared_receipt_with_poi</th>\n",
       "      <th>total_stock_value</th>\n",
       "      <th>deferred_income</th>\n",
       "    </tr>\n",
       "  </thead>\n",
       "  <tbody>\n",
       "    <tr>\n",
       "      <th>0</th>\n",
       "      <td>201955.0</td>\n",
       "      <td>1729541.0</td>\n",
       "      <td>4175000.0</td>\n",
       "      <td>1407.0</td>\n",
       "      <td>1729541.0</td>\n",
       "      <td>-3081055.0</td>\n",
       "    </tr>\n",
       "    <tr>\n",
       "      <th>1</th>\n",
       "      <td>0.0</td>\n",
       "      <td>257817.0</td>\n",
       "      <td>0.0</td>\n",
       "      <td>0.0</td>\n",
       "      <td>257817.0</td>\n",
       "      <td>0.0</td>\n",
       "    </tr>\n",
       "    <tr>\n",
       "      <th>2</th>\n",
       "      <td>477.0</td>\n",
       "      <td>4046157.0</td>\n",
       "      <td>0.0</td>\n",
       "      <td>465.0</td>\n",
       "      <td>5243487.0</td>\n",
       "      <td>-5104.0</td>\n",
       "    </tr>\n",
       "    <tr>\n",
       "      <th>3</th>\n",
       "      <td>267102.0</td>\n",
       "      <td>6680544.0</td>\n",
       "      <td>1200000.0</td>\n",
       "      <td>0.0</td>\n",
       "      <td>10623258.0</td>\n",
       "      <td>-1386055.0</td>\n",
       "    </tr>\n",
       "    <tr>\n",
       "      <th>4</th>\n",
       "      <td>239671.0</td>\n",
       "      <td>0.0</td>\n",
       "      <td>400000.0</td>\n",
       "      <td>0.0</td>\n",
       "      <td>63014.0</td>\n",
       "      <td>-201641.0</td>\n",
       "    </tr>\n",
       "  </tbody>\n",
       "</table>\n",
       "</div>"
      ],
      "text/plain": [
       "     salary  exercised_stock_options      bonus  shared_receipt_with_poi  \\\n",
       "0  201955.0                1729541.0  4175000.0                   1407.0   \n",
       "1       0.0                 257817.0        0.0                      0.0   \n",
       "2     477.0                4046157.0        0.0                    465.0   \n",
       "3  267102.0                6680544.0  1200000.0                      0.0   \n",
       "4  239671.0                      0.0   400000.0                      0.0   \n",
       "\n",
       "   total_stock_value  deferred_income  \n",
       "0          1729541.0       -3081055.0  \n",
       "1           257817.0              0.0  \n",
       "2          5243487.0          -5104.0  \n",
       "3         10623258.0       -1386055.0  \n",
       "4            63014.0        -201641.0  "
      ]
     },
     "metadata": {},
     "output_type": "display_data"
    }
   ],
   "source": [
    "# Display head of our dataset of 6 highest scoring features"
   ]
  },
  {
   "cell_type": "markdown",
   "metadata": {},
   "source": [
    "### **Feature Engineering**:  \n",
    "\n",
    "New [polynomial features](scikit-learn.org/stable/modules/generated/sklearn.preprocessing.PolynomialFeatures.html) were created to detect any interaction between features. Model performance with these features was not as good as simply using the 6 best features."
   ]
  },
  {
   "cell_type": "code",
   "execution_count": 192,
   "metadata": {
    "collapsed": false,
    "scrolled": false
   },
   "outputs": [
    {
     "name": "stdout",
     "output_type": "stream",
     "text": [
      "\n",
      "GaussianNB: \n",
      "\n",
      "             precision    recall  f1-score   support\n",
      "\n",
      "          0       0.88      0.18      0.30        38\n",
      "          1       0.11      0.80      0.20         5\n",
      "\n",
      "avg / total       0.79      0.26      0.29        43\n",
      "\n",
      "--------------------------------\n",
      "\n",
      "LogisticRegression: \n",
      "\n",
      "             precision    recall  f1-score   support\n",
      "\n",
      "          0       0.89      0.87      0.88        38\n",
      "          1       0.17      0.20      0.18         5\n",
      "\n",
      "avg / total       0.81      0.79      0.80        43\n",
      "\n",
      "--------------------------------\n",
      "\n",
      "DecisionTreeClassifier: \n",
      "\n",
      "             precision    recall  f1-score   support\n",
      "\n",
      "          0       0.90      0.92      0.91        38\n",
      "          1       0.25      0.20      0.22         5\n",
      "\n",
      "avg / total       0.82      0.84      0.83        43\n",
      "\n",
      "--------------------------------\n",
      "\n",
      "SVC: \n",
      "\n",
      "             precision    recall  f1-score   support\n",
      "\n",
      "          0       0.88      1.00      0.94        38\n",
      "          1       0.00      0.00      0.00         5\n",
      "\n",
      "avg / total       0.78      0.88      0.83        43\n",
      "\n",
      "--------------------------------\n"
     ]
    }
   ],
   "source": [
    "# Test set results of models fitted on polynomial features"
   ]
  },
  {
   "cell_type": "markdown",
   "metadata": {},
   "source": [
    "---\n",
    "*3. What algorithm did you end up using? What other one(s) did you try? How did model performance differ between algorithms?  [relevant rubric item: “pick an algorithm”]*\n",
    "\n",
    "### **Pick an Algorithm**:  \n",
    "\n",
    "We end up using Naive Bayes, which likely performed well given the small amount of data.\n",
    "\n",
    "We also looked at other classifiers, including Logistic Regression to use a linear separator, and SVM and Decision Tree to try out non-linear separators. Our features were scaled for Logistic Regression and SVM, but neither they nor the Decision Tree could outperform Naive Bayes. \n",
    "\n",
    "Given that the Naive Bayes model has no parameters to tune, we will attempt to tune the SVM."
   ]
  },
  {
   "cell_type": "code",
   "execution_count": 211,
   "metadata": {
    "collapsed": false,
    "scrolled": false
   },
   "outputs": [
    {
     "name": "stdout",
     "output_type": "stream",
     "text": [
      "\n",
      "GaussianNB: \n",
      "\n",
      "             precision    recall  f1-score   support\n",
      "\n",
      "          0       0.93      1.00      0.96        38\n",
      "          1       1.00      0.40      0.57         5\n",
      "\n",
      "avg / total       0.94      0.93      0.92        43\n",
      "\n",
      "--------------------------------\n",
      "\n",
      "LogisticRegression: \n",
      "\n",
      "             precision    recall  f1-score   support\n",
      "\n",
      "          0       0.82      0.61      0.70        38\n",
      "          1       0.00      0.00      0.00         5\n",
      "\n",
      "avg / total       0.73      0.53      0.62        43\n",
      "\n",
      "--------------------------------\n",
      "\n",
      "DecisionTreeClassifier: \n",
      "\n",
      "             precision    recall  f1-score   support\n",
      "\n",
      "          0       0.88      0.95      0.91        38\n",
      "          1       0.00      0.00      0.00         5\n",
      "\n",
      "avg / total       0.78      0.84      0.81        43\n",
      "\n",
      "--------------------------------\n",
      "\n",
      "SVC: \n",
      "\n",
      "             precision    recall  f1-score   support\n",
      "\n",
      "          0       0.88      1.00      0.94        38\n",
      "          1       0.00      0.00      0.00         5\n",
      "\n",
      "avg / total       0.78      0.88      0.83        43\n",
      "\n",
      "--------------------------------\n",
      "\n",
      "LogisticRegression (scaled features): \n",
      "\n",
      "             precision    recall  f1-score   support\n",
      "\n",
      "          0       0.90      1.00      0.95        38\n",
      "          1       1.00      0.20      0.33         5\n",
      "\n",
      "avg / total       0.92      0.91      0.88        43\n",
      "\n",
      "--------------------------------\n",
      "\n",
      "SVC (scaled features): \n",
      "\n",
      "             precision    recall  f1-score   support\n",
      "\n",
      "          0       0.89      0.84      0.86        38\n",
      "          1       0.14      0.20      0.17         5\n",
      "\n",
      "avg / total       0.80      0.77      0.78        43\n",
      "\n",
      "--------------------------------\n"
     ]
    }
   ],
   "source": [
    "# Test set results of models fitted on 6 highest scoring features"
   ]
  },
  {
   "cell_type": "markdown",
   "metadata": {},
   "source": [
    "---\n",
    "*4. What does it mean to tune the parameters of an algorithm, and what can happen if you don’t do this well?  How did you tune the parameters of your particular algorithm? (Some algorithms do not have parameters that you need to tune -- if this is the case for the one you picked, identify and briefly explain how you would have done it for the model that was not your final choice or a different model that does utilize parameter tuning, e.g. a decision tree classifier).  [relevant rubric item: “tune the algorithm”]*\n",
    "\n",
    "### **Parameter tuning**:  \n",
    "Most machine learning algorithms have parameters that can be adjusted with different values to produce different  fits to a given dataset. For example, with SVMs we can adjust the `gamma` parameter that defines how far the influence of a single training example reaches, and the `C` parameter that trades off misclassification of training examples against simplicity of the decision surface (see: [RBF SVM parameters](http://scikit-learn.org/stable/auto_examples/svm/plot_rbf_parameters.html)).\n",
    "\n",
    "Default parameters for many [sklearn estimators were benchmarked](http://partiallyderivative.com/podcast/2016/06/27/randy-olson-interview) with the [MNIST](http://yann.lecun.com/exdb/mnist/) dataset, which isn't necessarily translatable to predicting other types of data and datasets (also see [new project to create sklearn benchmarks](https://github.com/rhiever/sklearn-benchmarks)). This makes it very important to try out other parameter settings to find the best fit of the model to the data being examined.\n",
    "\n",
    "With grid search we can specify a set of different parameter values to see if different settings can improve the performace of the model, in effect \"tuning\" the model to be most effective with our data. Here, the grid search successfully improves the test results of the SVM.\n",
    "\n",
    "Untuned model results:\n",
    "```\n",
    "precision    recall    f1-score     support\n",
    "0.14         0.20      0.17         5\n",
    "```       \n",
    "Tuned model results:\n",
    "```\n",
    "precision    recall    f1-score     support\n",
    "0.33         0.40      0.36         5\n",
    "```"
   ]
  },
  {
   "cell_type": "code",
   "execution_count": 208,
   "metadata": {
    "collapsed": false
   },
   "outputs": [
    {
     "name": "stdout",
     "output_type": "stream",
     "text": [
      "SVC(C=1.0, cache_size=200, class_weight='balanced', coef0=0.0,\n",
      "  decision_function_shape=None, degree=3, gamma=0.46415888336127786,\n",
      "  kernel='rbf', max_iter=-1, probability=False, random_state=None,\n",
      "  shrinking=True, tol=0.001, verbose=False) \n",
      "\n",
      "Test set results:\n",
      "             precision    recall  f1-score   support\n",
      "\n",
      "          0       0.92      0.89      0.91        38\n",
      "          1       0.33      0.40      0.36         5\n",
      "\n",
      "avg / total       0.85      0.84      0.84        43\n",
      "\n",
      "Train set results:\n",
      "             precision    recall  f1-score   support\n",
      "\n",
      "          0       0.97      0.88      0.92        88\n",
      "          1       0.48      0.83      0.61        12\n",
      "\n",
      "avg / total       0.91      0.87      0.88       100\n",
      "\n"
     ]
    }
   ],
   "source": [
    "from sklearn.grid_search import GridSearchCV\n",
    "from sklearn import metrics\n",
    "from sklearn.preprocessing import StandardScaler\n",
    "\n",
    "# Xcale the data\n",
    "scaler = StandardScaler()\n",
    "X_train_pre = scaler.fit_transform(X_train)\n",
    "X_test_pre = scaler.transform(X_test)\n",
    "\n",
    "# Create a scoring function\n",
    "f1_scorer = metrics.make_scorer(metrics.f1_score)\n",
    "\n",
    "# Setup parameters and cross validation for model optimization through Grid Search\n",
    "C_range = np.logspace(0, 1, 16)\n",
    "gamma_range = np.logspace(-1, 1, 16)\n",
    "parameters = dict(gamma=gamma_range, C=C_range)\n",
    "\n",
    "# Fit the grid object\n",
    "grid_obj = GridSearchCV(SVC(class_weight='balanced'), parameters, scoring=f1_scorer, cv=5)\n",
    "grid_obj.fit(X_train_pre, y_train)\n",
    "\n",
    "# Select the best settings for classifier\n",
    "best_clf = grid_obj.best_estimator_\n",
    "\n",
    "# Show the tuned model's parameters\n",
    "print best_clf, \"\\n\"\n",
    "\n",
    "# Test the algorithm's performance\n",
    "print 'Test set results:\\n', classification_report(y_test, best_clf.predict(X_test_pre))\n",
    "print 'Train set results:\\n', classification_report(y_train, best_clf.predict(X_train_pre))"
   ]
  },
  {
   "cell_type": "markdown",
   "metadata": {},
   "source": [
    "---\n",
    "*5. What is validation, and what’s a classic mistake you can make if you do it wrong? How did you validate your analysis?  [relevant rubric item: “validation strategy”] Give at least 2 evaluation metrics and your average performance for each of them.  Explain an interpretation of your metrics that says something human-understandable about your algorithm’s performance. [relevant rubric item: “usage of evaluation metrics”]*\n",
    "\n",
    "### Validate and Evaluate:  \n",
    "Validation is important in order to ensure that our model generalizes well to data that's not being trained or fitted on. A classic mistake here is to validate a model with data that the model was actually trained on. It's important to keep these \"training\" and \"test\" data separate, and that's what we've done here. Using sklearn's `train_test_split` method we have created a test set that contains ~ 30% of our original data (ie, 43 data points). We have also stratified the train and test sets to preserve the class imbalance across the two sets.\n",
    "\n",
    "Our model's performance is evaluated by looking at 3 measures: precision, recall, F1 score.\n",
    "- __Precision__ allows us to measure how accurate the model is when it actually predicts that an individual is a POI. It equals the number of correct hits divided by total guesses that a person is a POI.\n",
    "- __Recall__ shows how many of the POI's we identified out of all the POI's that exist. It equals the number of correct hits divided by total POI's that exist.\n",
    "- __F1 score__ gives an interpretation of precision and recall together so that we balance the ability to make accurate predictions (precision) vs not missing out on identifying possible POI's (recall). It is equal to 2 times the product of precision and recall, divided by the sum of precision and recall. \n",
    "\n",
    "    $F_1 = 2 \\times \\frac{(Precision)(Recall)}{Precision + Recall} $\n",
    "\n",
    "\n",
    "Here are the results of the Naive Bayes model:\n",
    "```\n",
    "precision    recall    f1-score    # of poi's in test set\n",
    "1.00         0.40      0.57        5\n",
    "```\n"
   ]
  },
  {
   "cell_type": "markdown",
   "metadata": {
    "collapsed": true
   },
   "source": [
    "---\n",
    "I hereby confirm that this submission is my work. I have cited above the origins of any parts of the submission that were taken from Websites, books, forums, blog posts, github repositories, etc.\n",
    "\n",
    "---"
   ]
  },
  {
   "cell_type": "code",
   "execution_count": null,
   "metadata": {
    "collapsed": true
   },
   "outputs": [],
   "source": []
  }
 ],
 "metadata": {
  "kernelspec": {
   "display_name": "Python 2",
   "language": "python",
   "name": "python2"
  },
  "language_info": {
   "codemirror_mode": {
    "name": "ipython",
    "version": 2
   },
   "file_extension": ".py",
   "mimetype": "text/x-python",
   "name": "python",
   "nbconvert_exporter": "python",
   "pygments_lexer": "ipython2",
   "version": "2.7.11"
  }
 },
 "nbformat": 4,
 "nbformat_minor": 0
}
