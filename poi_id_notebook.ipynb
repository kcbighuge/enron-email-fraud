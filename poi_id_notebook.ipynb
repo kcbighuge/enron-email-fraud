{
 "cells": [
  {
   "cell_type": "markdown",
   "metadata": {},
   "source": [
    "# Identify Fraud from Enron Email\n",
    "https://github.com/udacity/ud120-projects/tree/master/final_project"
   ]
  },
  {
   "cell_type": "markdown",
   "metadata": {},
   "source": [
    "## Project Overview\n",
    "\n",
    "In 2000, Enron was one of the largest companies in the United States. By 2002, it had collapsed into bankruptcy due to widespread corporate fraud. In the resulting Federal investigation, a significant amount of typically confidential information entered into the public record, including tens of thousands of emails and detailed financial data for top executives. \n",
    "\n",
    "In this project, we will attempt to identify \"persons of interest\" based on financial and email data made public as a result of the Enron scandal. We will build a \"persons of interest\" classifier to predict individuals who were indicted, reached a settlement or plea deal with the government, or testified in exchange for prosecution immunity.\n"
   ]
  },
  {
   "cell_type": "markdown",
   "metadata": {},
   "source": [
    "## Resources\n",
    "\n",
    "- **poi_id.py** : Starter code for the POI identifier, you will write your analysis here. You will also submit a version of this file for your evaluator to verify your algorithm and results. \n",
    "\n",
    "- **final_project_dataset.pkl** : The dataset for the project, more details below. \n",
    "\n",
    "- **tester.py** : When you turn in your analysis for evaluation by Udacity, you will submit the algorithm, dataset and list of features that you use (these are created automatically in poi_id.py). The evaluator will then use this code to test your result, to make sure we see performance that’s similar to what you report. You don’t need to do anything with this code, but we provide it for transparency and for your reference. "
   ]
  },
  {
   "cell_type": "markdown",
   "metadata": {},
   "source": [
    "## Dataset\n",
    "\n",
    "As preprocessing to this project, we've combined the Enron email and financial data into a dictionary, where each key-value pair in the dictionary corresponds to one person. The dictionary key is the person's name, and the value is another dictionary, which contains the names of all the features and their values for that person. The features in the data fall into three major types, namely financial features, email features and POI labels.\n",
    "\n",
    "- **financial features**:  \n",
    "`['salary', 'deferral_payments', 'total_payments', 'loan_advances', 'bonus', 'restricted_stock_deferred', 'deferred_income', 'total_stock_value', 'expenses', 'exercised_stock_options', 'other', 'long_term_incentive', 'restricted_stock', 'director_fees']`  \n",
    "(all units are in US dollars)\n",
    "\n",
    "- **email features**:  \n",
    "`['to_messages', 'email_address', 'from_poi_to_this_person', 'from_messages', 'from_this_person_to_poi', 'shared_receipt_with_poi']`  \n",
    "(units are generally number of emails messages; notable exception is ‘email_address’, which is a text string)\n",
    "\n",
    "- **POI label**:  \n",
    "`[‘poi’]`  \n",
    "(boolean, represented as integer)\n",
    "\n",
    "You are encouraged to make, transform or rescale new features from the starter features. If you do this, you should store the new feature to `my_dataset`, and if you use the new feature in the final algorithm, you should also add the feature name to `my_feature_list`."
   ]
  },
  {
   "cell_type": "code",
   "execution_count": 1,
   "metadata": {
    "collapsed": true
   },
   "outputs": [],
   "source": [
    "import sys\n",
    "import pickle\n",
    "import numpy as np\n",
    "import pandas as pd\n",
    "import seaborn as sns\n",
    "from IPython.display import display\n",
    "import matplotlib.pyplot as plt\n",
    "%matplotlib inline\n",
    "\n",
    "sys.path.append(\"./tools/\")\n",
    "\n",
    "from feature_format import featureFormat, targetFeatureSplit\n",
    "from tester import dump_classifier_and_data"
   ]
  },
  {
   "cell_type": "markdown",
   "metadata": {},
   "source": [
    "Select Features\n",
    "----------------"
   ]
  },
  {
   "cell_type": "code",
   "execution_count": 2,
   "metadata": {
    "collapsed": false
   },
   "outputs": [
    {
     "name": "stdout",
     "output_type": "stream",
     "text": [
      "Successfully loaded data with 146 samples & 21 features\n"
     ]
    }
   ],
   "source": [
    "### Task 1: Select what features you'll use.\n",
    "### features_list is a list of strings, each of which is a feature name.\n",
    "### The first feature must be \"poi\".\n",
    "features_list = ['poi','salary'] # You will need to use more features\n",
    "\n",
    "### Load the dictionary containing the dataset\n",
    "with open(\"final_project_dataset.pkl\", \"r\") as data_file:\n",
    "    try:\n",
    "        data_dict = pickle.load(data_file)\n",
    "        print \"Successfully loaded data with {} samples & {} features\".format(len(data_dict.keys()), \n",
    "                                                                              len(data_dict.values()[0]))\n",
    "    except:\n",
    "        print \"Dataset could not be loaded. Is the dataset missing?\""
   ]
  },
  {
   "cell_type": "markdown",
   "metadata": {},
   "source": [
    "### Look at the dict holding our data"
   ]
  },
  {
   "cell_type": "code",
   "execution_count": 106,
   "metadata": {
    "collapsed": true
   },
   "outputs": [
    {
     "name": "stdout",
     "output_type": "stream",
     "text": [
      "['METTS MARK', 'BAXTER JOHN C', 'ELLIOTT STEVEN', 'CORDES WILLIAM R', 'HANNON KEVIN P', 'MORDAUNT KRISTINA M', 'MEYER ROCKFORD G', 'MCMAHON JEFFREY', 'HORTON STANLEY C', 'PIPER GREGORY F', 'HUMPHREY GENE E', 'UMANOFF ADAM S', 'BLACHMAN JEREMY M', 'SUNDE MARTIN', 'GIBBS DANA R', 'LOWRY CHARLES P', 'COLWELL WESLEY', 'MULLER MARK S', 'JACKSON CHARLENE R', 'WESTFAHL RICHARD K', 'WALTERS GARETH W', 'WALLS JR ROBERT H', 'KITCHEN LOUISE', 'CHAN RONNIE', 'BELFER ROBERT', 'SHANKMAN JEFFREY A', 'WODRASKA JOHN', 'BERGSIEKER RICHARD P', 'URQUHART JOHN A', 'BIBI PHILIPPE A', 'RIEKER PAULA H', 'WHALEY DAVID A', 'BECK SALLY W', 'HAUG DAVID L', 'ECHOLS JOHN B', 'MENDELSOHN JOHN', 'HICKERSON GARY J', 'CLINE KENNETH W', 'LEWIS RICHARD', 'HAYES ROBERT E', 'MCCARTY DANNY J', 'KOPPER MICHAEL J', 'LEFF DANIEL P', 'LAVORATO JOHN J', 'BERBERIAN DAVID', 'DETMERING TIMOTHY J', 'WAKEHAM JOHN', 'POWERS WILLIAM', 'GOLD JOSEPH', 'BANNANTINE JAMES M', 'DUNCAN JOHN H', 'SHAPIRO RICHARD S', 'SHERRIFF JOHN R', 'SHELBY REX', 'LEMAISTRE CHARLES', 'DEFFNER JOSEPH M', 'KISHKILL JOSEPH G', 'WHALLEY LAWRENCE G', 'MCCONNELL MICHAEL S', 'PIRO JIM', 'DELAINEY DAVID W', 'SULLIVAN-SHAKLOVITZ COLLEEN', 'WROBEL BRUCE', 'LINDHOLM TOD A', 'MEYER JEROME J', 'LAY KENNETH L', 'BUTTS ROBERT H', 'OLSON CINDY K', 'MCDONALD REBECCA', 'CUMBERLAND MICHAEL S', 'GAHN ROBERT S', 'MCCLELLAN GEORGE', 'HERMANN ROBERT J', 'SCRIMSHAW MATTHEW', 'GATHMANN WILLIAM D', 'HAEDICKE MARK E', 'BOWEN JR RAYMOND M', 'GILLIS JOHN', 'FITZGERALD JAY L', 'MORAN MICHAEL P', 'REDMOND BRIAN L', 'BAZELIDES PHILIP J', 'BELDEN TIMOTHY N', 'DURAN WILLIAM D', 'THORN TERENCE H', 'FASTOW ANDREW S', 'FOY JOE', 'CALGER CHRISTOPHER F', 'RICE KENNETH D', 'KAMINSKI WINCENTY J', 'LOCKHART EUGENE E', 'COX DAVID', 'OVERDYKE JR JERE C', 'PEREIRA PAULO V. FERRAZ', 'STABLER FRANK', 'SKILLING JEFFREY K', 'BLAKE JR. NORMAN P', 'SHERRICK JEFFREY B', 'PRENTICE JAMES', 'GRAY RODNEY', 'PICKERING MARK R', 'THE TRAVEL AGENCY IN THE PARK', 'NOLES JAMES L', 'KEAN STEVEN J', 'TOTAL', 'FOWLER PEGGY', 'WASAFF GEORGE', 'WHITE JR THOMAS E', 'CHRISTODOULOU DIOMEDES', 'ALLEN PHILLIP K', 'SHARP VICTORIA T', 'JAEDICKE ROBERT', 'WINOKUR JR. HERBERT S', 'BROWN MICHAEL', 'BADUM JAMES P', 'HUGHES JAMES A', 'REYNOLDS LAWRENCE', 'DIMICHELE RICHARD G', 'BHATNAGAR SANJAY', 'CARTER REBECCA C', 'BUCHANAN HAROLD G', 'YEAP SOON', 'MURRAY JULIA H', 'GARLAND C KEVIN', 'DODSON KEITH', 'YEAGER F SCOTT', 'HIRKO JOSEPH', 'DIETRICH JANET R', 'DERRICK JR. JAMES V', 'FREVERT MARK A', 'PAI LOU L', 'BAY FRANKLIN R', 'HAYSLETT RODERICK J', 'FUGH JOHN L', 'FALLON JAMES B', 'KOENIG MARK E', 'SAVAGE FRANK', 'IZZO LAWRENCE L', 'TILNEY ELIZABETH A', 'MARTIN AMANDA K', 'BUY RICHARD B', 'GRAMM WENDY L', 'CAUSEY RICHARD A', 'TAYLOR MITCHELL S', 'DONAHUE JR JEFFREY M', 'GLISAN JR BEN F']\n"
     ]
    }
   ],
   "source": [
    "print data_dict.keys()"
   ]
  },
  {
   "cell_type": "code",
   "execution_count": 142,
   "metadata": {
    "collapsed": false
   },
   "outputs": [
    {
     "data": {
      "text/plain": [
       "{'bonus': 97343619,\n",
       " 'deferral_payments': 32083396,\n",
       " 'deferred_income': -27992891,\n",
       " 'director_fees': 1398517,\n",
       " 'email_address': 'NaN',\n",
       " 'exercised_stock_options': 311764000,\n",
       " 'expenses': 5235198,\n",
       " 'from_messages': 'NaN',\n",
       " 'from_poi_to_this_person': 'NaN',\n",
       " 'from_this_person_to_poi': 'NaN',\n",
       " 'loan_advances': 83925000,\n",
       " 'long_term_incentive': 48521928,\n",
       " 'other': 42667589,\n",
       " 'poi': False,\n",
       " 'restricted_stock': 130322299,\n",
       " 'restricted_stock_deferred': -7576788,\n",
       " 'salary': 26704229,\n",
       " 'shared_receipt_with_poi': 'NaN',\n",
       " 'to_messages': 'NaN',\n",
       " 'total_payments': 309886585,\n",
       " 'total_stock_value': 434509511}"
      ]
     },
     "execution_count": 142,
     "metadata": {},
     "output_type": "execute_result"
    }
   ],
   "source": [
    "data_dict['TOTAL']"
   ]
  },
  {
   "cell_type": "code",
   "execution_count": 138,
   "metadata": {
    "collapsed": false
   },
   "outputs": [
    {
     "name": "stdout",
     "output_type": "stream",
     "text": [
      "(146, 21)\n"
     ]
    },
    {
     "data": {
      "text/html": [
       "<div>\n",
       "<table border=\"1\" class=\"dataframe\">\n",
       "  <thead>\n",
       "    <tr style=\"text-align: right;\">\n",
       "      <th></th>\n",
       "      <th>salary</th>\n",
       "      <th>to_messages</th>\n",
       "      <th>deferral_payments</th>\n",
       "      <th>total_payments</th>\n",
       "      <th>exercised_stock_options</th>\n",
       "      <th>bonus</th>\n",
       "      <th>restricted_stock</th>\n",
       "      <th>shared_receipt_with_poi</th>\n",
       "      <th>restricted_stock_deferred</th>\n",
       "      <th>total_stock_value</th>\n",
       "      <th>...</th>\n",
       "      <th>loan_advances</th>\n",
       "      <th>from_messages</th>\n",
       "      <th>other</th>\n",
       "      <th>from_this_person_to_poi</th>\n",
       "      <th>poi</th>\n",
       "      <th>director_fees</th>\n",
       "      <th>deferred_income</th>\n",
       "      <th>long_term_incentive</th>\n",
       "      <th>email_address</th>\n",
       "      <th>from_poi_to_this_person</th>\n",
       "    </tr>\n",
       "  </thead>\n",
       "  <tbody>\n",
       "    <tr>\n",
       "      <th>ALLEN PHILLIP K</th>\n",
       "      <td>201955</td>\n",
       "      <td>2902</td>\n",
       "      <td>2869717</td>\n",
       "      <td>4484442</td>\n",
       "      <td>1729541</td>\n",
       "      <td>4175000</td>\n",
       "      <td>126027</td>\n",
       "      <td>1407</td>\n",
       "      <td>-126027</td>\n",
       "      <td>1729541</td>\n",
       "      <td>...</td>\n",
       "      <td>NaN</td>\n",
       "      <td>2195</td>\n",
       "      <td>152</td>\n",
       "      <td>65</td>\n",
       "      <td>False</td>\n",
       "      <td>NaN</td>\n",
       "      <td>-3081055</td>\n",
       "      <td>304805</td>\n",
       "      <td>phillip.allen@enron.com</td>\n",
       "      <td>47</td>\n",
       "    </tr>\n",
       "    <tr>\n",
       "      <th>BADUM JAMES P</th>\n",
       "      <td>NaN</td>\n",
       "      <td>NaN</td>\n",
       "      <td>178980</td>\n",
       "      <td>182466</td>\n",
       "      <td>257817</td>\n",
       "      <td>NaN</td>\n",
       "      <td>NaN</td>\n",
       "      <td>NaN</td>\n",
       "      <td>NaN</td>\n",
       "      <td>257817</td>\n",
       "      <td>...</td>\n",
       "      <td>NaN</td>\n",
       "      <td>NaN</td>\n",
       "      <td>NaN</td>\n",
       "      <td>NaN</td>\n",
       "      <td>False</td>\n",
       "      <td>NaN</td>\n",
       "      <td>NaN</td>\n",
       "      <td>NaN</td>\n",
       "      <td>NaN</td>\n",
       "      <td>NaN</td>\n",
       "    </tr>\n",
       "    <tr>\n",
       "      <th>BANNANTINE JAMES M</th>\n",
       "      <td>477</td>\n",
       "      <td>566</td>\n",
       "      <td>NaN</td>\n",
       "      <td>916197</td>\n",
       "      <td>4046157</td>\n",
       "      <td>NaN</td>\n",
       "      <td>1757552</td>\n",
       "      <td>465</td>\n",
       "      <td>-560222</td>\n",
       "      <td>5243487</td>\n",
       "      <td>...</td>\n",
       "      <td>NaN</td>\n",
       "      <td>29</td>\n",
       "      <td>864523</td>\n",
       "      <td>0</td>\n",
       "      <td>False</td>\n",
       "      <td>NaN</td>\n",
       "      <td>-5104</td>\n",
       "      <td>NaN</td>\n",
       "      <td>james.bannantine@enron.com</td>\n",
       "      <td>39</td>\n",
       "    </tr>\n",
       "  </tbody>\n",
       "</table>\n",
       "<p>3 rows × 21 columns</p>\n",
       "</div>"
      ],
      "text/plain": [
       "                    salary to_messages deferral_payments total_payments  \\\n",
       "ALLEN PHILLIP K     201955        2902           2869717        4484442   \n",
       "BADUM JAMES P          NaN         NaN            178980         182466   \n",
       "BANNANTINE JAMES M     477         566               NaN         916197   \n",
       "\n",
       "                   exercised_stock_options    bonus restricted_stock  \\\n",
       "ALLEN PHILLIP K                    1729541  4175000           126027   \n",
       "BADUM JAMES P                       257817      NaN              NaN   \n",
       "BANNANTINE JAMES M                 4046157      NaN          1757552   \n",
       "\n",
       "                   shared_receipt_with_poi restricted_stock_deferred  \\\n",
       "ALLEN PHILLIP K                       1407                   -126027   \n",
       "BADUM JAMES P                          NaN                       NaN   \n",
       "BANNANTINE JAMES M                     465                   -560222   \n",
       "\n",
       "                   total_stock_value           ...           loan_advances  \\\n",
       "ALLEN PHILLIP K              1729541           ...                     NaN   \n",
       "BADUM JAMES P                 257817           ...                     NaN   \n",
       "BANNANTINE JAMES M           5243487           ...                     NaN   \n",
       "\n",
       "                   from_messages   other from_this_person_to_poi    poi  \\\n",
       "ALLEN PHILLIP K             2195     152                      65  False   \n",
       "BADUM JAMES P                NaN     NaN                     NaN  False   \n",
       "BANNANTINE JAMES M            29  864523                       0  False   \n",
       "\n",
       "                   director_fees deferred_income long_term_incentive  \\\n",
       "ALLEN PHILLIP K              NaN        -3081055              304805   \n",
       "BADUM JAMES P                NaN             NaN                 NaN   \n",
       "BANNANTINE JAMES M           NaN           -5104                 NaN   \n",
       "\n",
       "                                 email_address from_poi_to_this_person  \n",
       "ALLEN PHILLIP K        phillip.allen@enron.com                      47  \n",
       "BADUM JAMES P                              NaN                     NaN  \n",
       "BANNANTINE JAMES M  james.bannantine@enron.com                      39  \n",
       "\n",
       "[3 rows x 21 columns]"
      ]
     },
     "metadata": {},
     "output_type": "display_data"
    }
   ],
   "source": [
    "df = pd.DataFrame.from_dict(data_dict, orient='index')\n",
    "print df.shape\n",
    "df['poi'] = df.poi.astype(object)\n",
    "\n",
    "display(df.head(3))"
   ]
  },
  {
   "cell_type": "code",
   "execution_count": 36,
   "metadata": {
    "collapsed": true
   },
   "outputs": [
    {
     "name": "stdout",
     "output_type": "stream",
     "text": [
      "LOCKHART EUGENE E\n"
     ]
    },
    {
     "data": {
      "text/plain": [
       "salary                         NaN\n",
       "to_messages                    NaN\n",
       "deferral_payments              NaN\n",
       "total_payments                 NaN\n",
       "exercised_stock_options        NaN\n",
       "bonus                          NaN\n",
       "restricted_stock               NaN\n",
       "shared_receipt_with_poi        NaN\n",
       "restricted_stock_deferred      NaN\n",
       "total_stock_value              NaN\n",
       "expenses                       NaN\n",
       "loan_advances                  NaN\n",
       "from_messages                  NaN\n",
       "other                          NaN\n",
       "from_this_person_to_poi        NaN\n",
       "poi                          False\n",
       "director_fees                  NaN\n",
       "deferred_income                NaN\n",
       "long_term_incentive            NaN\n",
       "email_address                  NaN\n",
       "from_poi_to_this_person        NaN\n",
       "Name: LOCKHART EUGENE E, dtype: object"
      ]
     },
     "execution_count": 36,
     "metadata": {},
     "output_type": "execute_result"
    }
   ],
   "source": [
    "print df.index[84]\n",
    "df.ix['LOCKHART EUGENE E']"
   ]
  },
  {
   "cell_type": "code",
   "execution_count": 82,
   "metadata": {
    "collapsed": false
   },
   "outputs": [
    {
     "data": {
      "text/plain": [
       "LAY KENNETH L    NaN\n",
       "Name: director_fees, dtype: object"
      ]
     },
     "execution_count": 82,
     "metadata": {},
     "output_type": "execute_result"
    }
   ],
   "source": [
    "df.ix[['LAY KENNETH L'], 'director_fees']"
   ]
  },
  {
   "cell_type": "code",
   "execution_count": 143,
   "metadata": {
    "collapsed": false
   },
   "outputs": [
    {
     "name": "stdout",
     "output_type": "stream",
     "text": [
      "144\n"
     ]
    }
   ],
   "source": [
    "persons = data_dict.keys()\n",
    "persons.remove('LOCKHART EUGENE E')\n",
    "persons.remove('TOTAL')\n",
    "print len(persons)"
   ]
  },
  {
   "cell_type": "code",
   "execution_count": 151,
   "metadata": {
    "collapsed": false,
    "scrolled": true
   },
   "outputs": [
    {
     "name": "stdout",
     "output_type": "stream",
     "text": [
      "144\n"
     ]
    }
   ],
   "source": [
    "# remove the guy with all nulls and the TOTAL\n",
    "clean_data = dict(data_dict)\n",
    "del clean_data['LOCKHART EUGENE E']\n",
    "del clean_data['TOTAL']\n",
    "print len(clean_data)"
   ]
  },
  {
   "cell_type": "markdown",
   "metadata": {},
   "source": [
    "### Create features and labels"
   ]
  },
  {
   "cell_type": "code",
   "execution_count": 154,
   "metadata": {
    "collapsed": false
   },
   "outputs": [],
   "source": [
    "### Extract features and labels from dataset for local testing\n",
    "features_list = ['poi','salary']\n",
    "features_list.extend([i for i in data_dict.values()[0].keys() if i not in ['salary', 'poi', 'email_address']])\n",
    "\n",
    "#data = featureFormat(data_dict, features_list, sort_keys = True, remove_NaN=True)\n",
    "data = featureFormat(clean_data, features_list, sort_keys = True, remove_NaN=False)\n",
    "\n",
    "data_all = featureFormat(data_dict, features_list, sort_keys = True, remove_NaN=False)\n",
    "labels, features = targetFeatureSplit(data)\n",
    "y_all, X_all = targetFeatureSplit(data_all)"
   ]
  },
  {
   "cell_type": "code",
   "execution_count": 155,
   "metadata": {
    "collapsed": false
   },
   "outputs": [
    {
     "name": "stdout",
     "output_type": "stream",
     "text": [
      "144\n",
      "144\n"
     ]
    }
   ],
   "source": [
    "print len(features)\n",
    "print len(labels)"
   ]
  },
  {
   "cell_type": "code",
   "execution_count": 156,
   "metadata": {
    "collapsed": false
   },
   "outputs": [
    {
     "name": "stdout",
     "output_type": "stream",
     "text": [
      "Features: (144, 19)\n",
      "Labels: (144,)\n",
      "All Features: (146, 19)\n",
      "All Labels: (146,)\n"
     ]
    }
   ],
   "source": [
    "# Convert with pandas\n",
    "labels = pd.Series(labels)\n",
    "features = pd.DataFrame(features, columns = features_list[1:])\n",
    "\n",
    "y_all = pd.Series(y_all)\n",
    "X_all = pd.DataFrame(X_all, columns = features_list[1:])\n",
    "\n",
    "print \"Features: {}\".format(features.shape)\n",
    "print \"Labels: {}\".format(labels.shape)\n",
    "\n",
    "print \"All Features: {}\".format(X_all.shape)\n",
    "print \"All Labels: {}\".format(y_all.shape)"
   ]
  },
  {
   "cell_type": "markdown",
   "metadata": {},
   "source": [
    "### Where is the row with all null values?"
   ]
  },
  {
   "cell_type": "code",
   "execution_count": 26,
   "metadata": {
    "collapsed": false
   },
   "outputs": [
    {
     "name": "stdout",
     "output_type": "stream",
     "text": [
      "[229]\n"
     ]
    },
    {
     "data": {
      "text/html": [
       "<div>\n",
       "<table border=\"1\" class=\"dataframe\">\n",
       "  <thead>\n",
       "    <tr style=\"text-align: right;\">\n",
       "      <th></th>\n",
       "      <th>salary</th>\n",
       "      <th>to_messages</th>\n",
       "      <th>deferral_payments</th>\n",
       "      <th>total_payments</th>\n",
       "      <th>exercised_stock_options</th>\n",
       "      <th>bonus</th>\n",
       "      <th>restricted_stock</th>\n",
       "      <th>shared_receipt_with_poi</th>\n",
       "      <th>restricted_stock_deferred</th>\n",
       "      <th>total_stock_value</th>\n",
       "      <th>expenses</th>\n",
       "      <th>loan_advances</th>\n",
       "      <th>from_messages</th>\n",
       "      <th>other</th>\n",
       "      <th>from_this_person_to_poi</th>\n",
       "      <th>director_fees</th>\n",
       "      <th>deferred_income</th>\n",
       "      <th>long_term_incentive</th>\n",
       "      <th>from_poi_to_this_person</th>\n",
       "    </tr>\n",
       "  </thead>\n",
       "  <tbody>\n",
       "    <tr>\n",
       "      <th>229</th>\n",
       "      <td>0.0</td>\n",
       "      <td>0.0</td>\n",
       "      <td>0.0</td>\n",
       "      <td>0.0</td>\n",
       "      <td>0.0</td>\n",
       "      <td>0.0</td>\n",
       "      <td>0.0</td>\n",
       "      <td>0.0</td>\n",
       "      <td>0.0</td>\n",
       "      <td>0.0</td>\n",
       "      <td>0.0</td>\n",
       "      <td>0.0</td>\n",
       "      <td>0.0</td>\n",
       "      <td>0.0</td>\n",
       "      <td>0.0</td>\n",
       "      <td>0.0</td>\n",
       "      <td>0.0</td>\n",
       "      <td>0.0</td>\n",
       "      <td>0.0</td>\n",
       "    </tr>\n",
       "  </tbody>\n",
       "</table>\n",
       "</div>"
      ],
      "text/plain": [
       "     salary  to_messages  deferral_payments  total_payments  \\\n",
       "229     0.0          0.0                0.0             0.0   \n",
       "\n",
       "     exercised_stock_options  bonus  restricted_stock  \\\n",
       "229                      0.0    0.0               0.0   \n",
       "\n",
       "     shared_receipt_with_poi  restricted_stock_deferred  total_stock_value  \\\n",
       "229                      0.0                        0.0                0.0   \n",
       "\n",
       "     expenses  loan_advances  from_messages  other  from_this_person_to_poi  \\\n",
       "229       0.0            0.0            0.0    0.0                      0.0   \n",
       "\n",
       "     director_fees  deferred_income  long_term_incentive  \\\n",
       "229            0.0              0.0                  0.0   \n",
       "\n",
       "     from_poi_to_this_person  \n",
       "229                      0.0  "
      ]
     },
     "execution_count": 26,
     "metadata": {},
     "output_type": "execute_result"
    }
   ],
   "source": [
    "# where did the 1 instance go?\n",
    "# http://stackoverflow.com/questions/20225110/comparing-two-dataframes-and-getting-the-differences\n",
    "df = pd.concat([features, X_all.fillna(0.)]).reset_index(drop=True)\n",
    "df_gpby = df.groupby(list(df.columns))\n",
    "idx = [x[0] for x in df_gpby.groups.values() if len(x) == 1]\n",
    "print idx\n",
    "df.reindex(idx)"
   ]
  },
  {
   "cell_type": "code",
   "execution_count": 41,
   "metadata": {
    "collapsed": false
   },
   "outputs": [
    {
     "name": "stdout",
     "output_type": "stream",
     "text": [
      "salary                      NaN\n",
      "to_messages                 NaN\n",
      "deferral_payments           NaN\n",
      "total_payments              NaN\n",
      "exercised_stock_options     NaN\n",
      "bonus                       NaN\n",
      "restricted_stock            NaN\n",
      "shared_receipt_with_poi     NaN\n",
      "restricted_stock_deferred   NaN\n",
      "total_stock_value           NaN\n",
      "expenses                    NaN\n",
      "loan_advances               NaN\n",
      "from_messages               NaN\n",
      "other                       NaN\n",
      "from_this_person_to_poi     NaN\n",
      "director_fees               NaN\n",
      "deferred_income             NaN\n",
      "long_term_incentive         NaN\n",
      "from_poi_to_this_person     NaN\n",
      "Name: 84, dtype: float64\n",
      "0.0\n"
     ]
    }
   ],
   "source": [
    "print X_all.ix[84]\n",
    "print y_all.ix[84]"
   ]
  },
  {
   "cell_type": "code",
   "execution_count": 46,
   "metadata": {
    "collapsed": false
   },
   "outputs": [
    {
     "name": "stdout",
     "output_type": "stream",
     "text": [
      "(146, 20)\n"
     ]
    },
    {
     "data": {
      "text/html": [
       "<div>\n",
       "<table border=\"1\" class=\"dataframe\">\n",
       "  <thead>\n",
       "    <tr style=\"text-align: right;\">\n",
       "      <th></th>\n",
       "      <th>salary</th>\n",
       "      <th>to_messages</th>\n",
       "      <th>deferral_payments</th>\n",
       "      <th>total_payments</th>\n",
       "      <th>exercised_stock_options</th>\n",
       "      <th>bonus</th>\n",
       "      <th>restricted_stock</th>\n",
       "      <th>shared_receipt_with_poi</th>\n",
       "      <th>restricted_stock_deferred</th>\n",
       "      <th>total_stock_value</th>\n",
       "      <th>expenses</th>\n",
       "      <th>loan_advances</th>\n",
       "      <th>from_messages</th>\n",
       "      <th>other</th>\n",
       "      <th>from_this_person_to_poi</th>\n",
       "      <th>director_fees</th>\n",
       "      <th>deferred_income</th>\n",
       "      <th>long_term_incentive</th>\n",
       "      <th>from_poi_to_this_person</th>\n",
       "      <th>target</th>\n",
       "    </tr>\n",
       "  </thead>\n",
       "  <tbody>\n",
       "    <tr>\n",
       "      <th>0</th>\n",
       "      <td>201955.0</td>\n",
       "      <td>2902.0</td>\n",
       "      <td>2869717.0</td>\n",
       "      <td>4484442.0</td>\n",
       "      <td>1729541.0</td>\n",
       "      <td>4175000.0</td>\n",
       "      <td>126027.0</td>\n",
       "      <td>1407.0</td>\n",
       "      <td>-126027.0</td>\n",
       "      <td>1729541.0</td>\n",
       "      <td>13868.0</td>\n",
       "      <td>-1.0</td>\n",
       "      <td>2195.0</td>\n",
       "      <td>152.0</td>\n",
       "      <td>65.0</td>\n",
       "      <td>-1.0</td>\n",
       "      <td>-3081055.0</td>\n",
       "      <td>304805.0</td>\n",
       "      <td>47.0</td>\n",
       "      <td>0.0</td>\n",
       "    </tr>\n",
       "    <tr>\n",
       "      <th>1</th>\n",
       "      <td>-1.0</td>\n",
       "      <td>-1.0</td>\n",
       "      <td>178980.0</td>\n",
       "      <td>182466.0</td>\n",
       "      <td>257817.0</td>\n",
       "      <td>-1.0</td>\n",
       "      <td>-1.0</td>\n",
       "      <td>-1.0</td>\n",
       "      <td>-1.0</td>\n",
       "      <td>257817.0</td>\n",
       "      <td>3486.0</td>\n",
       "      <td>-1.0</td>\n",
       "      <td>-1.0</td>\n",
       "      <td>-1.0</td>\n",
       "      <td>-1.0</td>\n",
       "      <td>-1.0</td>\n",
       "      <td>-1.0</td>\n",
       "      <td>-1.0</td>\n",
       "      <td>-1.0</td>\n",
       "      <td>0.0</td>\n",
       "    </tr>\n",
       "    <tr>\n",
       "      <th>2</th>\n",
       "      <td>477.0</td>\n",
       "      <td>566.0</td>\n",
       "      <td>-1.0</td>\n",
       "      <td>916197.0</td>\n",
       "      <td>4046157.0</td>\n",
       "      <td>-1.0</td>\n",
       "      <td>1757552.0</td>\n",
       "      <td>465.0</td>\n",
       "      <td>-560222.0</td>\n",
       "      <td>5243487.0</td>\n",
       "      <td>56301.0</td>\n",
       "      <td>-1.0</td>\n",
       "      <td>29.0</td>\n",
       "      <td>864523.0</td>\n",
       "      <td>0.0</td>\n",
       "      <td>-1.0</td>\n",
       "      <td>-5104.0</td>\n",
       "      <td>-1.0</td>\n",
       "      <td>39.0</td>\n",
       "      <td>0.0</td>\n",
       "    </tr>\n",
       "    <tr>\n",
       "      <th>3</th>\n",
       "      <td>267102.0</td>\n",
       "      <td>-1.0</td>\n",
       "      <td>1295738.0</td>\n",
       "      <td>5634343.0</td>\n",
       "      <td>6680544.0</td>\n",
       "      <td>1200000.0</td>\n",
       "      <td>3942714.0</td>\n",
       "      <td>-1.0</td>\n",
       "      <td>-1.0</td>\n",
       "      <td>10623258.0</td>\n",
       "      <td>11200.0</td>\n",
       "      <td>-1.0</td>\n",
       "      <td>-1.0</td>\n",
       "      <td>2660303.0</td>\n",
       "      <td>-1.0</td>\n",
       "      <td>-1.0</td>\n",
       "      <td>-1386055.0</td>\n",
       "      <td>1586055.0</td>\n",
       "      <td>-1.0</td>\n",
       "      <td>0.0</td>\n",
       "    </tr>\n",
       "    <tr>\n",
       "      <th>4</th>\n",
       "      <td>239671.0</td>\n",
       "      <td>-1.0</td>\n",
       "      <td>260455.0</td>\n",
       "      <td>827696.0</td>\n",
       "      <td>-1.0</td>\n",
       "      <td>400000.0</td>\n",
       "      <td>145796.0</td>\n",
       "      <td>-1.0</td>\n",
       "      <td>-82782.0</td>\n",
       "      <td>63014.0</td>\n",
       "      <td>129142.0</td>\n",
       "      <td>-1.0</td>\n",
       "      <td>-1.0</td>\n",
       "      <td>69.0</td>\n",
       "      <td>-1.0</td>\n",
       "      <td>-1.0</td>\n",
       "      <td>-201641.0</td>\n",
       "      <td>-1.0</td>\n",
       "      <td>-1.0</td>\n",
       "      <td>0.0</td>\n",
       "    </tr>\n",
       "  </tbody>\n",
       "</table>\n",
       "</div>"
      ],
      "text/plain": [
       "     salary  to_messages  deferral_payments  total_payments  \\\n",
       "0  201955.0       2902.0          2869717.0       4484442.0   \n",
       "1      -1.0         -1.0           178980.0        182466.0   \n",
       "2     477.0        566.0               -1.0        916197.0   \n",
       "3  267102.0         -1.0          1295738.0       5634343.0   \n",
       "4  239671.0         -1.0           260455.0        827696.0   \n",
       "\n",
       "   exercised_stock_options      bonus  restricted_stock  \\\n",
       "0                1729541.0  4175000.0          126027.0   \n",
       "1                 257817.0       -1.0              -1.0   \n",
       "2                4046157.0       -1.0         1757552.0   \n",
       "3                6680544.0  1200000.0         3942714.0   \n",
       "4                     -1.0   400000.0          145796.0   \n",
       "\n",
       "   shared_receipt_with_poi  restricted_stock_deferred  total_stock_value  \\\n",
       "0                   1407.0                  -126027.0          1729541.0   \n",
       "1                     -1.0                       -1.0           257817.0   \n",
       "2                    465.0                  -560222.0          5243487.0   \n",
       "3                     -1.0                       -1.0         10623258.0   \n",
       "4                     -1.0                   -82782.0            63014.0   \n",
       "\n",
       "   expenses  loan_advances  from_messages      other  from_this_person_to_poi  \\\n",
       "0   13868.0           -1.0         2195.0      152.0                     65.0   \n",
       "1    3486.0           -1.0           -1.0       -1.0                     -1.0   \n",
       "2   56301.0           -1.0           29.0   864523.0                      0.0   \n",
       "3   11200.0           -1.0           -1.0  2660303.0                     -1.0   \n",
       "4  129142.0           -1.0           -1.0       69.0                     -1.0   \n",
       "\n",
       "   director_fees  deferred_income  long_term_incentive  \\\n",
       "0           -1.0       -3081055.0             304805.0   \n",
       "1           -1.0             -1.0                 -1.0   \n",
       "2           -1.0          -5104.0                 -1.0   \n",
       "3           -1.0       -1386055.0            1586055.0   \n",
       "4           -1.0        -201641.0                 -1.0   \n",
       "\n",
       "   from_poi_to_this_person  target  \n",
       "0                     47.0     0.0  \n",
       "1                     -1.0     0.0  \n",
       "2                     39.0     0.0  \n",
       "3                     -1.0     0.0  \n",
       "4                     -1.0     0.0  "
      ]
     },
     "execution_count": 46,
     "metadata": {},
     "output_type": "execute_result"
    }
   ],
   "source": [
    "df_all = pd.concat([features, pd.Series(labels, name='target')],axis=1)\n",
    "print df_all.shape\n",
    "\n",
    "# fill na with -1\n",
    "df_all.fillna(-1, inplace=True)\n",
    "df_all.head()"
   ]
  },
  {
   "cell_type": "code",
   "execution_count": 5,
   "metadata": {
    "collapsed": false
   },
   "outputs": [
    {
     "name": "stdout",
     "output_type": "stream",
     "text": [
      "18.0\n"
     ]
    },
    {
     "data": {
      "text/plain": [
       "0.12413793103448276"
      ]
     },
     "execution_count": 5,
     "metadata": {},
     "output_type": "execute_result"
    }
   ],
   "source": [
    "# how many POI target are there?\n",
    "print sum(df_all['target'])\n",
    "sum(df_all['target']) / df_all.shape[0]"
   ]
  },
  {
   "cell_type": "code",
   "execution_count": 17,
   "metadata": {
    "collapsed": false
   },
   "outputs": [
    {
     "data": {
      "text/html": [
       "<div>\n",
       "<table border=\"1\" class=\"dataframe\">\n",
       "  <thead>\n",
       "    <tr style=\"text-align: right;\">\n",
       "      <th></th>\n",
       "      <th>salary</th>\n",
       "      <th>to_messages</th>\n",
       "      <th>deferral_payments</th>\n",
       "      <th>total_payments</th>\n",
       "      <th>exercised_stock_options</th>\n",
       "      <th>bonus</th>\n",
       "      <th>restricted_stock</th>\n",
       "      <th>shared_receipt_with_poi</th>\n",
       "      <th>restricted_stock_deferred</th>\n",
       "      <th>total_stock_value</th>\n",
       "      <th>expenses</th>\n",
       "      <th>loan_advances</th>\n",
       "      <th>from_messages</th>\n",
       "      <th>other</th>\n",
       "      <th>from_this_person_to_poi</th>\n",
       "      <th>director_fees</th>\n",
       "      <th>deferred_income</th>\n",
       "      <th>long_term_incentive</th>\n",
       "      <th>from_poi_to_this_person</th>\n",
       "      <th>target</th>\n",
       "    </tr>\n",
       "  </thead>\n",
       "  <tbody>\n",
       "    <tr>\n",
       "      <th>count</th>\n",
       "      <td>1.450000e+02</td>\n",
       "      <td>145.000000</td>\n",
       "      <td>1.450000e+02</td>\n",
       "      <td>1.450000e+02</td>\n",
       "      <td>1.450000e+02</td>\n",
       "      <td>1.450000e+02</td>\n",
       "      <td>1.450000e+02</td>\n",
       "      <td>145.000000</td>\n",
       "      <td>1.450000e+02</td>\n",
       "      <td>1.450000e+02</td>\n",
       "      <td>1.450000e+02</td>\n",
       "      <td>1.450000e+02</td>\n",
       "      <td>145.000000</td>\n",
       "      <td>1.450000e+02</td>\n",
       "      <td>145.000000</td>\n",
       "      <td>1.450000e+02</td>\n",
       "      <td>1.450000e+02</td>\n",
       "      <td>1.450000e+02</td>\n",
       "      <td>145.000000</td>\n",
       "      <td>145.000000</td>\n",
       "    </tr>\n",
       "    <tr>\n",
       "      <th>mean</th>\n",
       "      <td>3.683342e+05</td>\n",
       "      <td>1230.013793</td>\n",
       "      <td>4.418227e+05</td>\n",
       "      <td>4.380626e+06</td>\n",
       "      <td>4.211583e+06</td>\n",
       "      <td>1.342671e+06</td>\n",
       "      <td>1.761321e+06</td>\n",
       "      <td>697.765517</td>\n",
       "      <td>2.065786e+04</td>\n",
       "      <td>5.886335e+06</td>\n",
       "      <td>7.123619e+04</td>\n",
       "      <td>1.157586e+06</td>\n",
       "      <td>361.075862</td>\n",
       "      <td>5.894693e+05</td>\n",
       "      <td>24.455172</td>\n",
       "      <td>1.955643e+04</td>\n",
       "      <td>-3.854019e+05</td>\n",
       "      <td>6.692680e+05</td>\n",
       "      <td>38.489655</td>\n",
       "      <td>0.124138</td>\n",
       "    </tr>\n",
       "    <tr>\n",
       "      <th>std</th>\n",
       "      <td>2.211001e+06</td>\n",
       "      <td>2232.153003</td>\n",
       "      <td>2.750583e+06</td>\n",
       "      <td>2.702539e+07</td>\n",
       "      <td>2.615843e+07</td>\n",
       "      <td>8.121319e+06</td>\n",
       "      <td>1.093676e+07</td>\n",
       "      <td>1075.128126</td>\n",
       "      <td>1.444650e+06</td>\n",
       "      <td>3.636916e+07</td>\n",
       "      <td>4.341759e+05</td>\n",
       "      <td>9.682311e+06</td>\n",
       "      <td>1445.944684</td>\n",
       "      <td>3.694784e+06</td>\n",
       "      <td>79.527073</td>\n",
       "      <td>1.194559e+05</td>\n",
       "      <td>2.386279e+06</td>\n",
       "      <td>4.059716e+06</td>\n",
       "      <td>74.088359</td>\n",
       "      <td>0.330882</td>\n",
       "    </tr>\n",
       "    <tr>\n",
       "      <th>min</th>\n",
       "      <td>0.000000e+00</td>\n",
       "      <td>0.000000</td>\n",
       "      <td>-1.025000e+05</td>\n",
       "      <td>0.000000e+00</td>\n",
       "      <td>0.000000e+00</td>\n",
       "      <td>0.000000e+00</td>\n",
       "      <td>-2.604490e+06</td>\n",
       "      <td>0.000000</td>\n",
       "      <td>-7.576788e+06</td>\n",
       "      <td>-4.409300e+04</td>\n",
       "      <td>0.000000e+00</td>\n",
       "      <td>0.000000e+00</td>\n",
       "      <td>0.000000</td>\n",
       "      <td>0.000000e+00</td>\n",
       "      <td>0.000000</td>\n",
       "      <td>0.000000e+00</td>\n",
       "      <td>-2.799289e+07</td>\n",
       "      <td>0.000000e+00</td>\n",
       "      <td>0.000000</td>\n",
       "      <td>0.000000</td>\n",
       "    </tr>\n",
       "    <tr>\n",
       "      <th>25%</th>\n",
       "      <td>0.000000e+00</td>\n",
       "      <td>0.000000</td>\n",
       "      <td>0.000000e+00</td>\n",
       "      <td>1.025000e+05</td>\n",
       "      <td>0.000000e+00</td>\n",
       "      <td>0.000000e+00</td>\n",
       "      <td>3.246000e+04</td>\n",
       "      <td>0.000000</td>\n",
       "      <td>0.000000e+00</td>\n",
       "      <td>2.520550e+05</td>\n",
       "      <td>0.000000e+00</td>\n",
       "      <td>0.000000e+00</td>\n",
       "      <td>0.000000</td>\n",
       "      <td>0.000000e+00</td>\n",
       "      <td>0.000000</td>\n",
       "      <td>0.000000e+00</td>\n",
       "      <td>-3.834600e+04</td>\n",
       "      <td>0.000000e+00</td>\n",
       "      <td>0.000000</td>\n",
       "      <td>0.000000</td>\n",
       "    </tr>\n",
       "    <tr>\n",
       "      <th>50%</th>\n",
       "      <td>2.106920e+05</td>\n",
       "      <td>312.000000</td>\n",
       "      <td>0.000000e+00</td>\n",
       "      <td>9.665220e+05</td>\n",
       "      <td>6.087500e+05</td>\n",
       "      <td>3.000000e+05</td>\n",
       "      <td>3.605280e+05</td>\n",
       "      <td>114.000000</td>\n",
       "      <td>0.000000e+00</td>\n",
       "      <td>9.760370e+05</td>\n",
       "      <td>2.153000e+04</td>\n",
       "      <td>0.000000e+00</td>\n",
       "      <td>17.000000</td>\n",
       "      <td>9.720000e+02</td>\n",
       "      <td>0.000000</td>\n",
       "      <td>0.000000e+00</td>\n",
       "      <td>0.000000e+00</td>\n",
       "      <td>0.000000e+00</td>\n",
       "      <td>4.000000</td>\n",
       "      <td>0.000000</td>\n",
       "    </tr>\n",
       "    <tr>\n",
       "      <th>75%</th>\n",
       "      <td>2.714420e+05</td>\n",
       "      <td>1607.000000</td>\n",
       "      <td>1.025900e+04</td>\n",
       "      <td>1.979596e+06</td>\n",
       "      <td>1.729541e+06</td>\n",
       "      <td>8.000000e+05</td>\n",
       "      <td>8.530640e+05</td>\n",
       "      <td>900.000000</td>\n",
       "      <td>0.000000e+00</td>\n",
       "      <td>2.332399e+06</td>\n",
       "      <td>5.394700e+04</td>\n",
       "      <td>0.000000e+00</td>\n",
       "      <td>52.000000</td>\n",
       "      <td>1.506560e+05</td>\n",
       "      <td>14.000000</td>\n",
       "      <td>0.000000e+00</td>\n",
       "      <td>0.000000e+00</td>\n",
       "      <td>3.753040e+05</td>\n",
       "      <td>41.000000</td>\n",
       "      <td>0.000000</td>\n",
       "    </tr>\n",
       "    <tr>\n",
       "      <th>max</th>\n",
       "      <td>2.670423e+07</td>\n",
       "      <td>15149.000000</td>\n",
       "      <td>3.208340e+07</td>\n",
       "      <td>3.098866e+08</td>\n",
       "      <td>3.117640e+08</td>\n",
       "      <td>9.734362e+07</td>\n",
       "      <td>1.303223e+08</td>\n",
       "      <td>5521.000000</td>\n",
       "      <td>1.545629e+07</td>\n",
       "      <td>4.345095e+08</td>\n",
       "      <td>5.235198e+06</td>\n",
       "      <td>8.392500e+07</td>\n",
       "      <td>14368.000000</td>\n",
       "      <td>4.266759e+07</td>\n",
       "      <td>609.000000</td>\n",
       "      <td>1.398517e+06</td>\n",
       "      <td>0.000000e+00</td>\n",
       "      <td>4.852193e+07</td>\n",
       "      <td>528.000000</td>\n",
       "      <td>1.000000</td>\n",
       "    </tr>\n",
       "  </tbody>\n",
       "</table>\n",
       "</div>"
      ],
      "text/plain": [
       "             salary   to_messages  deferral_payments  total_payments  \\\n",
       "count  1.450000e+02    145.000000       1.450000e+02    1.450000e+02   \n",
       "mean   3.683342e+05   1230.013793       4.418227e+05    4.380626e+06   \n",
       "std    2.211001e+06   2232.153003       2.750583e+06    2.702539e+07   \n",
       "min    0.000000e+00      0.000000      -1.025000e+05    0.000000e+00   \n",
       "25%    0.000000e+00      0.000000       0.000000e+00    1.025000e+05   \n",
       "50%    2.106920e+05    312.000000       0.000000e+00    9.665220e+05   \n",
       "75%    2.714420e+05   1607.000000       1.025900e+04    1.979596e+06   \n",
       "max    2.670423e+07  15149.000000       3.208340e+07    3.098866e+08   \n",
       "\n",
       "       exercised_stock_options         bonus  restricted_stock  \\\n",
       "count             1.450000e+02  1.450000e+02      1.450000e+02   \n",
       "mean              4.211583e+06  1.342671e+06      1.761321e+06   \n",
       "std               2.615843e+07  8.121319e+06      1.093676e+07   \n",
       "min               0.000000e+00  0.000000e+00     -2.604490e+06   \n",
       "25%               0.000000e+00  0.000000e+00      3.246000e+04   \n",
       "50%               6.087500e+05  3.000000e+05      3.605280e+05   \n",
       "75%               1.729541e+06  8.000000e+05      8.530640e+05   \n",
       "max               3.117640e+08  9.734362e+07      1.303223e+08   \n",
       "\n",
       "       shared_receipt_with_poi  restricted_stock_deferred  total_stock_value  \\\n",
       "count               145.000000               1.450000e+02       1.450000e+02   \n",
       "mean                697.765517               2.065786e+04       5.886335e+06   \n",
       "std                1075.128126               1.444650e+06       3.636916e+07   \n",
       "min                   0.000000              -7.576788e+06      -4.409300e+04   \n",
       "25%                   0.000000               0.000000e+00       2.520550e+05   \n",
       "50%                 114.000000               0.000000e+00       9.760370e+05   \n",
       "75%                 900.000000               0.000000e+00       2.332399e+06   \n",
       "max                5521.000000               1.545629e+07       4.345095e+08   \n",
       "\n",
       "           expenses  loan_advances  from_messages         other  \\\n",
       "count  1.450000e+02   1.450000e+02     145.000000  1.450000e+02   \n",
       "mean   7.123619e+04   1.157586e+06     361.075862  5.894693e+05   \n",
       "std    4.341759e+05   9.682311e+06    1445.944684  3.694784e+06   \n",
       "min    0.000000e+00   0.000000e+00       0.000000  0.000000e+00   \n",
       "25%    0.000000e+00   0.000000e+00       0.000000  0.000000e+00   \n",
       "50%    2.153000e+04   0.000000e+00      17.000000  9.720000e+02   \n",
       "75%    5.394700e+04   0.000000e+00      52.000000  1.506560e+05   \n",
       "max    5.235198e+06   8.392500e+07   14368.000000  4.266759e+07   \n",
       "\n",
       "       from_this_person_to_poi  director_fees  deferred_income  \\\n",
       "count               145.000000   1.450000e+02     1.450000e+02   \n",
       "mean                 24.455172   1.955643e+04    -3.854019e+05   \n",
       "std                  79.527073   1.194559e+05     2.386279e+06   \n",
       "min                   0.000000   0.000000e+00    -2.799289e+07   \n",
       "25%                   0.000000   0.000000e+00    -3.834600e+04   \n",
       "50%                   0.000000   0.000000e+00     0.000000e+00   \n",
       "75%                  14.000000   0.000000e+00     0.000000e+00   \n",
       "max                 609.000000   1.398517e+06     0.000000e+00   \n",
       "\n",
       "       long_term_incentive  from_poi_to_this_person      target  \n",
       "count         1.450000e+02               145.000000  145.000000  \n",
       "mean          6.692680e+05                38.489655    0.124138  \n",
       "std           4.059716e+06                74.088359    0.330882  \n",
       "min           0.000000e+00                 0.000000    0.000000  \n",
       "25%           0.000000e+00                 0.000000    0.000000  \n",
       "50%           0.000000e+00                 4.000000    0.000000  \n",
       "75%           3.753040e+05                41.000000    0.000000  \n",
       "max           4.852193e+07               528.000000    1.000000  "
      ]
     },
     "execution_count": 17,
     "metadata": {},
     "output_type": "execute_result"
    }
   ],
   "source": [
    "# summary stats\n",
    "df_all.describe()"
   ]
  },
  {
   "cell_type": "code",
   "execution_count": 83,
   "metadata": {
    "collapsed": false
   },
   "outputs": [
    {
     "data": {
      "text/plain": [
       "False"
      ]
     },
     "execution_count": 83,
     "metadata": {},
     "output_type": "execute_result"
    }
   ],
   "source": [
    "df.isnull().values.any()"
   ]
  },
  {
   "cell_type": "code",
   "execution_count": 125,
   "metadata": {
    "collapsed": true
   },
   "outputs": [
    {
     "name": "stdout",
     "output_type": "stream",
     "text": [
      "salary 51\n",
      "to_messages 60\n",
      "deferral_payments 107\n",
      "total_payments 21\n",
      "exercised_stock_options 44\n",
      "bonus 64\n",
      "restricted_stock 36\n",
      "shared_receipt_with_poi 60\n",
      "restricted_stock_deferred 128\n",
      "total_stock_value 20\n",
      "expenses 51\n",
      "loan_advances 142\n",
      "from_messages 60\n",
      "other 53\n",
      "from_this_person_to_poi 60\n",
      "poi 0\n",
      "director_fees 129\n",
      "deferred_income 97\n",
      "long_term_incentive 80\n",
      "email_address 35\n",
      "from_poi_to_this_person 60\n"
     ]
    }
   ],
   "source": [
    "# any missing values\n",
    "for col in df.columns:\n",
    "    print col, sum(df[col] == 'NaN')"
   ]
  },
  {
   "cell_type": "code",
   "execution_count": 128,
   "metadata": {
    "collapsed": true
   },
   "outputs": [
    {
     "name": "stdout",
     "output_type": "stream",
     "text": [
      "salary 51\n",
      "to_messages 60\n",
      "deferral_payments 107\n",
      "total_payments 21\n",
      "exercised_stock_options 44\n",
      "bonus 64\n",
      "restricted_stock 36\n",
      "shared_receipt_with_poi 60\n",
      "restricted_stock_deferred 128\n",
      "total_stock_value 20\n",
      "expenses 51\n",
      "loan_advances 142\n",
      "from_messages 60\n",
      "other 53\n",
      "from_this_person_to_poi 60\n",
      "director_fees 129\n",
      "deferred_income 97\n",
      "long_term_incentive 80\n",
      "from_poi_to_this_person 60\n",
      "target 0\n"
     ]
    }
   ],
   "source": [
    "# any values isnull()\n",
    "for col in df_all.columns:\n",
    "    print col, sum(df_all[col].isnull())"
   ]
  },
  {
   "cell_type": "code",
   "execution_count": 157,
   "metadata": {
    "collapsed": false
   },
   "outputs": [
    {
     "data": {
      "text/html": [
       "<div>\n",
       "<table border=\"1\" class=\"dataframe\">\n",
       "  <thead>\n",
       "    <tr style=\"text-align: right;\">\n",
       "      <th></th>\n",
       "      <th>salary</th>\n",
       "      <th>to_messages</th>\n",
       "      <th>deferral_payments</th>\n",
       "      <th>total_payments</th>\n",
       "      <th>exercised_stock_options</th>\n",
       "      <th>bonus</th>\n",
       "      <th>restricted_stock</th>\n",
       "      <th>shared_receipt_with_poi</th>\n",
       "      <th>restricted_stock_deferred</th>\n",
       "      <th>total_stock_value</th>\n",
       "      <th>expenses</th>\n",
       "      <th>loan_advances</th>\n",
       "      <th>from_messages</th>\n",
       "      <th>other</th>\n",
       "      <th>from_this_person_to_poi</th>\n",
       "      <th>director_fees</th>\n",
       "      <th>deferred_income</th>\n",
       "      <th>long_term_incentive</th>\n",
       "      <th>from_poi_to_this_person</th>\n",
       "    </tr>\n",
       "  </thead>\n",
       "  <tbody>\n",
       "    <tr>\n",
       "      <th>0</th>\n",
       "      <td>201955.0</td>\n",
       "      <td>2902.0</td>\n",
       "      <td>2869717.0</td>\n",
       "      <td>4484442.0</td>\n",
       "      <td>1729541.0</td>\n",
       "      <td>4175000.0</td>\n",
       "      <td>126027.0</td>\n",
       "      <td>1407.0</td>\n",
       "      <td>-126027.0</td>\n",
       "      <td>1729541.0</td>\n",
       "      <td>13868.0</td>\n",
       "      <td>-1.0</td>\n",
       "      <td>2195.0</td>\n",
       "      <td>152.0</td>\n",
       "      <td>65.0</td>\n",
       "      <td>-1.0</td>\n",
       "      <td>-3081055.0</td>\n",
       "      <td>304805.0</td>\n",
       "      <td>47.0</td>\n",
       "    </tr>\n",
       "    <tr>\n",
       "      <th>1</th>\n",
       "      <td>-1.0</td>\n",
       "      <td>-1.0</td>\n",
       "      <td>178980.0</td>\n",
       "      <td>182466.0</td>\n",
       "      <td>257817.0</td>\n",
       "      <td>-1.0</td>\n",
       "      <td>-1.0</td>\n",
       "      <td>-1.0</td>\n",
       "      <td>-1.0</td>\n",
       "      <td>257817.0</td>\n",
       "      <td>3486.0</td>\n",
       "      <td>-1.0</td>\n",
       "      <td>-1.0</td>\n",
       "      <td>-1.0</td>\n",
       "      <td>-1.0</td>\n",
       "      <td>-1.0</td>\n",
       "      <td>-1.0</td>\n",
       "      <td>-1.0</td>\n",
       "      <td>-1.0</td>\n",
       "    </tr>\n",
       "    <tr>\n",
       "      <th>2</th>\n",
       "      <td>477.0</td>\n",
       "      <td>566.0</td>\n",
       "      <td>-1.0</td>\n",
       "      <td>916197.0</td>\n",
       "      <td>4046157.0</td>\n",
       "      <td>-1.0</td>\n",
       "      <td>1757552.0</td>\n",
       "      <td>465.0</td>\n",
       "      <td>-560222.0</td>\n",
       "      <td>5243487.0</td>\n",
       "      <td>56301.0</td>\n",
       "      <td>-1.0</td>\n",
       "      <td>29.0</td>\n",
       "      <td>864523.0</td>\n",
       "      <td>0.0</td>\n",
       "      <td>-1.0</td>\n",
       "      <td>-5104.0</td>\n",
       "      <td>-1.0</td>\n",
       "      <td>39.0</td>\n",
       "    </tr>\n",
       "  </tbody>\n",
       "</table>\n",
       "</div>"
      ],
      "text/plain": [
       "     salary  to_messages  deferral_payments  total_payments  \\\n",
       "0  201955.0       2902.0          2869717.0       4484442.0   \n",
       "1      -1.0         -1.0           178980.0        182466.0   \n",
       "2     477.0        566.0               -1.0        916197.0   \n",
       "\n",
       "   exercised_stock_options      bonus  restricted_stock  \\\n",
       "0                1729541.0  4175000.0          126027.0   \n",
       "1                 257817.0       -1.0              -1.0   \n",
       "2                4046157.0       -1.0         1757552.0   \n",
       "\n",
       "   shared_receipt_with_poi  restricted_stock_deferred  total_stock_value  \\\n",
       "0                   1407.0                  -126027.0          1729541.0   \n",
       "1                     -1.0                       -1.0           257817.0   \n",
       "2                    465.0                  -560222.0          5243487.0   \n",
       "\n",
       "   expenses  loan_advances  from_messages     other  from_this_person_to_poi  \\\n",
       "0   13868.0           -1.0         2195.0     152.0                     65.0   \n",
       "1    3486.0           -1.0           -1.0      -1.0                     -1.0   \n",
       "2   56301.0           -1.0           29.0  864523.0                      0.0   \n",
       "\n",
       "   director_fees  deferred_income  long_term_incentive  \\\n",
       "0           -1.0       -3081055.0             304805.0   \n",
       "1           -1.0             -1.0                 -1.0   \n",
       "2           -1.0          -5104.0                 -1.0   \n",
       "\n",
       "   from_poi_to_this_person  \n",
       "0                     47.0  \n",
       "1                     -1.0  \n",
       "2                     39.0  "
      ]
     },
     "metadata": {},
     "output_type": "display_data"
    },
    {
     "data": {
      "text/html": [
       "<div>\n",
       "<table border=\"1\" class=\"dataframe\">\n",
       "  <thead>\n",
       "    <tr style=\"text-align: right;\">\n",
       "      <th></th>\n",
       "      <th>salary</th>\n",
       "      <th>to_messages</th>\n",
       "      <th>deferral_payments</th>\n",
       "      <th>total_payments</th>\n",
       "      <th>exercised_stock_options</th>\n",
       "      <th>bonus</th>\n",
       "      <th>restricted_stock</th>\n",
       "      <th>shared_receipt_with_poi</th>\n",
       "      <th>restricted_stock_deferred</th>\n",
       "      <th>total_stock_value</th>\n",
       "      <th>expenses</th>\n",
       "      <th>loan_advances</th>\n",
       "      <th>from_messages</th>\n",
       "      <th>other</th>\n",
       "      <th>from_this_person_to_poi</th>\n",
       "      <th>director_fees</th>\n",
       "      <th>deferred_income</th>\n",
       "      <th>long_term_incentive</th>\n",
       "      <th>from_poi_to_this_person</th>\n",
       "    </tr>\n",
       "  </thead>\n",
       "  <tbody>\n",
       "    <tr>\n",
       "      <th>141</th>\n",
       "      <td>-1.0</td>\n",
       "      <td>-1.0</td>\n",
       "      <td>-1.0</td>\n",
       "      <td>-1.0</td>\n",
       "      <td>139130.0</td>\n",
       "      <td>-1.0</td>\n",
       "      <td>-1.0</td>\n",
       "      <td>-1.0</td>\n",
       "      <td>-1.0</td>\n",
       "      <td>139130.0</td>\n",
       "      <td>-1.0</td>\n",
       "      <td>-1.0</td>\n",
       "      <td>-1.0</td>\n",
       "      <td>-1.0</td>\n",
       "      <td>-1.0</td>\n",
       "      <td>-1.0</td>\n",
       "      <td>-1.0</td>\n",
       "      <td>-1.0</td>\n",
       "      <td>-1.0</td>\n",
       "    </tr>\n",
       "    <tr>\n",
       "      <th>142</th>\n",
       "      <td>158403.0</td>\n",
       "      <td>-1.0</td>\n",
       "      <td>-1.0</td>\n",
       "      <td>360300.0</td>\n",
       "      <td>8308552.0</td>\n",
       "      <td>-1.0</td>\n",
       "      <td>3576206.0</td>\n",
       "      <td>-1.0</td>\n",
       "      <td>-1.0</td>\n",
       "      <td>11884758.0</td>\n",
       "      <td>53947.0</td>\n",
       "      <td>-1.0</td>\n",
       "      <td>-1.0</td>\n",
       "      <td>147950.0</td>\n",
       "      <td>-1.0</td>\n",
       "      <td>-1.0</td>\n",
       "      <td>-1.0</td>\n",
       "      <td>-1.0</td>\n",
       "      <td>-1.0</td>\n",
       "    </tr>\n",
       "    <tr>\n",
       "      <th>143</th>\n",
       "      <td>-1.0</td>\n",
       "      <td>-1.0</td>\n",
       "      <td>-1.0</td>\n",
       "      <td>55097.0</td>\n",
       "      <td>192758.0</td>\n",
       "      <td>-1.0</td>\n",
       "      <td>-1.0</td>\n",
       "      <td>-1.0</td>\n",
       "      <td>-1.0</td>\n",
       "      <td>192758.0</td>\n",
       "      <td>55097.0</td>\n",
       "      <td>-1.0</td>\n",
       "      <td>-1.0</td>\n",
       "      <td>-1.0</td>\n",
       "      <td>-1.0</td>\n",
       "      <td>-1.0</td>\n",
       "      <td>-1.0</td>\n",
       "      <td>-1.0</td>\n",
       "      <td>-1.0</td>\n",
       "    </tr>\n",
       "  </tbody>\n",
       "</table>\n",
       "</div>"
      ],
      "text/plain": [
       "       salary  to_messages  deferral_payments  total_payments  \\\n",
       "141      -1.0         -1.0               -1.0            -1.0   \n",
       "142  158403.0         -1.0               -1.0        360300.0   \n",
       "143      -1.0         -1.0               -1.0         55097.0   \n",
       "\n",
       "     exercised_stock_options  bonus  restricted_stock  \\\n",
       "141                 139130.0   -1.0              -1.0   \n",
       "142                8308552.0   -1.0         3576206.0   \n",
       "143                 192758.0   -1.0              -1.0   \n",
       "\n",
       "     shared_receipt_with_poi  restricted_stock_deferred  total_stock_value  \\\n",
       "141                     -1.0                       -1.0           139130.0   \n",
       "142                     -1.0                       -1.0         11884758.0   \n",
       "143                     -1.0                       -1.0           192758.0   \n",
       "\n",
       "     expenses  loan_advances  from_messages     other  \\\n",
       "141      -1.0           -1.0           -1.0      -1.0   \n",
       "142   53947.0           -1.0           -1.0  147950.0   \n",
       "143   55097.0           -1.0           -1.0      -1.0   \n",
       "\n",
       "     from_this_person_to_poi  director_fees  deferred_income  \\\n",
       "141                     -1.0           -1.0             -1.0   \n",
       "142                     -1.0           -1.0             -1.0   \n",
       "143                     -1.0           -1.0             -1.0   \n",
       "\n",
       "     long_term_incentive  from_poi_to_this_person  \n",
       "141                 -1.0                     -1.0  \n",
       "142                 -1.0                     -1.0  \n",
       "143                 -1.0                     -1.0  "
      ]
     },
     "metadata": {},
     "output_type": "display_data"
    }
   ],
   "source": [
    "# fill null values\n",
    "features_copy = features.copy()\n",
    "features = features_copy.fillna(-1)\n",
    "\n",
    "display(features.head(3))\n",
    "display(features.tail(3))"
   ]
  },
  {
   "cell_type": "markdown",
   "metadata": {},
   "source": [
    "Remove outliers\n",
    "---------------"
   ]
  },
  {
   "cell_type": "code",
   "execution_count": 78,
   "metadata": {
    "collapsed": false
   },
   "outputs": [],
   "source": [
    "# start over if necessary\n",
    "features = features_copy.fillna(-1)"
   ]
  },
  {
   "cell_type": "code",
   "execution_count": 44,
   "metadata": {
    "collapsed": false
   },
   "outputs": [
    {
     "name": "stdout",
     "output_type": "stream",
     "text": [
      "salary [-1.0, 477.0, 6615.0, 63744.0, 76399.0]\n",
      "to_messages [-1.0, 57.0, 58.0, 102.0, 111.0]\n",
      "deferral_payments [-102500.0, -1.0, 7961.0, 10259.0, 16586.0]\n",
      "total_payments [-1.0, 148.0, 475.0, 1279.0, 2151.0]\n",
      "exercised_stock_options [-1.0, 3285.0, 9803.0, 17378.0, 28798.0]\n",
      "bonus [-1.0, 70000.0, 100000.0, 200000.0, 250000.0]\n",
      "restricted_stock [-2604490.0, -1.0, 32460.0, 44093.0, 47304.0]\n",
      "shared_receipt_with_poi [-1.0, 2.0, 3.0, 10.0, 12.0]\n",
      "restricted_stock_deferred [-7576788.0, -1787380.0, -560222.0, -472568.0, -409554.0]\n",
      "total_stock_value [-44093.0, -1.0, 28798.0, 47304.0, 63014.0]\n",
      "expenses [-1.0, 148.0, 475.0, 600.0, 1279.0]\n",
      "loan_advances [-1.0, 400000.0, 2000000.0, 81525000.0, 83925000.0]\n",
      "from_messages [-1.0, 12.0, 13.0, 14.0, 15.0]\n",
      "other [-1.0, 2.0, 69.0, 152.0, 162.0]\n",
      "from_this_person_to_poi [-1.0, 0.0, 1.0, 2.0, 3.0]\n",
      "director_fees [-1.0, 3285.0, 17500.0, 36666.0, 38346.0]\n",
      "deferred_income [-27992891.0, -3504386.0, -3367011.0, -3117011.0, -3081055.0]\n",
      "long_term_incentive [-1.0, 69223.0, 71023.0, 75000.0, 93750.0]\n",
      "from_poi_to_this_person [-1.0, 0.0, 1.0, 4.0, 7.0]\n"
     ]
    }
   ],
   "source": [
    "# what are low values in each feature?\n",
    "for col in features.columns:\n",
    "    print col, sorted(features[col].value_counts().index)[:5]"
   ]
  },
  {
   "cell_type": "code",
   "execution_count": 158,
   "metadata": {
    "collapsed": false
   },
   "outputs": [
    {
     "name": "stdout",
     "output_type": "stream",
     "text": [
      "['salary', 'to_messages', 'deferral_payments', 'total_payments', 'exercised_stock_options', 'bonus', 'restricted_stock', 'shared_receipt_with_poi', 'restricted_stock_deferred', 'total_stock_value', 'expenses', 'loan_advances', 'from_messages', 'other', 'director_fees', 'deferred_income', 'long_term_incentive']\n"
     ]
    },
    {
     "data": {
      "text/html": [
       "<div>\n",
       "<table border=\"1\" class=\"dataframe\">\n",
       "  <thead>\n",
       "    <tr style=\"text-align: right;\">\n",
       "      <th></th>\n",
       "      <th>salary</th>\n",
       "      <th>to_messages</th>\n",
       "      <th>deferral_payments</th>\n",
       "      <th>total_payments</th>\n",
       "      <th>exercised_stock_options</th>\n",
       "      <th>bonus</th>\n",
       "      <th>restricted_stock</th>\n",
       "      <th>shared_receipt_with_poi</th>\n",
       "      <th>restricted_stock_deferred</th>\n",
       "      <th>total_stock_value</th>\n",
       "      <th>expenses</th>\n",
       "      <th>loan_advances</th>\n",
       "      <th>from_messages</th>\n",
       "      <th>other</th>\n",
       "      <th>from_this_person_to_poi</th>\n",
       "      <th>director_fees</th>\n",
       "      <th>deferred_income</th>\n",
       "      <th>long_term_incentive</th>\n",
       "      <th>from_poi_to_this_person</th>\n",
       "    </tr>\n",
       "  </thead>\n",
       "  <tbody>\n",
       "    <tr>\n",
       "      <th>0</th>\n",
       "      <td>201955.0</td>\n",
       "      <td>2902.0</td>\n",
       "      <td>2869717.0</td>\n",
       "      <td>4484442.0</td>\n",
       "      <td>1729541.0</td>\n",
       "      <td>4175000.0</td>\n",
       "      <td>126027.0</td>\n",
       "      <td>1407.0</td>\n",
       "      <td>-126027.0</td>\n",
       "      <td>1729541.0</td>\n",
       "      <td>13868.0</td>\n",
       "      <td>0.0</td>\n",
       "      <td>2195.0</td>\n",
       "      <td>152.0</td>\n",
       "      <td>65.0</td>\n",
       "      <td>0.0</td>\n",
       "      <td>-3081055.0</td>\n",
       "      <td>304805.0</td>\n",
       "      <td>47.0</td>\n",
       "    </tr>\n",
       "    <tr>\n",
       "      <th>1</th>\n",
       "      <td>0.0</td>\n",
       "      <td>0.0</td>\n",
       "      <td>178980.0</td>\n",
       "      <td>182466.0</td>\n",
       "      <td>257817.0</td>\n",
       "      <td>0.0</td>\n",
       "      <td>0.0</td>\n",
       "      <td>0.0</td>\n",
       "      <td>0.0</td>\n",
       "      <td>257817.0</td>\n",
       "      <td>3486.0</td>\n",
       "      <td>0.0</td>\n",
       "      <td>0.0</td>\n",
       "      <td>0.0</td>\n",
       "      <td>-1.0</td>\n",
       "      <td>0.0</td>\n",
       "      <td>0.0</td>\n",
       "      <td>0.0</td>\n",
       "      <td>-1.0</td>\n",
       "    </tr>\n",
       "    <tr>\n",
       "      <th>2</th>\n",
       "      <td>477.0</td>\n",
       "      <td>566.0</td>\n",
       "      <td>0.0</td>\n",
       "      <td>916197.0</td>\n",
       "      <td>4046157.0</td>\n",
       "      <td>0.0</td>\n",
       "      <td>1757552.0</td>\n",
       "      <td>465.0</td>\n",
       "      <td>-560222.0</td>\n",
       "      <td>5243487.0</td>\n",
       "      <td>56301.0</td>\n",
       "      <td>0.0</td>\n",
       "      <td>29.0</td>\n",
       "      <td>864523.0</td>\n",
       "      <td>0.0</td>\n",
       "      <td>0.0</td>\n",
       "      <td>-5104.0</td>\n",
       "      <td>0.0</td>\n",
       "      <td>39.0</td>\n",
       "    </tr>\n",
       "  </tbody>\n",
       "</table>\n",
       "</div>"
      ],
      "text/plain": [
       "     salary  to_messages  deferral_payments  total_payments  \\\n",
       "0  201955.0       2902.0          2869717.0       4484442.0   \n",
       "1       0.0          0.0           178980.0        182466.0   \n",
       "2     477.0        566.0                0.0        916197.0   \n",
       "\n",
       "   exercised_stock_options      bonus  restricted_stock  \\\n",
       "0                1729541.0  4175000.0          126027.0   \n",
       "1                 257817.0        0.0               0.0   \n",
       "2                4046157.0        0.0         1757552.0   \n",
       "\n",
       "   shared_receipt_with_poi  restricted_stock_deferred  total_stock_value  \\\n",
       "0                   1407.0                  -126027.0          1729541.0   \n",
       "1                      0.0                        0.0           257817.0   \n",
       "2                    465.0                  -560222.0          5243487.0   \n",
       "\n",
       "   expenses  loan_advances  from_messages     other  from_this_person_to_poi  \\\n",
       "0   13868.0            0.0         2195.0     152.0                     65.0   \n",
       "1    3486.0            0.0            0.0       0.0                     -1.0   \n",
       "2   56301.0            0.0           29.0  864523.0                      0.0   \n",
       "\n",
       "   director_fees  deferred_income  long_term_incentive  \\\n",
       "0            0.0       -3081055.0             304805.0   \n",
       "1            0.0              0.0                  0.0   \n",
       "2            0.0          -5104.0                  0.0   \n",
       "\n",
       "   from_poi_to_this_person  \n",
       "0                     47.0  \n",
       "1                     -1.0  \n",
       "2                     39.0  "
      ]
     },
     "metadata": {},
     "output_type": "display_data"
    },
    {
     "data": {
      "text/html": [
       "<div>\n",
       "<table border=\"1\" class=\"dataframe\">\n",
       "  <thead>\n",
       "    <tr style=\"text-align: right;\">\n",
       "      <th></th>\n",
       "      <th>salary</th>\n",
       "      <th>to_messages</th>\n",
       "      <th>deferral_payments</th>\n",
       "      <th>total_payments</th>\n",
       "      <th>exercised_stock_options</th>\n",
       "      <th>bonus</th>\n",
       "      <th>restricted_stock</th>\n",
       "      <th>shared_receipt_with_poi</th>\n",
       "      <th>restricted_stock_deferred</th>\n",
       "      <th>total_stock_value</th>\n",
       "      <th>expenses</th>\n",
       "      <th>loan_advances</th>\n",
       "      <th>from_messages</th>\n",
       "      <th>other</th>\n",
       "      <th>from_this_person_to_poi</th>\n",
       "      <th>director_fees</th>\n",
       "      <th>deferred_income</th>\n",
       "      <th>long_term_incentive</th>\n",
       "      <th>from_poi_to_this_person</th>\n",
       "    </tr>\n",
       "  </thead>\n",
       "  <tbody>\n",
       "    <tr>\n",
       "      <th>141</th>\n",
       "      <td>0.0</td>\n",
       "      <td>0.0</td>\n",
       "      <td>0.0</td>\n",
       "      <td>0.0</td>\n",
       "      <td>139130.0</td>\n",
       "      <td>0.0</td>\n",
       "      <td>0.0</td>\n",
       "      <td>0.0</td>\n",
       "      <td>0.0</td>\n",
       "      <td>139130.0</td>\n",
       "      <td>0.0</td>\n",
       "      <td>0.0</td>\n",
       "      <td>0.0</td>\n",
       "      <td>0.0</td>\n",
       "      <td>-1.0</td>\n",
       "      <td>0.0</td>\n",
       "      <td>0.0</td>\n",
       "      <td>0.0</td>\n",
       "      <td>-1.0</td>\n",
       "    </tr>\n",
       "    <tr>\n",
       "      <th>142</th>\n",
       "      <td>158403.0</td>\n",
       "      <td>0.0</td>\n",
       "      <td>0.0</td>\n",
       "      <td>360300.0</td>\n",
       "      <td>8308552.0</td>\n",
       "      <td>0.0</td>\n",
       "      <td>3576206.0</td>\n",
       "      <td>0.0</td>\n",
       "      <td>0.0</td>\n",
       "      <td>11884758.0</td>\n",
       "      <td>53947.0</td>\n",
       "      <td>0.0</td>\n",
       "      <td>0.0</td>\n",
       "      <td>147950.0</td>\n",
       "      <td>-1.0</td>\n",
       "      <td>0.0</td>\n",
       "      <td>0.0</td>\n",
       "      <td>0.0</td>\n",
       "      <td>-1.0</td>\n",
       "    </tr>\n",
       "    <tr>\n",
       "      <th>143</th>\n",
       "      <td>0.0</td>\n",
       "      <td>0.0</td>\n",
       "      <td>0.0</td>\n",
       "      <td>55097.0</td>\n",
       "      <td>192758.0</td>\n",
       "      <td>0.0</td>\n",
       "      <td>0.0</td>\n",
       "      <td>0.0</td>\n",
       "      <td>0.0</td>\n",
       "      <td>192758.0</td>\n",
       "      <td>55097.0</td>\n",
       "      <td>0.0</td>\n",
       "      <td>0.0</td>\n",
       "      <td>0.0</td>\n",
       "      <td>-1.0</td>\n",
       "      <td>0.0</td>\n",
       "      <td>0.0</td>\n",
       "      <td>0.0</td>\n",
       "      <td>-1.0</td>\n",
       "    </tr>\n",
       "  </tbody>\n",
       "</table>\n",
       "</div>"
      ],
      "text/plain": [
       "       salary  to_messages  deferral_payments  total_payments  \\\n",
       "141       0.0          0.0                0.0             0.0   \n",
       "142  158403.0          0.0                0.0        360300.0   \n",
       "143       0.0          0.0                0.0         55097.0   \n",
       "\n",
       "     exercised_stock_options  bonus  restricted_stock  \\\n",
       "141                 139130.0    0.0               0.0   \n",
       "142                8308552.0    0.0         3576206.0   \n",
       "143                 192758.0    0.0               0.0   \n",
       "\n",
       "     shared_receipt_with_poi  restricted_stock_deferred  total_stock_value  \\\n",
       "141                      0.0                        0.0           139130.0   \n",
       "142                      0.0                        0.0         11884758.0   \n",
       "143                      0.0                        0.0           192758.0   \n",
       "\n",
       "     expenses  loan_advances  from_messages     other  \\\n",
       "141       0.0            0.0            0.0       0.0   \n",
       "142   53947.0            0.0            0.0  147950.0   \n",
       "143   55097.0            0.0            0.0       0.0   \n",
       "\n",
       "     from_this_person_to_poi  director_fees  deferred_income  \\\n",
       "141                     -1.0            0.0              0.0   \n",
       "142                     -1.0            0.0              0.0   \n",
       "143                     -1.0            0.0              0.0   \n",
       "\n",
       "     long_term_incentive  from_poi_to_this_person  \n",
       "141                  0.0                     -1.0  \n",
       "142                  0.0                     -1.0  \n",
       "143                  0.0                     -1.0  "
      ]
     },
     "metadata": {},
     "output_type": "display_data"
    }
   ],
   "source": [
    "# specify the columns with no zero values\n",
    "cols_replace = [i for i in features.columns if i not in ['from_this_person_to_poi', 'from_poi_to_this_person']]\n",
    "print cols_replace\n",
    "\n",
    "# replace -1 with 0 for features without any zero values\n",
    "features[cols_replace] = features[cols_replace].replace([-1], [0])\n",
    "\n",
    "display(features.head(3))\n",
    "display(features.tail(3))"
   ]
  },
  {
   "cell_type": "markdown",
   "metadata": {},
   "source": [
    "### TODO: log transform features\n",
    "- normalize features with negative values\n",
    "- add small constant to feature with min value 0\n"
   ]
  },
  {
   "cell_type": "code",
   "execution_count": null,
   "metadata": {
    "collapsed": true
   },
   "outputs": [],
   "source": [
    "# sign transform: take sqrt of absolute value\n"
   ]
  },
  {
   "cell_type": "markdown",
   "metadata": {},
   "source": [
    "### Look at distributions"
   ]
  },
  {
   "cell_type": "code",
   "execution_count": 89,
   "metadata": {
    "collapsed": true
   },
   "outputs": [],
   "source": [
    "# separate financial and email features\n",
    "fin_feats = ['salary', 'deferral_payments', 'total_payments', 'loan_advances', 'bonus', \n",
    "             'restricted_stock_deferred', 'deferred_income', 'total_stock_value', 'expenses', \n",
    "             'exercised_stock_options', 'other', 'long_term_incentive', 'restricted_stock', 'director_fees']\n",
    "\n",
    "# removed 'email_address'\n",
    "email_feats = ['to_messages', 'from_poi_to_this_person', 'from_messages', \n",
    "               'from_this_person_to_poi', 'shared_receipt_with_poi']"
   ]
  },
  {
   "cell_type": "code",
   "execution_count": 159,
   "metadata": {
    "collapsed": false
   },
   "outputs": [
    {
     "data": {
      "image/png": "[encoded data removed]",
      "text/plain": [
       "<matplotlib.figure.Figure at 0x11d1f90d0>"
      ]
     },
     "metadata": {},
     "output_type": "display_data"
    }
   ],
   "source": [
    "### Task 2: Remove outliers\n",
    "\n",
    "neg_cols = [i for i in features.columns if min(features[i]) < 0]\n",
    "pos_cols = [i for i in features.columns if min(features[i]) >= 0]\n",
    "\n",
    "fin_pos = [i for i in fin_feats if i in pos_cols]\n",
    "fin_neg = [i for i in fin_feats if i in neg_cols]\n",
    "\n",
    "# boxplot of features\n",
    "fig,ax = plt.subplots(2,1, figsize=(12,12))\n",
    "\n",
    "sns.boxplot(features[fin_neg], orient='h', ax=ax[0])\n",
    "sns.boxplot(np.sqrt(features[fin_pos]), orient='h', ax=ax[1]);"
   ]
  },
  {
   "cell_type": "code",
   "execution_count": 160,
   "metadata": {
    "collapsed": false
   },
   "outputs": [
    {
     "data": {
      "text/html": [
       "<div>\n",
       "<table border=\"1\" class=\"dataframe\">\n",
       "  <thead>\n",
       "    <tr style=\"text-align: right;\">\n",
       "      <th></th>\n",
       "      <th>salary</th>\n",
       "      <th>to_messages</th>\n",
       "      <th>deferral_payments</th>\n",
       "      <th>total_payments</th>\n",
       "      <th>exercised_stock_options</th>\n",
       "      <th>bonus</th>\n",
       "      <th>restricted_stock</th>\n",
       "      <th>shared_receipt_with_poi</th>\n",
       "      <th>restricted_stock_deferred</th>\n",
       "      <th>total_stock_value</th>\n",
       "      <th>expenses</th>\n",
       "      <th>loan_advances</th>\n",
       "      <th>from_messages</th>\n",
       "      <th>other</th>\n",
       "      <th>from_this_person_to_poi</th>\n",
       "      <th>director_fees</th>\n",
       "      <th>deferred_income</th>\n",
       "      <th>long_term_incentive</th>\n",
       "      <th>from_poi_to_this_person</th>\n",
       "    </tr>\n",
       "  </thead>\n",
       "  <tbody>\n",
       "    <tr>\n",
       "      <th>79</th>\n",
       "      <td>1072321.0</td>\n",
       "      <td>4273.0</td>\n",
       "      <td>202911.0</td>\n",
       "      <td>103559793.0</td>\n",
       "      <td>34348384.0</td>\n",
       "      <td>7000000.0</td>\n",
       "      <td>14761694.0</td>\n",
       "      <td>2411.0</td>\n",
       "      <td>0.0</td>\n",
       "      <td>49110078.0</td>\n",
       "      <td>99832.0</td>\n",
       "      <td>81525000.0</td>\n",
       "      <td>36.0</td>\n",
       "      <td>10359729.0</td>\n",
       "      <td>16.0</td>\n",
       "      <td>0.0</td>\n",
       "      <td>-300000.0</td>\n",
       "      <td>3600000.0</td>\n",
       "      <td>123.0</td>\n",
       "    </tr>\n",
       "  </tbody>\n",
       "</table>\n",
       "</div>"
      ],
      "text/plain": [
       "       salary  to_messages  deferral_payments  total_payments  \\\n",
       "79  1072321.0       4273.0           202911.0     103559793.0   \n",
       "\n",
       "    exercised_stock_options      bonus  restricted_stock  \\\n",
       "79               34348384.0  7000000.0        14761694.0   \n",
       "\n",
       "    shared_receipt_with_poi  restricted_stock_deferred  total_stock_value  \\\n",
       "79                   2411.0                        0.0         49110078.0   \n",
       "\n",
       "    expenses  loan_advances  from_messages       other  \\\n",
       "79   99832.0     81525000.0           36.0  10359729.0   \n",
       "\n",
       "    from_this_person_to_poi  director_fees  deferred_income  \\\n",
       "79                     16.0            0.0        -300000.0   \n",
       "\n",
       "    long_term_incentive  from_poi_to_this_person  \n",
       "79            3600000.0                    123.0  "
      ]
     },
     "metadata": {},
     "output_type": "display_data"
    },
    {
     "data": {
      "text/html": [
       "<div>\n",
       "<table border=\"1\" class=\"dataframe\">\n",
       "  <thead>\n",
       "    <tr style=\"text-align: right;\">\n",
       "      <th></th>\n",
       "      <th>salary</th>\n",
       "      <th>to_messages</th>\n",
       "      <th>deferral_payments</th>\n",
       "      <th>total_payments</th>\n",
       "      <th>exercised_stock_options</th>\n",
       "      <th>bonus</th>\n",
       "      <th>restricted_stock</th>\n",
       "      <th>shared_receipt_with_poi</th>\n",
       "      <th>restricted_stock_deferred</th>\n",
       "      <th>total_stock_value</th>\n",
       "      <th>expenses</th>\n",
       "      <th>loan_advances</th>\n",
       "      <th>from_messages</th>\n",
       "      <th>other</th>\n",
       "      <th>from_this_person_to_poi</th>\n",
       "      <th>director_fees</th>\n",
       "      <th>deferred_income</th>\n",
       "      <th>long_term_incentive</th>\n",
       "      <th>from_poi_to_this_person</th>\n",
       "    </tr>\n",
       "  </thead>\n",
       "  <tbody>\n",
       "    <tr>\n",
       "      <th>79</th>\n",
       "      <td>1072321.0</td>\n",
       "      <td>4273.0</td>\n",
       "      <td>202911.0</td>\n",
       "      <td>103559793.0</td>\n",
       "      <td>34348384.0</td>\n",
       "      <td>7000000.0</td>\n",
       "      <td>14761694.0</td>\n",
       "      <td>2411.0</td>\n",
       "      <td>0.0</td>\n",
       "      <td>49110078.0</td>\n",
       "      <td>99832.0</td>\n",
       "      <td>81525000.0</td>\n",
       "      <td>36.0</td>\n",
       "      <td>10359729.0</td>\n",
       "      <td>16.0</td>\n",
       "      <td>0.0</td>\n",
       "      <td>-300000.0</td>\n",
       "      <td>3600000.0</td>\n",
       "      <td>123.0</td>\n",
       "    </tr>\n",
       "  </tbody>\n",
       "</table>\n",
       "</div>"
      ],
      "text/plain": [
       "       salary  to_messages  deferral_payments  total_payments  \\\n",
       "79  1072321.0       4273.0           202911.0     103559793.0   \n",
       "\n",
       "    exercised_stock_options      bonus  restricted_stock  \\\n",
       "79               34348384.0  7000000.0        14761694.0   \n",
       "\n",
       "    shared_receipt_with_poi  restricted_stock_deferred  total_stock_value  \\\n",
       "79                   2411.0                        0.0         49110078.0   \n",
       "\n",
       "    expenses  loan_advances  from_messages       other  \\\n",
       "79   99832.0     81525000.0           36.0  10359729.0   \n",
       "\n",
       "    from_this_person_to_poi  director_fees  deferred_income  \\\n",
       "79                     16.0            0.0        -300000.0   \n",
       "\n",
       "    long_term_incentive  from_poi_to_this_person  \n",
       "79            3600000.0                    123.0  "
      ]
     },
     "metadata": {},
     "output_type": "display_data"
    },
    {
     "data": {
      "text/html": [
       "<div>\n",
       "<table border=\"1\" class=\"dataframe\">\n",
       "  <thead>\n",
       "    <tr style=\"text-align: right;\">\n",
       "      <th></th>\n",
       "      <th>salary</th>\n",
       "      <th>to_messages</th>\n",
       "      <th>deferral_payments</th>\n",
       "      <th>total_payments</th>\n",
       "      <th>exercised_stock_options</th>\n",
       "      <th>bonus</th>\n",
       "      <th>restricted_stock</th>\n",
       "      <th>shared_receipt_with_poi</th>\n",
       "      <th>restricted_stock_deferred</th>\n",
       "      <th>total_stock_value</th>\n",
       "      <th>expenses</th>\n",
       "      <th>loan_advances</th>\n",
       "      <th>from_messages</th>\n",
       "      <th>other</th>\n",
       "      <th>from_this_person_to_poi</th>\n",
       "      <th>director_fees</th>\n",
       "      <th>deferred_income</th>\n",
       "      <th>long_term_incentive</th>\n",
       "      <th>from_poi_to_this_person</th>\n",
       "    </tr>\n",
       "  </thead>\n",
       "  <tbody>\n",
       "    <tr>\n",
       "      <th>79</th>\n",
       "      <td>1072321.0</td>\n",
       "      <td>4273.0</td>\n",
       "      <td>202911.0</td>\n",
       "      <td>103559793.0</td>\n",
       "      <td>34348384.0</td>\n",
       "      <td>7000000.0</td>\n",
       "      <td>14761694.0</td>\n",
       "      <td>2411.0</td>\n",
       "      <td>0.0</td>\n",
       "      <td>49110078.0</td>\n",
       "      <td>99832.0</td>\n",
       "      <td>81525000.0</td>\n",
       "      <td>36.0</td>\n",
       "      <td>10359729.0</td>\n",
       "      <td>16.0</td>\n",
       "      <td>0.0</td>\n",
       "      <td>-300000.0</td>\n",
       "      <td>3600000.0</td>\n",
       "      <td>123.0</td>\n",
       "    </tr>\n",
       "  </tbody>\n",
       "</table>\n",
       "</div>"
      ],
      "text/plain": [
       "       salary  to_messages  deferral_payments  total_payments  \\\n",
       "79  1072321.0       4273.0           202911.0     103559793.0   \n",
       "\n",
       "    exercised_stock_options      bonus  restricted_stock  \\\n",
       "79               34348384.0  7000000.0        14761694.0   \n",
       "\n",
       "    shared_receipt_with_poi  restricted_stock_deferred  total_stock_value  \\\n",
       "79                   2411.0                        0.0         49110078.0   \n",
       "\n",
       "    expenses  loan_advances  from_messages       other  \\\n",
       "79   99832.0     81525000.0           36.0  10359729.0   \n",
       "\n",
       "    from_this_person_to_poi  director_fees  deferred_income  \\\n",
       "79                     16.0            0.0        -300000.0   \n",
       "\n",
       "    long_term_incentive  from_poi_to_this_person  \n",
       "79            3600000.0                    123.0  "
      ]
     },
     "metadata": {},
     "output_type": "display_data"
    },
    {
     "data": {
      "text/html": [
       "<div>\n",
       "<table border=\"1\" class=\"dataframe\">\n",
       "  <thead>\n",
       "    <tr style=\"text-align: right;\">\n",
       "      <th></th>\n",
       "      <th>salary</th>\n",
       "      <th>to_messages</th>\n",
       "      <th>deferral_payments</th>\n",
       "      <th>total_payments</th>\n",
       "      <th>exercised_stock_options</th>\n",
       "      <th>bonus</th>\n",
       "      <th>restricted_stock</th>\n",
       "      <th>shared_receipt_with_poi</th>\n",
       "      <th>restricted_stock_deferred</th>\n",
       "      <th>total_stock_value</th>\n",
       "      <th>expenses</th>\n",
       "      <th>loan_advances</th>\n",
       "      <th>from_messages</th>\n",
       "      <th>other</th>\n",
       "      <th>from_this_person_to_poi</th>\n",
       "      <th>director_fees</th>\n",
       "      <th>deferred_income</th>\n",
       "      <th>long_term_incentive</th>\n",
       "      <th>from_poi_to_this_person</th>\n",
       "    </tr>\n",
       "  </thead>\n",
       "  <tbody>\n",
       "    <tr>\n",
       "      <th>79</th>\n",
       "      <td>1072321.0</td>\n",
       "      <td>4273.0</td>\n",
       "      <td>202911.0</td>\n",
       "      <td>103559793.0</td>\n",
       "      <td>34348384.0</td>\n",
       "      <td>7000000.0</td>\n",
       "      <td>14761694.0</td>\n",
       "      <td>2411.0</td>\n",
       "      <td>0.0</td>\n",
       "      <td>49110078.0</td>\n",
       "      <td>99832.0</td>\n",
       "      <td>81525000.0</td>\n",
       "      <td>36.0</td>\n",
       "      <td>10359729.0</td>\n",
       "      <td>16.0</td>\n",
       "      <td>0.0</td>\n",
       "      <td>-300000.0</td>\n",
       "      <td>3600000.0</td>\n",
       "      <td>123.0</td>\n",
       "    </tr>\n",
       "  </tbody>\n",
       "</table>\n",
       "</div>"
      ],
      "text/plain": [
       "       salary  to_messages  deferral_payments  total_payments  \\\n",
       "79  1072321.0       4273.0           202911.0     103559793.0   \n",
       "\n",
       "    exercised_stock_options      bonus  restricted_stock  \\\n",
       "79               34348384.0  7000000.0        14761694.0   \n",
       "\n",
       "    shared_receipt_with_poi  restricted_stock_deferred  total_stock_value  \\\n",
       "79                   2411.0                        0.0         49110078.0   \n",
       "\n",
       "    expenses  loan_advances  from_messages       other  \\\n",
       "79   99832.0     81525000.0           36.0  10359729.0   \n",
       "\n",
       "    from_this_person_to_poi  director_fees  deferred_income  \\\n",
       "79                     16.0            0.0        -300000.0   \n",
       "\n",
       "    long_term_incentive  from_poi_to_this_person  \n",
       "79            3600000.0                    123.0  "
      ]
     },
     "metadata": {},
     "output_type": "display_data"
    },
    {
     "data": {
      "text/html": [
       "<div>\n",
       "<table border=\"1\" class=\"dataframe\">\n",
       "  <thead>\n",
       "    <tr style=\"text-align: right;\">\n",
       "      <th></th>\n",
       "      <th>salary</th>\n",
       "      <th>to_messages</th>\n",
       "      <th>deferral_payments</th>\n",
       "      <th>total_payments</th>\n",
       "      <th>exercised_stock_options</th>\n",
       "      <th>bonus</th>\n",
       "      <th>restricted_stock</th>\n",
       "      <th>shared_receipt_with_poi</th>\n",
       "      <th>restricted_stock_deferred</th>\n",
       "      <th>total_stock_value</th>\n",
       "      <th>expenses</th>\n",
       "      <th>loan_advances</th>\n",
       "      <th>from_messages</th>\n",
       "      <th>other</th>\n",
       "      <th>from_this_person_to_poi</th>\n",
       "      <th>director_fees</th>\n",
       "      <th>deferred_income</th>\n",
       "      <th>long_term_incentive</th>\n",
       "      <th>from_poi_to_this_person</th>\n",
       "    </tr>\n",
       "  </thead>\n",
       "  <tbody>\n",
       "    <tr>\n",
       "      <th>79</th>\n",
       "      <td>1072321.0</td>\n",
       "      <td>4273.0</td>\n",
       "      <td>202911.0</td>\n",
       "      <td>103559793.0</td>\n",
       "      <td>34348384.0</td>\n",
       "      <td>7000000.0</td>\n",
       "      <td>14761694.0</td>\n",
       "      <td>2411.0</td>\n",
       "      <td>0.0</td>\n",
       "      <td>49110078.0</td>\n",
       "      <td>99832.0</td>\n",
       "      <td>81525000.0</td>\n",
       "      <td>36.0</td>\n",
       "      <td>10359729.0</td>\n",
       "      <td>16.0</td>\n",
       "      <td>0.0</td>\n",
       "      <td>-300000.0</td>\n",
       "      <td>3600000.0</td>\n",
       "      <td>123.0</td>\n",
       "    </tr>\n",
       "  </tbody>\n",
       "</table>\n",
       "</div>"
      ],
      "text/plain": [
       "       salary  to_messages  deferral_payments  total_payments  \\\n",
       "79  1072321.0       4273.0           202911.0     103559793.0   \n",
       "\n",
       "    exercised_stock_options      bonus  restricted_stock  \\\n",
       "79               34348384.0  7000000.0        14761694.0   \n",
       "\n",
       "    shared_receipt_with_poi  restricted_stock_deferred  total_stock_value  \\\n",
       "79                   2411.0                        0.0         49110078.0   \n",
       "\n",
       "    expenses  loan_advances  from_messages       other  \\\n",
       "79   99832.0     81525000.0           36.0  10359729.0   \n",
       "\n",
       "    from_this_person_to_poi  director_fees  deferred_income  \\\n",
       "79                     16.0            0.0        -300000.0   \n",
       "\n",
       "    long_term_incentive  from_poi_to_this_person  \n",
       "79            3600000.0                    123.0  "
      ]
     },
     "metadata": {},
     "output_type": "display_data"
    }
   ],
   "source": [
    "# who are these outliers?\n",
    "display(features[features.total_stock_value == max(features['total_stock_value'])])\n",
    "display(features[features.restricted_stock == max(features['restricted_stock'])])\n",
    "\n",
    "display(features[features.total_payments == max(features['total_payments'])])\n",
    "display(features[features.exercised_stock_options == max(features['exercised_stock_options'])])\n",
    "\n",
    "display(features[features.total_payments > 1e+8])"
   ]
  },
  {
   "cell_type": "markdown",
   "metadata": {},
   "source": [
    "> Argh, it looks like one of the rows is \"TOTAL\""
   ]
  },
  {
   "cell_type": "code",
   "execution_count": 166,
   "metadata": {
    "collapsed": false
   },
   "outputs": [
    {
     "data": {
      "text/html": [
       "<div>\n",
       "<table border=\"1\" class=\"dataframe\">\n",
       "  <thead>\n",
       "    <tr style=\"text-align: right;\">\n",
       "      <th></th>\n",
       "      <th>salary</th>\n",
       "      <th>to_messages</th>\n",
       "      <th>deferral_payments</th>\n",
       "      <th>total_payments</th>\n",
       "      <th>exercised_stock_options</th>\n",
       "      <th>bonus</th>\n",
       "      <th>restricted_stock</th>\n",
       "      <th>shared_receipt_with_poi</th>\n",
       "      <th>restricted_stock_deferred</th>\n",
       "      <th>total_stock_value</th>\n",
       "      <th>...</th>\n",
       "      <th>loan_advances</th>\n",
       "      <th>from_messages</th>\n",
       "      <th>other</th>\n",
       "      <th>from_this_person_to_poi</th>\n",
       "      <th>poi</th>\n",
       "      <th>director_fees</th>\n",
       "      <th>deferred_income</th>\n",
       "      <th>long_term_incentive</th>\n",
       "      <th>email_address</th>\n",
       "      <th>from_poi_to_this_person</th>\n",
       "    </tr>\n",
       "  </thead>\n",
       "  <tbody>\n",
       "    <tr>\n",
       "      <th>LAY KENNETH L</th>\n",
       "      <td>1072321</td>\n",
       "      <td>4273</td>\n",
       "      <td>202911</td>\n",
       "      <td>103559793</td>\n",
       "      <td>34348384</td>\n",
       "      <td>7000000</td>\n",
       "      <td>14761694</td>\n",
       "      <td>2411</td>\n",
       "      <td>NaN</td>\n",
       "      <td>49110078</td>\n",
       "      <td>...</td>\n",
       "      <td>81525000</td>\n",
       "      <td>36</td>\n",
       "      <td>10359729</td>\n",
       "      <td>16</td>\n",
       "      <td>True</td>\n",
       "      <td>NaN</td>\n",
       "      <td>-300000</td>\n",
       "      <td>3600000</td>\n",
       "      <td>kenneth.lay@enron.com</td>\n",
       "      <td>123</td>\n",
       "    </tr>\n",
       "  </tbody>\n",
       "</table>\n",
       "<p>1 rows × 21 columns</p>\n",
       "</div>"
      ],
      "text/plain": [
       "                salary to_messages deferral_payments total_payments  \\\n",
       "LAY KENNETH L  1072321        4273            202911      103559793   \n",
       "\n",
       "              exercised_stock_options    bonus restricted_stock  \\\n",
       "LAY KENNETH L                34348384  7000000         14761694   \n",
       "\n",
       "              shared_receipt_with_poi restricted_stock_deferred  \\\n",
       "LAY KENNETH L                    2411                       NaN   \n",
       "\n",
       "              total_stock_value           ...           loan_advances  \\\n",
       "LAY KENNETH L          49110078           ...                81525000   \n",
       "\n",
       "              from_messages     other from_this_person_to_poi   poi  \\\n",
       "LAY KENNETH L            36  10359729                      16  True   \n",
       "\n",
       "              director_fees deferred_income long_term_incentive  \\\n",
       "LAY KENNETH L           NaN         -300000             3600000   \n",
       "\n",
       "                       email_address from_poi_to_this_person  \n",
       "LAY KENNETH L  kenneth.lay@enron.com                     123  \n",
       "\n",
       "[1 rows x 21 columns]"
      ]
     },
     "execution_count": 166,
     "metadata": {},
     "output_type": "execute_result"
    }
   ],
   "source": [
    "# who is this person?\n",
    "df[df.fillna(0).salary == 1072321]"
   ]
  },
  {
   "cell_type": "code",
   "execution_count": 167,
   "metadata": {
    "collapsed": false
   },
   "outputs": [
    {
     "data": {
      "image/png": "[encoded data removed]",
      "text/plain": [
       "<matplotlib.figure.Figure at 0x11aa93f50>"
      ]
     },
     "metadata": {},
     "output_type": "display_data"
    }
   ],
   "source": [
    "email_pos = [i for i in email_feats if i in pos_cols]\n",
    "email_neg = [i for i in email_feats if i in neg_cols]\n",
    "\n",
    "# boxplot of features\n",
    "fig,ax = plt.subplots(2,1, figsize=(12,6))\n",
    "\n",
    "sns.boxplot(features[email_neg], orient='h', ax=ax[0])\n",
    "sns.boxplot(np.sqrt(features[email_pos]), orient='h', ax=ax[1]);"
   ]
  },
  {
   "cell_type": "code",
   "execution_count": null,
   "metadata": {
    "collapsed": true
   },
   "outputs": [],
   "source": [
    "# TODO: who are these outliers\n"
   ]
  },
  {
   "cell_type": "markdown",
   "metadata": {},
   "source": [
    "Feature Selection\n",
    "---------\n",
    "\n",
    "### [Univariate feature selection using SelectKBest](http://scikit-learn.org/stable/modules/feature_selection.html#univariate-feature-selection)\n",
    "\n"
   ]
  },
  {
   "cell_type": "code",
   "execution_count": 90,
   "metadata": {
    "collapsed": false
   },
   "outputs": [
    {
     "name": "stdout",
     "output_type": "stream",
     "text": [
      "(145, 10)\n"
     ]
    },
    {
     "data": {
      "text/plain": [
       "array([  5.02085981e-01,   1.60039283e-04,   1.75234309e+00,\n",
       "         2.38995855e-01,   3.49627180e-01,   2.28267330e-01,\n",
       "         7.79489549e-02,   3.13332433e-02,   8.90421156e+00,\n",
       "         4.17324236e-03,   1.66119136e-01,   1.39775616e-02,\n",
       "         2.51826103e+00,   1.58287559e-01,   6.81947462e-02,\n",
       "         2.49633319e+00,   5.49089467e-01,   2.19505258e-01,\n",
       "         2.22293401e-02,   5.46954808e+00])"
      ]
     },
     "metadata": {},
     "output_type": "display_data"
    },
    {
     "data": {
      "text/plain": [
       "array([ 0.47973849,  0.98992413,  0.18769472,  0.62568124,  0.55525777,\n",
       "        0.63354107,  0.78049979,  0.85974944,  0.00334692,  0.9485822 ,\n",
       "        0.68419366,  0.90605391,  0.11474338,  0.69133134,  0.79435931,\n",
       "        0.11632114,  0.45990506,  0.64013053,  0.88168867,  0.02073578])"
      ]
     },
     "metadata": {},
     "output_type": "display_data"
    }
   ],
   "source": [
    "from sklearn.feature_selection import SelectKBest\n",
    "\n",
    "kbest = SelectKBest()\n",
    "X_new = kbest.fit_transform(features, labels)\n",
    "print X_new.shape\n",
    "display(kbest.scores_)\n",
    "display(kbest.pvalues_)"
   ]
  },
  {
   "cell_type": "code",
   "execution_count": 91,
   "metadata": {
    "collapsed": false
   },
   "outputs": [
    {
     "data": {
      "image/png": "[encoded data removed]",
      "text/plain": [
       "<matplotlib.figure.Figure at 0x11d0e7dd0>"
      ]
     },
     "metadata": {},
     "output_type": "display_data"
    }
   ],
   "source": [
    "# visually inspect for high scores\n",
    "plt.scatter(x=range(features.shape[1]), y=kbest.scores_);"
   ]
  },
  {
   "cell_type": "code",
   "execution_count": 92,
   "metadata": {
    "collapsed": false
   },
   "outputs": [
    {
     "name": "stdout",
     "output_type": "stream",
     "text": [
      "[ 8 19 12 15  2]\n",
      "[2, 8, 12, 15, 19]\n",
      "[ 1  9 11 18  7 14  6 13 10 17  5  3  4  0 16  2 15 12 19  8]\n"
     ]
    }
   ],
   "source": [
    "# refit with new k\n",
    "best_k = 5\n",
    "kbest = SelectKBest(k=best_k)\n",
    "X_new = kbest.fit_transform(features, labels)\n",
    "\n",
    "# find best features\n",
    "best_idx = np.argsort(kbest.scores_)[-1:(0-best_k-1):-1]\n",
    "print best_idx\n",
    "print sorted(best_idx)\n",
    "print np.argsort(kbest.scores_)"
   ]
  },
  {
   "cell_type": "code",
   "execution_count": 93,
   "metadata": {
    "collapsed": false
   },
   "outputs": [
    {
     "data": {
      "text/html": [
       "<div>\n",
       "<table border=\"1\" class=\"dataframe\">\n",
       "  <thead>\n",
       "    <tr style=\"text-align: right;\">\n",
       "      <th></th>\n",
       "      <th>to_messages</th>\n",
       "      <th>shared_receipt_with_poi</th>\n",
       "      <th>loan_advances</th>\n",
       "      <th>from_this_person_to_poi</th>\n",
       "      <th>from_poi_to_this_person</th>\n",
       "    </tr>\n",
       "  </thead>\n",
       "  <tbody>\n",
       "    <tr>\n",
       "      <th>0</th>\n",
       "      <td>2902.0</td>\n",
       "      <td>1407.0</td>\n",
       "      <td>-1.0</td>\n",
       "      <td>65.0</td>\n",
       "      <td>47.0</td>\n",
       "    </tr>\n",
       "    <tr>\n",
       "      <th>1</th>\n",
       "      <td>-1.0</td>\n",
       "      <td>-1.0</td>\n",
       "      <td>-1.0</td>\n",
       "      <td>-1.0</td>\n",
       "      <td>-1.0</td>\n",
       "    </tr>\n",
       "    <tr>\n",
       "      <th>2</th>\n",
       "      <td>566.0</td>\n",
       "      <td>465.0</td>\n",
       "      <td>-1.0</td>\n",
       "      <td>0.0</td>\n",
       "      <td>39.0</td>\n",
       "    </tr>\n",
       "    <tr>\n",
       "      <th>3</th>\n",
       "      <td>-1.0</td>\n",
       "      <td>-1.0</td>\n",
       "      <td>-1.0</td>\n",
       "      <td>-1.0</td>\n",
       "      <td>-1.0</td>\n",
       "    </tr>\n",
       "    <tr>\n",
       "      <th>4</th>\n",
       "      <td>-1.0</td>\n",
       "      <td>-1.0</td>\n",
       "      <td>-1.0</td>\n",
       "      <td>-1.0</td>\n",
       "      <td>-1.0</td>\n",
       "    </tr>\n",
       "  </tbody>\n",
       "</table>\n",
       "</div>"
      ],
      "text/plain": [
       "   to_messages  shared_receipt_with_poi  loan_advances  \\\n",
       "0       2902.0                   1407.0           -1.0   \n",
       "1         -1.0                     -1.0           -1.0   \n",
       "2        566.0                    465.0           -1.0   \n",
       "3         -1.0                     -1.0           -1.0   \n",
       "4         -1.0                     -1.0           -1.0   \n",
       "\n",
       "   from_this_person_to_poi  from_poi_to_this_person  \n",
       "0                     65.0                     47.0  \n",
       "1                     -1.0                     -1.0  \n",
       "2                      0.0                     39.0  \n",
       "3                     -1.0                     -1.0  \n",
       "4                     -1.0                     -1.0  "
      ]
     },
     "execution_count": 93,
     "metadata": {},
     "output_type": "execute_result"
    }
   ],
   "source": [
    "# look at dataframe of new feature set\n",
    "df_new = pd.DataFrame(X_new, columns=features.columns[sorted(best_idx)])\n",
    "df_new.head()"
   ]
  },
  {
   "cell_type": "markdown",
   "metadata": {},
   "source": [
    "### Look at feature correlations"
   ]
  },
  {
   "cell_type": "code",
   "execution_count": 26,
   "metadata": {
    "collapsed": false
   },
   "outputs": [
    {
     "data": {
      "image/png": "[encoded data removed]",
      "text/plain": [
       "<matplotlib.figure.Figure at 0x11cf93050>"
      ]
     },
     "metadata": {},
     "output_type": "display_data"
    }
   ],
   "source": [
    "### Task 2: Remove outliers\n",
    "\n",
    "# look at feature correlations\n",
    "corr = df_all[email_feats+['target']].corr()\n",
    "mask = np.zeros_like(corr)\n",
    "mask[np.triu_indices_from(mask)] = True\n",
    "with sns.axes_style(\"white\"):\n",
    "    ax = sns.heatmap(corr, mask=mask, square=False, annot=True, cmap='RdBu')\n",
    "    plt.xticks(rotation=45, ha='right');"
   ]
  },
  {
   "cell_type": "code",
   "execution_count": 26,
   "metadata": {
    "collapsed": false
   },
   "outputs": [
    {
     "data": {
      "image/png": "[encoded data removed]",
      "text/plain": [
       "<matplotlib.figure.Figure at 0x118ed4f10>"
      ]
     },
     "metadata": {},
     "output_type": "display_data"
    }
   ],
   "source": [
    "plt.scatter(x=df_all['shared_receipt_with_poi'], y=df_all['to_messages']);"
   ]
  },
  {
   "cell_type": "markdown",
   "metadata": {},
   "source": [
    "### [Recursive Feature Elimination (RFE)](http://scikit-learn.org/stable/modules/generated/sklearn.feature_selection.RFE.html#sklearn.feature_selection.RFE)\n"
   ]
  },
  {
   "cell_type": "code",
   "execution_count": null,
   "metadata": {
    "collapsed": true
   },
   "outputs": [],
   "source": []
  },
  {
   "cell_type": "markdown",
   "metadata": {
    "collapsed": true
   },
   "source": [
    "Create new features\n",
    "-------------------\n",
    "### [Generate polynomial and interaction features](http://scikit-learn.org/stable/modules/generated/sklearn.preprocessing.PolynomialFeatures.html)"
   ]
  },
  {
   "cell_type": "code",
   "execution_count": 154,
   "metadata": {
    "collapsed": false
   },
   "outputs": [
    {
     "name": "stdout",
     "output_type": "stream",
     "text": [
      "(146, 210)\n"
     ]
    }
   ],
   "source": [
    "from sklearn.preprocessing import PolynomialFeatures\n",
    "\n",
    "# change the polynomial degree\n",
    "deg = 2\n",
    "poly = PolynomialFeatures(deg)\n",
    "\n",
    "# use original features\n",
    "X_poly = poly.fit_transform(features)\n",
    "\n",
    "# use SelectKBest features\n",
    "#X_poly = poly.fit_transform(X_new)\n",
    "\n",
    "print X_poly.shape"
   ]
  },
  {
   "cell_type": "markdown",
   "metadata": {},
   "source": [
    "Store new features to `my_dataset`\n",
    "-----"
   ]
  },
  {
   "cell_type": "code",
   "execution_count": 54,
   "metadata": {
    "collapsed": false
   },
   "outputs": [
    {
     "name": "stdout",
     "output_type": "stream",
     "text": [
      "Features: (145, 19)\n",
      "Labels: (145,)\n"
     ]
    }
   ],
   "source": [
    "### Task 3: Create new feature(s)\n",
    "### Store to my_dataset for easy export below.\n",
    "my_dataset = data_dict\n",
    "\n",
    "### Extract features and labels from dataset for local testing\n",
    "features_list = ['poi','salary']\n",
    "features_list.extend([i for i in my_dataset.values()[0].keys() if i not in ['salary', 'poi', 'email_address']])\n",
    "\n",
    "data = featureFormat(my_dataset, features_list, sort_keys = True)\n",
    "labels, features = targetFeatureSplit(data)\n",
    "\n",
    "# Convert with pandas\n",
    "import pandas as pd\n",
    "\n",
    "labels = pd.Series(labels)\n",
    "features = pd.DataFrame(features, columns = features_list[1:])\n",
    "\n",
    "print \"Features: {}\".format(features.shape)\n",
    "print \"Labels: {}\".format(labels.shape)"
   ]
  },
  {
   "cell_type": "code",
   "execution_count": 25,
   "metadata": {
    "collapsed": false
   },
   "outputs": [
    {
     "data": {
      "text/html": [
       "<div>\n",
       "<table border=\"1\" class=\"dataframe\">\n",
       "  <thead>\n",
       "    <tr style=\"text-align: right;\">\n",
       "      <th></th>\n",
       "      <th>salary</th>\n",
       "      <th>to_messages</th>\n",
       "      <th>deferral_payments</th>\n",
       "      <th>total_payments</th>\n",
       "      <th>exercised_stock_options</th>\n",
       "      <th>bonus</th>\n",
       "      <th>restricted_stock</th>\n",
       "      <th>shared_receipt_with_poi</th>\n",
       "      <th>restricted_stock_deferred</th>\n",
       "      <th>total_stock_value</th>\n",
       "      <th>expenses</th>\n",
       "      <th>loan_advances</th>\n",
       "      <th>from_messages</th>\n",
       "      <th>other</th>\n",
       "      <th>from_this_person_to_poi</th>\n",
       "      <th>director_fees</th>\n",
       "      <th>deferred_income</th>\n",
       "      <th>long_term_incentive</th>\n",
       "      <th>from_poi_to_this_person</th>\n",
       "    </tr>\n",
       "  </thead>\n",
       "  <tbody>\n",
       "    <tr>\n",
       "      <th>0</th>\n",
       "      <td>201955</td>\n",
       "      <td>2902</td>\n",
       "      <td>2869717</td>\n",
       "      <td>4484442</td>\n",
       "      <td>1729541</td>\n",
       "      <td>4175000</td>\n",
       "      <td>126027</td>\n",
       "      <td>1407</td>\n",
       "      <td>-126027</td>\n",
       "      <td>1729541</td>\n",
       "      <td>13868</td>\n",
       "      <td>0</td>\n",
       "      <td>2195</td>\n",
       "      <td>152</td>\n",
       "      <td>65</td>\n",
       "      <td>0</td>\n",
       "      <td>-3081055</td>\n",
       "      <td>304805</td>\n",
       "      <td>47</td>\n",
       "    </tr>\n",
       "    <tr>\n",
       "      <th>1</th>\n",
       "      <td>0</td>\n",
       "      <td>0</td>\n",
       "      <td>178980</td>\n",
       "      <td>182466</td>\n",
       "      <td>257817</td>\n",
       "      <td>0</td>\n",
       "      <td>0</td>\n",
       "      <td>0</td>\n",
       "      <td>0</td>\n",
       "      <td>257817</td>\n",
       "      <td>3486</td>\n",
       "      <td>0</td>\n",
       "      <td>0</td>\n",
       "      <td>0</td>\n",
       "      <td>0</td>\n",
       "      <td>0</td>\n",
       "      <td>0</td>\n",
       "      <td>0</td>\n",
       "      <td>0</td>\n",
       "    </tr>\n",
       "    <tr>\n",
       "      <th>2</th>\n",
       "      <td>477</td>\n",
       "      <td>566</td>\n",
       "      <td>0</td>\n",
       "      <td>916197</td>\n",
       "      <td>4046157</td>\n",
       "      <td>0</td>\n",
       "      <td>1757552</td>\n",
       "      <td>465</td>\n",
       "      <td>-560222</td>\n",
       "      <td>5243487</td>\n",
       "      <td>56301</td>\n",
       "      <td>0</td>\n",
       "      <td>29</td>\n",
       "      <td>864523</td>\n",
       "      <td>0</td>\n",
       "      <td>0</td>\n",
       "      <td>-5104</td>\n",
       "      <td>0</td>\n",
       "      <td>39</td>\n",
       "    </tr>\n",
       "    <tr>\n",
       "      <th>3</th>\n",
       "      <td>267102</td>\n",
       "      <td>0</td>\n",
       "      <td>1295738</td>\n",
       "      <td>5634343</td>\n",
       "      <td>6680544</td>\n",
       "      <td>1200000</td>\n",
       "      <td>3942714</td>\n",
       "      <td>0</td>\n",
       "      <td>0</td>\n",
       "      <td>10623258</td>\n",
       "      <td>11200</td>\n",
       "      <td>0</td>\n",
       "      <td>0</td>\n",
       "      <td>2660303</td>\n",
       "      <td>0</td>\n",
       "      <td>0</td>\n",
       "      <td>-1386055</td>\n",
       "      <td>1586055</td>\n",
       "      <td>0</td>\n",
       "    </tr>\n",
       "    <tr>\n",
       "      <th>4</th>\n",
       "      <td>239671</td>\n",
       "      <td>0</td>\n",
       "      <td>260455</td>\n",
       "      <td>827696</td>\n",
       "      <td>0</td>\n",
       "      <td>400000</td>\n",
       "      <td>145796</td>\n",
       "      <td>0</td>\n",
       "      <td>-82782</td>\n",
       "      <td>63014</td>\n",
       "      <td>129142</td>\n",
       "      <td>0</td>\n",
       "      <td>0</td>\n",
       "      <td>69</td>\n",
       "      <td>0</td>\n",
       "      <td>0</td>\n",
       "      <td>-201641</td>\n",
       "      <td>0</td>\n",
       "      <td>0</td>\n",
       "    </tr>\n",
       "  </tbody>\n",
       "</table>\n",
       "</div>"
      ],
      "text/plain": [
       "   salary  to_messages  deferral_payments  total_payments  \\\n",
       "0  201955         2902            2869717         4484442   \n",
       "1       0            0             178980          182466   \n",
       "2     477          566                  0          916197   \n",
       "3  267102            0            1295738         5634343   \n",
       "4  239671            0             260455          827696   \n",
       "\n",
       "   exercised_stock_options    bonus  restricted_stock  \\\n",
       "0                  1729541  4175000            126027   \n",
       "1                   257817        0                 0   \n",
       "2                  4046157        0           1757552   \n",
       "3                  6680544  1200000           3942714   \n",
       "4                        0   400000            145796   \n",
       "\n",
       "   shared_receipt_with_poi  restricted_stock_deferred  total_stock_value  \\\n",
       "0                     1407                    -126027            1729541   \n",
       "1                        0                          0             257817   \n",
       "2                      465                    -560222            5243487   \n",
       "3                        0                          0           10623258   \n",
       "4                        0                     -82782              63014   \n",
       "\n",
       "   expenses  loan_advances  from_messages    other  from_this_person_to_poi  \\\n",
       "0     13868              0           2195      152                       65   \n",
       "1      3486              0              0        0                        0   \n",
       "2     56301              0             29   864523                        0   \n",
       "3     11200              0              0  2660303                        0   \n",
       "4    129142              0              0       69                        0   \n",
       "\n",
       "   director_fees  deferred_income  long_term_incentive  \\\n",
       "0              0         -3081055               304805   \n",
       "1              0                0                    0   \n",
       "2              0            -5104                    0   \n",
       "3              0         -1386055              1586055   \n",
       "4              0          -201641                    0   \n",
       "\n",
       "   from_poi_to_this_person  \n",
       "0                       47  \n",
       "1                        0  \n",
       "2                       39  \n",
       "3                        0  \n",
       "4                        0  "
      ]
     },
     "execution_count": 25,
     "metadata": {},
     "output_type": "execute_result"
    }
   ],
   "source": [
    "features.head()"
   ]
  },
  {
   "cell_type": "code",
   "execution_count": 56,
   "metadata": {
    "collapsed": false
   },
   "outputs": [
    {
     "data": {
      "text/html": [
       "<div>\n",
       "<table border=\"1\" class=\"dataframe\">\n",
       "  <thead>\n",
       "    <tr style=\"text-align: right;\">\n",
       "      <th></th>\n",
       "      <th>salary</th>\n",
       "      <th>to_messages</th>\n",
       "      <th>deferral_payments</th>\n",
       "      <th>total_payments</th>\n",
       "      <th>exercised_stock_options</th>\n",
       "      <th>bonus</th>\n",
       "      <th>restricted_stock</th>\n",
       "      <th>shared_receipt_with_poi</th>\n",
       "      <th>restricted_stock_deferred</th>\n",
       "      <th>total_stock_value</th>\n",
       "      <th>expenses</th>\n",
       "      <th>loan_advances</th>\n",
       "      <th>from_messages</th>\n",
       "      <th>other</th>\n",
       "      <th>from_this_person_to_poi</th>\n",
       "      <th>director_fees</th>\n",
       "      <th>deferred_income</th>\n",
       "      <th>long_term_incentive</th>\n",
       "      <th>from_poi_to_this_person</th>\n",
       "    </tr>\n",
       "  </thead>\n",
       "  <tbody>\n",
       "    <tr>\n",
       "      <th>92</th>\n",
       "      <td>365788</td>\n",
       "      <td>807</td>\n",
       "      <td>0</td>\n",
       "      <td>1061827</td>\n",
       "      <td>0</td>\n",
       "      <td>600000</td>\n",
       "      <td>585062</td>\n",
       "      <td>702</td>\n",
       "      <td>0</td>\n",
       "      <td>585062</td>\n",
       "      <td>94299</td>\n",
       "      <td>0</td>\n",
       "      <td>29</td>\n",
       "      <td>1740</td>\n",
       "      <td>1</td>\n",
       "      <td>0</td>\n",
       "      <td>0</td>\n",
       "      <td>0</td>\n",
       "      <td>38</td>\n",
       "    </tr>\n",
       "  </tbody>\n",
       "</table>\n",
       "</div>"
      ],
      "text/plain": [
       "    salary  to_messages  deferral_payments  total_payments  \\\n",
       "92  365788          807                  0         1061827   \n",
       "\n",
       "    exercised_stock_options   bonus  restricted_stock  \\\n",
       "92                        0  600000            585062   \n",
       "\n",
       "    shared_receipt_with_poi  restricted_stock_deferred  total_stock_value  \\\n",
       "92                      702                          0             585062   \n",
       "\n",
       "    expenses  loan_advances  from_messages  other  from_this_person_to_poi  \\\n",
       "92     94299              0             29   1740                        1   \n",
       "\n",
       "    director_fees  deferred_income  long_term_incentive  \\\n",
       "92              0                0                    0   \n",
       "\n",
       "    from_poi_to_this_person  \n",
       "92                       38  "
      ]
     },
     "execution_count": 56,
     "metadata": {},
     "output_type": "execute_result"
    }
   ],
   "source": [
    "features[features.expenses==94299]"
   ]
  },
  {
   "cell_type": "code",
   "execution_count": 53,
   "metadata": {
    "collapsed": false
   },
   "outputs": [
    {
     "data": {
      "text/plain": [
       "0.0"
      ]
     },
     "execution_count": 53,
     "metadata": {},
     "output_type": "execute_result"
    }
   ],
   "source": [
    "labels[92]"
   ]
  },
  {
   "cell_type": "markdown",
   "metadata": {},
   "source": [
    "## Replace nulls with -1, drop rows with all nulls"
   ]
  },
  {
   "cell_type": "code",
   "execution_count": 51,
   "metadata": {
    "collapsed": false
   },
   "outputs": [],
   "source": [
    "# create X and y\n",
    "features = df_all.drop('target', axis=1)\n",
    "labels = df_all['target']"
   ]
  },
  {
   "cell_type": "code",
   "execution_count": 52,
   "metadata": {
    "collapsed": false
   },
   "outputs": [
    {
     "data": {
      "text/html": [
       "<div>\n",
       "<table border=\"1\" class=\"dataframe\">\n",
       "  <thead>\n",
       "    <tr style=\"text-align: right;\">\n",
       "      <th></th>\n",
       "      <th>salary</th>\n",
       "      <th>to_messages</th>\n",
       "      <th>deferral_payments</th>\n",
       "      <th>total_payments</th>\n",
       "      <th>exercised_stock_options</th>\n",
       "      <th>bonus</th>\n",
       "      <th>restricted_stock</th>\n",
       "      <th>shared_receipt_with_poi</th>\n",
       "      <th>restricted_stock_deferred</th>\n",
       "      <th>total_stock_value</th>\n",
       "      <th>expenses</th>\n",
       "      <th>loan_advances</th>\n",
       "      <th>from_messages</th>\n",
       "      <th>other</th>\n",
       "      <th>from_this_person_to_poi</th>\n",
       "      <th>director_fees</th>\n",
       "      <th>deferred_income</th>\n",
       "      <th>long_term_incentive</th>\n",
       "      <th>from_poi_to_this_person</th>\n",
       "    </tr>\n",
       "  </thead>\n",
       "  <tbody>\n",
       "    <tr>\n",
       "      <th>0</th>\n",
       "      <td>201955.0</td>\n",
       "      <td>2902.0</td>\n",
       "      <td>2869717.0</td>\n",
       "      <td>4484442.0</td>\n",
       "      <td>1729541.0</td>\n",
       "      <td>4175000.0</td>\n",
       "      <td>126027.0</td>\n",
       "      <td>1407.0</td>\n",
       "      <td>-126027.0</td>\n",
       "      <td>1729541.0</td>\n",
       "      <td>13868.0</td>\n",
       "      <td>-1.0</td>\n",
       "      <td>2195.0</td>\n",
       "      <td>152.0</td>\n",
       "      <td>65.0</td>\n",
       "      <td>-1.0</td>\n",
       "      <td>-3081055.0</td>\n",
       "      <td>304805.0</td>\n",
       "      <td>47.0</td>\n",
       "    </tr>\n",
       "    <tr>\n",
       "      <th>1</th>\n",
       "      <td>-1.0</td>\n",
       "      <td>-1.0</td>\n",
       "      <td>178980.0</td>\n",
       "      <td>182466.0</td>\n",
       "      <td>257817.0</td>\n",
       "      <td>-1.0</td>\n",
       "      <td>-1.0</td>\n",
       "      <td>-1.0</td>\n",
       "      <td>-1.0</td>\n",
       "      <td>257817.0</td>\n",
       "      <td>3486.0</td>\n",
       "      <td>-1.0</td>\n",
       "      <td>-1.0</td>\n",
       "      <td>-1.0</td>\n",
       "      <td>-1.0</td>\n",
       "      <td>-1.0</td>\n",
       "      <td>-1.0</td>\n",
       "      <td>-1.0</td>\n",
       "      <td>-1.0</td>\n",
       "    </tr>\n",
       "    <tr>\n",
       "      <th>2</th>\n",
       "      <td>477.0</td>\n",
       "      <td>566.0</td>\n",
       "      <td>-1.0</td>\n",
       "      <td>916197.0</td>\n",
       "      <td>4046157.0</td>\n",
       "      <td>-1.0</td>\n",
       "      <td>1757552.0</td>\n",
       "      <td>465.0</td>\n",
       "      <td>-560222.0</td>\n",
       "      <td>5243487.0</td>\n",
       "      <td>56301.0</td>\n",
       "      <td>-1.0</td>\n",
       "      <td>29.0</td>\n",
       "      <td>864523.0</td>\n",
       "      <td>0.0</td>\n",
       "      <td>-1.0</td>\n",
       "      <td>-5104.0</td>\n",
       "      <td>-1.0</td>\n",
       "      <td>39.0</td>\n",
       "    </tr>\n",
       "    <tr>\n",
       "      <th>3</th>\n",
       "      <td>267102.0</td>\n",
       "      <td>-1.0</td>\n",
       "      <td>1295738.0</td>\n",
       "      <td>5634343.0</td>\n",
       "      <td>6680544.0</td>\n",
       "      <td>1200000.0</td>\n",
       "      <td>3942714.0</td>\n",
       "      <td>-1.0</td>\n",
       "      <td>-1.0</td>\n",
       "      <td>10623258.0</td>\n",
       "      <td>11200.0</td>\n",
       "      <td>-1.0</td>\n",
       "      <td>-1.0</td>\n",
       "      <td>2660303.0</td>\n",
       "      <td>-1.0</td>\n",
       "      <td>-1.0</td>\n",
       "      <td>-1386055.0</td>\n",
       "      <td>1586055.0</td>\n",
       "      <td>-1.0</td>\n",
       "    </tr>\n",
       "    <tr>\n",
       "      <th>4</th>\n",
       "      <td>239671.0</td>\n",
       "      <td>-1.0</td>\n",
       "      <td>260455.0</td>\n",
       "      <td>827696.0</td>\n",
       "      <td>-1.0</td>\n",
       "      <td>400000.0</td>\n",
       "      <td>145796.0</td>\n",
       "      <td>-1.0</td>\n",
       "      <td>-82782.0</td>\n",
       "      <td>63014.0</td>\n",
       "      <td>129142.0</td>\n",
       "      <td>-1.0</td>\n",
       "      <td>-1.0</td>\n",
       "      <td>69.0</td>\n",
       "      <td>-1.0</td>\n",
       "      <td>-1.0</td>\n",
       "      <td>-201641.0</td>\n",
       "      <td>-1.0</td>\n",
       "      <td>-1.0</td>\n",
       "    </tr>\n",
       "  </tbody>\n",
       "</table>\n",
       "</div>"
      ],
      "text/plain": [
       "     salary  to_messages  deferral_payments  total_payments  \\\n",
       "0  201955.0       2902.0          2869717.0       4484442.0   \n",
       "1      -1.0         -1.0           178980.0        182466.0   \n",
       "2     477.0        566.0               -1.0        916197.0   \n",
       "3  267102.0         -1.0          1295738.0       5634343.0   \n",
       "4  239671.0         -1.0           260455.0        827696.0   \n",
       "\n",
       "   exercised_stock_options      bonus  restricted_stock  \\\n",
       "0                1729541.0  4175000.0          126027.0   \n",
       "1                 257817.0       -1.0              -1.0   \n",
       "2                4046157.0       -1.0         1757552.0   \n",
       "3                6680544.0  1200000.0         3942714.0   \n",
       "4                     -1.0   400000.0          145796.0   \n",
       "\n",
       "   shared_receipt_with_poi  restricted_stock_deferred  total_stock_value  \\\n",
       "0                   1407.0                  -126027.0          1729541.0   \n",
       "1                     -1.0                       -1.0           257817.0   \n",
       "2                    465.0                  -560222.0          5243487.0   \n",
       "3                     -1.0                       -1.0         10623258.0   \n",
       "4                     -1.0                   -82782.0            63014.0   \n",
       "\n",
       "   expenses  loan_advances  from_messages      other  from_this_person_to_poi  \\\n",
       "0   13868.0           -1.0         2195.0      152.0                     65.0   \n",
       "1    3486.0           -1.0           -1.0       -1.0                     -1.0   \n",
       "2   56301.0           -1.0           29.0   864523.0                      0.0   \n",
       "3   11200.0           -1.0           -1.0  2660303.0                     -1.0   \n",
       "4  129142.0           -1.0           -1.0       69.0                     -1.0   \n",
       "\n",
       "   director_fees  deferred_income  long_term_incentive  \\\n",
       "0           -1.0       -3081055.0             304805.0   \n",
       "1           -1.0             -1.0                 -1.0   \n",
       "2           -1.0          -5104.0                 -1.0   \n",
       "3           -1.0       -1386055.0            1586055.0   \n",
       "4           -1.0        -201641.0                 -1.0   \n",
       "\n",
       "   from_poi_to_this_person  \n",
       "0                     47.0  \n",
       "1                     -1.0  \n",
       "2                     39.0  \n",
       "3                     -1.0  \n",
       "4                     -1.0  "
      ]
     },
     "metadata": {},
     "output_type": "display_data"
    },
    {
     "data": {
      "text/plain": [
       "0    0.0\n",
       "1    0.0\n",
       "2    0.0\n",
       "3    0.0\n",
       "4    0.0\n",
       "Name: target, dtype: float64"
      ]
     },
     "metadata": {},
     "output_type": "display_data"
    },
    {
     "name": "stdout",
     "output_type": "stream",
     "text": [
      "(146, 19)\n"
     ]
    }
   ],
   "source": [
    "display(features.head())\n",
    "display(labels.head())\n",
    "print features.shape"
   ]
  },
  {
   "cell_type": "code",
   "execution_count": 61,
   "metadata": {
    "collapsed": false
   },
   "outputs": [
    {
     "name": "stdout",
     "output_type": "stream",
     "text": [
      "(145, 19)\n"
     ]
    }
   ],
   "source": [
    "# remove idx 84\n",
    "features = features.drop(features.index[[84]]).reset_index()\n",
    "labels = labels.drop([84]).reset_index(drop=True)\n",
    "print features.shape"
   ]
  },
  {
   "cell_type": "markdown",
   "metadata": {},
   "source": [
    "Train classifiers\n",
    "----------------------------"
   ]
  },
  {
   "cell_type": "code",
   "execution_count": 84,
   "metadata": {
    "collapsed": true
   },
   "outputs": [],
   "source": [
    "### Task 4: Try a varity of classifiers\n",
    "### Please name your classifier clf for easy export below.\n",
    "### Note that if you want to do PCA or other multi-stage operations,\n",
    "### you'll need to use Pipelines. For more info:\n",
    "### http://scikit-learn.org/stable/modules/pipeline.html\n",
    "\n",
    "# Provided to give you a starting point. Try a variety of classifiers.\n",
    "from sklearn.naive_bayes import GaussianNB\n",
    "clf = GaussianNB()"
   ]
  },
  {
   "cell_type": "code",
   "execution_count": 85,
   "metadata": {
    "collapsed": false
   },
   "outputs": [
    {
     "name": "stdout",
     "output_type": "stream",
     "text": [
      "Training accuracy:\n",
      "0.356435643564\n",
      "Test accuracy:\n",
      "0.318181818182\n"
     ]
    }
   ],
   "source": [
    "### Task 5: Tune your classifier to achieve better than .3 precision and recall \n",
    "### using our testing script. Check the tester.py script in the final project\n",
    "### folder for details on the evaluation method, especially the test_classifier\n",
    "### function. Because of the small size of the dataset, the script uses\n",
    "### stratified shuffle split cross validation. For more info: \n",
    "### http://scikit-learn.org/stable/modules/generated/sklearn.cross_validation.StratifiedShuffleSplit.html\n",
    "\n",
    "# Example starting point. Try investigating other evaluation techniques!\n",
    "from sklearn.cross_validation import train_test_split\n",
    "X_train, X_test, y_train, y_test = train_test_split(features, labels.astype(int), stratify=labels, \n",
    "                                                    test_size=0.3, random_state=42)\n",
    "\n",
    "''' Engineered features\n",
    "# use features reduced by SelectKBest\n",
    "X_train, X_test, y_train, y_test = train_test_split(X_new, labels.astype(int), stratify=labels, \n",
    "                                                    test_size=0.25, random_state=42)\n",
    "\n",
    "# use polynomial features after SelectKBest\n",
    "X_train, X_test, y_train, y_test = train_test_split(X_poly, labels.astype(int), stratify=labels, \n",
    "                                                    test_size=0.25, random_state=42)\n",
    "'''\n",
    "\n",
    "clf.fit(X_train, y_train)\n",
    "\n",
    "print \"Training accuracy:\"\n",
    "print clf.score(X_train, y_train)\n",
    "\n",
    "print \"Test accuracy:\"\n",
    "print clf.score(X_test, y_test)\n"
   ]
  },
  {
   "cell_type": "code",
   "execution_count": 86,
   "metadata": {
    "collapsed": false
   },
   "outputs": [],
   "source": [
    "from sklearn.tree import DecisionTreeClassifier\n",
    "from sklearn.svm import SVC\n",
    "from sklearn.linear_model import LogisticRegression"
   ]
  },
  {
   "cell_type": "code",
   "execution_count": 87,
   "metadata": {
    "collapsed": false,
    "scrolled": true
   },
   "outputs": [
    {
     "name": "stdout",
     "output_type": "stream",
     "text": [
      "\n",
      "GaussianNB: \n",
      "\n",
      "Training accuracy:\n",
      "0.356435643564\n",
      "Test accuracy:\n",
      "0.318181818182\n",
      "             precision    recall  f1-score   support\n",
      "\n",
      "          0       1.00      0.23      0.38        39\n",
      "          1       0.14      1.00      0.25         5\n",
      "\n",
      "avg / total       0.90      0.32      0.36        44\n",
      "\n",
      "--------------------------------\n",
      "\n",
      "DecisionTreeClassifier: \n",
      "\n",
      "Training accuracy:\n",
      "1.0\n",
      "Test accuracy:\n",
      "0.75\n",
      "             precision    recall  f1-score   support\n",
      "\n",
      "          0       0.87      0.85      0.86        39\n",
      "          1       0.00      0.00      0.00         5\n",
      "\n",
      "avg / total       0.77      0.75      0.76        44\n",
      "\n",
      "--------------------------------\n",
      "\n",
      "SVC: \n",
      "\n",
      "Training accuracy:\n",
      "1.0\n",
      "Test accuracy:\n",
      "0.886363636364\n",
      "             precision    recall  f1-score   support\n",
      "\n",
      "          0       0.89      1.00      0.94        39\n",
      "          1       0.00      0.00      0.00         5\n",
      "\n",
      "avg / total       0.79      0.89      0.83        44\n",
      "\n",
      "--------------------------------\n",
      "\n",
      "LogisticRegression: \n",
      "\n",
      "Training accuracy:\n",
      "0.871287128713\n",
      "Test accuracy:\n",
      "0.75\n",
      "             precision    recall  f1-score   support\n",
      "\n",
      "          0       0.87      0.85      0.86        39\n",
      "          1       0.00      0.00      0.00         5\n",
      "\n",
      "avg / total       0.77      0.75      0.76        44\n",
      "\n",
      "--------------------------------\n"
     ]
    },
    {
     "name": "stderr",
     "output_type": "stream",
     "text": [
      "/Users/jjl/anaconda/lib/python2.7/site-packages/sklearn/metrics/classification.py:1074: UndefinedMetricWarning: Precision and F-score are ill-defined and being set to 0.0 in labels with no predicted samples.\n",
      "  'precision', 'predicted', average, warn_for)\n"
     ]
    }
   ],
   "source": [
    "# classification report to view precision, recall, f1 score\n",
    "from sklearn.metrics import classification_report\n",
    "\n",
    "# loop thru models, then thru train sizes\n",
    "for clf in [GaussianNB(), DecisionTreeClassifier(max_depth=None), SVC(), LogisticRegression()]:\n",
    "    print \"\\n{}: \\n\".format(clf.__class__.__name__)\n",
    "    clf.fit(X_train, y_train)\n",
    "\n",
    "    print \"Training accuracy:\"\n",
    "    print clf.score(X_train, y_train)\n",
    "\n",
    "    print \"Test accuracy:\"\n",
    "    print clf.score(X_test, y_test)\n",
    "    \n",
    "    print classification_report(y_test, clf.predict(X_test))\n",
    "    print '-'*32"
   ]
  },
  {
   "cell_type": "markdown",
   "metadata": {},
   "source": [
    "Feature importances: Decision Tree\n",
    "----"
   ]
  },
  {
   "cell_type": "code",
   "execution_count": 88,
   "metadata": {
    "collapsed": false
   },
   "outputs": [
    {
     "name": "stdout",
     "output_type": "stream",
     "text": [
      "Training accuracy:\n",
      "1.0\n",
      "Test accuracy:\n",
      "0.818181818182\n",
      "             precision    recall  f1-score   support\n",
      "\n",
      "          0       0.88      0.92      0.90        39\n",
      "          1       0.00      0.00      0.00         5\n",
      "\n",
      "avg / total       0.78      0.82      0.80        44\n",
      "\n"
     ]
    },
    {
     "data": {
      "text/plain": [
       "array([ 0.1439867 ,  0.        ,  0.15134865,  0.        ,  0.        ,\n",
       "        0.20928212,  0.        ,  0.        ,  0.        ,  0.        ,\n",
       "        0.05885781,  0.09486494,  0.        ,  0.        ,  0.06621503,\n",
       "        0.06716569,  0.        ,  0.20827905,  0.        ,  0.        ])"
      ]
     },
     "execution_count": 88,
     "metadata": {},
     "output_type": "execute_result"
    }
   ],
   "source": [
    "X_train, X_test, y_train, y_test = train_test_split(features, labels.astype(int), stratify=labels, \n",
    "                                                    test_size=0.3, random_state=42)\n",
    "\n",
    "clf = DecisionTreeClassifier()\n",
    "clf.fit(X_train, y_train)\n",
    "\n",
    "print \"Training accuracy:\"\n",
    "print clf.score(X_train, y_train)\n",
    "\n",
    "print \"Test accuracy:\"\n",
    "print clf.score(X_test, y_test)\n",
    "    \n",
    "print classification_report(y_test, clf.predict(X_test))\n",
    "\n",
    "# print the feature importances\n",
    "clf.feature_importances_"
   ]
  },
  {
   "cell_type": "code",
   "execution_count": 94,
   "metadata": {
    "collapsed": false
   },
   "outputs": [
    {
     "data": {
      "image/png": "[encoded data removed]",
      "text/plain": [
       "<matplotlib.figure.Figure at 0x11d1c5bd0>"
      ]
     },
     "metadata": {},
     "output_type": "display_data"
    }
   ],
   "source": [
    "# visually inspect for high scores\n",
    "fig, axes = plt.subplots(1,2, figsize=(10,3))\n",
    "\n",
    "axes[0].scatter(x=range(features.shape[1]), y=clf.feature_importances_)\n",
    "axes[0].set_title('Decision tree importances')\n",
    "\n",
    "axes[1].scatter(x=range(features.shape[1]), y=kbest.scores_)\n",
    "axes[1].set_title('SelectKBest scores');"
   ]
  },
  {
   "cell_type": "markdown",
   "metadata": {},
   "source": [
    "Grid Search\n",
    "-------"
   ]
  },
  {
   "cell_type": "code",
   "execution_count": 10,
   "metadata": {
    "collapsed": false
   },
   "outputs": [],
   "source": [
    "from sklearn.preprocessing import Normalizer\n",
    "\n",
    "normer = Normalizer()\n",
    "X_train = normer.fit_transform(X_train)\n",
    "X_test = normer.transform(X_test)"
   ]
  },
  {
   "cell_type": "code",
   "execution_count": null,
   "metadata": {
    "collapsed": false
   },
   "outputs": [
    {
     "name": "stderr",
     "output_type": "stream",
     "text": [
      "/Users/jjl/anaconda/lib/python2.7/site-packages/sklearn/metrics/classification.py:1074: UndefinedMetricWarning: F-score is ill-defined and being set to 0.0 due to no predicted samples.\n",
      "  'precision', 'predicted', average, warn_for)\n"
     ]
    }
   ],
   "source": [
    "from sklearn.grid_search import GridSearchCV\n",
    "from sklearn import metrics\n",
    "\n",
    "f1_scorer = metrics.make_scorer(metrics.f1_score)\n",
    "\n",
    "# Setup parameters and cross validation for model optimization through Grid Search\n",
    "parameters = {'C': [pow(2, c) for c in range (-5, 11)],\n",
    "              'gamma': [pow(2, g) for g in range (-5, 11)],\n",
    "              'kernel': ['rbf', 'poly'],\n",
    "              'degree': [2,3,4]\n",
    "             }\n",
    "\n",
    "# fit the grid object\n",
    "grid_obj = GridSearchCV(SVC(), parameters, scoring=f1_scorer, cv=8)\n",
    "grid_obj.fit(X_train, y_train)\n",
    "\n",
    "# Select the best settings for classifier\n",
    "best_clf = grid_obj.best_estimator_\n",
    "\n",
    "# Fit the algorithm to the training data\n",
    "print \"Final Model: \"\n",
    "print best_clf, \"\\n\"\n",
    "\n",
    "# Test algorithm's performance\n",
    "print \"F1 score for training set: {}\\n\".format(metrics.f1_score(best_clf.predict(X_train), y_train))\n",
    "print \"F1 score for test set: {}\\n\".format(metrics.f1_score(best_clf.predict(X_test), y_test))\n",
    "print classification_report(y_test, best_clf.predict(X_test))"
   ]
  },
  {
   "cell_type": "code",
   "execution_count": null,
   "metadata": {
    "collapsed": true
   },
   "outputs": [],
   "source": [
    "### Task 6: Dump your classifier, dataset, and features_list so anyone can\n",
    "### check your results. You do not need to change anything below, but make sure\n",
    "### that the version of poi_id.py that you submit can be run on its own and\n",
    "### generates the necessary .pkl files for validating your results.\n",
    "\n",
    "dump_classifier_and_data(clf, my_dataset, features_list)"
   ]
  },
  {
   "cell_type": "markdown",
   "metadata": {},
   "source": [
    "---"
   ]
  },
  {
   "cell_type": "markdown",
   "metadata": {},
   "source": [
    "Load the submission file 'poi_id.py'\n",
    "--------------\n",
    "\n",
    "Use command:  \n",
    "**`%load poi_id.py`**"
   ]
  },
  {
   "cell_type": "code",
   "execution_count": null,
   "metadata": {
    "collapsed": true
   },
   "outputs": [],
   "source": []
  },
  {
   "cell_type": "markdown",
   "metadata": {},
   "source": [
    "---\n",
    "\n",
    "Enron Submission Free-Response [Questions](https://docs.google.com/document/d/1NDgi1PrNJP7WTbfSUuRUnz8yzs5nGVTSzpO7oeNTEWA/pub?embedded=true)\n",
    "----------------------------------------"
   ]
  },
  {
   "cell_type": "markdown",
   "metadata": {},
   "source": [
    "*1. Summarize for us the goal of this project and how machine learning is useful in trying to accomplish it. As part of your answer, give some background on the dataset and how it can be used to answer the project question. Were there any outliers in the data when you got it, and how did you handle those?  [relevant rubric items: “data exploration”, “outlier investigation”]*\n",
    "\n",
    "**Answer**:  \n",
    "\n",
    "Enron was an energy company that at one time was one of the largest companies in the United States before going bankrupt due to widespread corporate fraud. In the resulting Federal investigation, a significant amount of typically confidential information entered into the public record, including tens of thousands of emails and detailed financial data for top executives. \n",
    "\n",
    "Using this financial and email data, we will build a classifier to identify whether or not an Enron employee was a \"persons of interest\" (POI) — individuals who were indicted, reached a settlement or plea deal with the government, or testified in exchange for prosecution immunity. The classifier will be trained on a portion of our data, using features we know about employees from the public record data (eg, salary, number of emails sent) and a label of whether an employee was a POI or not. This trained classifier will then be used on another portion of the data where we make predictions for whether an employee is a POI or not, and measure the classifier's accuracy by comparing the predictions against the actual labels of the employees.\n",
    "\n",
    "__Data Exploration__:  \n",
    "Our dataset has a total of 144 instances, with 18 that are POI's (ie, 12.5% of the data).\n",
    "Our analysis is performed with 19 features, although the dataset actually has 20 features in total (the feature \"email address\" is removed). \n",
    "We have a number of NaN (null) values which we convert to 0:\n",
    "    salary 51\n",
    "    to_messages 60\n",
    "    deferral_payments 107\n",
    "    total_payments 21\n",
    "    exercised_stock_options 44\n",
    "    bonus 64\n",
    "    restricted_stock 36\n",
    "    shared_receipt_with_poi 60\n",
    "    restricted_stock_deferred 128\n",
    "    total_stock_value 20\n",
    "    expenses 51\n",
    "    loan_advances 142\n",
    "    from_messages 60\n",
    "    other 53\n",
    "    from_this_person_to_poi 60\n",
    "    director_fees 129\n",
    "    deferred_income 97\n",
    "    long_term_incentive 80\n",
    "    email_address 35\n",
    "    from_poi_to_this_person 60\n",
    "\n",
    "\n",
    "__Outlier Investigation__:  \n",
    "There are a few outliers:\n",
    "- emails sent: some are a lot, some are a little\n",
    "- tukey outliers\n",
    "\n",
    "The outliers were handled by log transformation, and/or simply removing them using [Tukey's Method for identfying outliers](http://datapigtechnologies.com/blog/index.php/highlighting-outliers-in-your-data-with-the-tukey-method/) -- outliers sit beyond 1.5 times the interquartile range (range from 25th percentile to 75th percentile).\n"
   ]
  },
  {
   "cell_type": "markdown",
   "metadata": {},
   "source": [
    "---\n",
    "*2. What features did you end up using in your POI identifier, and what selection process did you use to pick them? Did you have to do any scaling? Why or why not? As part of the assignment, you should attempt to engineer your own feature that does not come ready-made in the dataset -- explain what feature you tried to make, and the rationale behind it. (You do not necessarily have to use it in the final analysis, only engineer and test it.) In your feature selection step, if you used an algorithm like a decision tree, please also give the feature importances of the features that you use, and if you used an automated feature selection function like SelectKBest, please report the feature scores and reasons for your choice of parameter values.  [relevant rubric items: “create new features”, “properly scale features”, “intelligently select feature”]*\n",
    "\n",
    "**Answer**:  \n",
    "First the features were scaled and/or normalized. \n",
    "\n",
    "Removed features based select K best, [low variance](http://scikit-learn.org/stable/modules/feature_selection.html). Trying to reduce the dimensionality of the data. `SelectKBest` feature score were as follows:\n",
    "- kbest feature score\n",
    "\n",
    "Created new features based on PCA dimensionality reduction and clustering.\n",
    "\n",
    "Below are the feature importances of the random forest:\n",
    "- feature importance\n"
   ]
  },
  {
   "cell_type": "markdown",
   "metadata": {},
   "source": [
    "---\n",
    "*3. What algorithm did you end up using? What other one(s) did you try? How did model performance differ between algorithms?  [relevant rubric item: “pick an algorithm”]*\n",
    "\n",
    "\n",
    "**Answer**:  \n",
    "Naive Bayes:\n",
    "- high bias classifier\n",
    "\n",
    "SVM:\n",
    "- good for high dimension data\n",
    "\n",
    "Decision Tree:\n",
    "- look at feature importances\n"
   ]
  },
  {
   "cell_type": "markdown",
   "metadata": {},
   "source": [
    "---\n",
    "*4. What does it mean to tune the parameters of an algorithm, and what can happen if you don’t do this well?  How did you tune the parameters of your particular algorithm? (Some algorithms do not have parameters that you need to tune -- if this is the case for the one you picked, identify and briefly explain how you would have done it for the model that was not your final choice or a different model that does utilize parameter tuning, e.g. a decision tree classifier).  [relevant rubric item: “tune the algorithm”]*\n",
    "\n",
    "**Answer**:  \n",
    "Algorithm have parameters that can affect performance. Default parameters for many [sklearn estimators were benchmarked](http://partiallyderivative.com/podcast/2016/06/27/randy-olson-interview) with the [MNIST](http://yann.lecun.com/exdb/mnist/) dataset, which isn't necessarily translatable to predicting other types of data and datasets (also see [new project to create sklearn benchmarks](https://github.com/rhiever/sklearn-benchmarks)).\n",
    "\n",
    "Used grid search to tune the model.\n",
    "\n",
    "Also experiemnts with TPOT to generate pipeline.\n"
   ]
  },
  {
   "cell_type": "markdown",
   "metadata": {},
   "source": [
    "---\n",
    "*5. *What is validation, and what’s a classic mistake you can make if you do it wrong? How did you validate your analysis?  [relevant rubric item: “validation strategy”] Give at least 2 evaluation metrics and your average performance for each of them.  Explain an interpretation of your metrics that says something human-understandable about your algorithm’s performance. [relevant rubric item: “usage of evaluation metrics”]*\n",
    "\n",
    "**Answer**:  \n",
    "Validate using GridSearchCV. Classic mistake is running the grid search on full dataset rather than just training data.\n",
    "\n",
    "Evaluated models looking at precision, recall, F1 score.\n",
    "\n",
    "Explaining the metrics:\n",
    "- Precision allows us to measure how accurate the model is when it actually predicts that an individual is a POI. Equal to number of correct hits divided by total guesses that a person is a POI.\n",
    "\n",
    "- Recall shows how many of the POI's we identified out of all the POI's that exist. Equal to number of correct hits divided by total POI's that exist.\n",
    "\n",
    "- F1 score gives an interpretation of precision and recall together so that we balance the ability to make accurate predictions (precision) vs not missing out on identifying possible POI's (recall). Equal to 2 times the product of precision and recall, divided by sum of precision and recall. \n",
    "\n",
    "$F_1 = 2 \\times \\frac{(Precision)(Recall)}{Precision + Recall} $\n"
   ]
  },
  {
   "cell_type": "markdown",
   "metadata": {
    "collapsed": true
   },
   "source": [
    "---\n",
    "I hereby confirm that this submission is my work. I have cited above the origins of any parts of the submission that were taken from Websites, books, forums, blog posts, github repositories, etc.\n",
    "\n",
    "---"
   ]
  },
  {
   "cell_type": "code",
   "execution_count": null,
   "metadata": {
    "collapsed": true
   },
   "outputs": [],
   "source": []
  }
 ],
 "metadata": {
  "kernelspec": {
   "display_name": "Python 2",
   "language": "python",
   "name": "python2"
  },
  "language_info": {
   "codemirror_mode": {
    "name": "ipython",
    "version": 2
   },
   "file_extension": ".py",
   "mimetype": "text/x-python",
   "name": "python",
   "nbconvert_exporter": "python",
   "pygments_lexer": "ipython2",
   "version": "2.7.11"
  }
 },
 "nbformat": 4,
 "nbformat_minor": 0
}
